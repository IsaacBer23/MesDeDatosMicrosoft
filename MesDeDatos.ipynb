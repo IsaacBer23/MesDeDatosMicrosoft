{
  "nbformat": 4,
  "nbformat_minor": 0,
  "metadata": {
    "colab": {
      "provenance": [],
      "authorship_tag": "ABX9TyMgWDGVEeluP68nZ0qVgW3r",
      "include_colab_link": true
    },
    "kernelspec": {
      "name": "python3",
      "display_name": "Python 3"
    },
    "language_info": {
      "name": "python"
    }
  },
  "cells": [
    {
      "cell_type": "markdown",
      "metadata": {
        "id": "view-in-github",
        "colab_type": "text"
      },
      "source": [
        "<a href=\"https://colab.research.google.com/github/IsaacBer23/MesDeDatosMicrosoft/blob/main/MesDeDatos.ipynb\" target=\"_parent\"><img src=\"https://colab.research.google.com/assets/colab-badge.svg\" alt=\"Open In Colab\"/></a>"
      ]
    },
    {
      "cell_type": "markdown",
      "source": [
        "# Mes de datos"
      ],
      "metadata": {
        "id": "W9DIuhRZZM5v"
      }
    },
    {
      "cell_type": "markdown",
      "source": [
        "##Introduccion Git\n",
        "\n",
        "Investigar el comando:\n",
        "\n",
        "```\n",
        "git commit --amend --no-edit\n",
        "```\n",
        "Validar configuracion de user.name y user.email;\n",
        "```\n",
        "git config --list\n",
        "```\n",
        "Inicializar git dando un nombre a la rama principal:\n",
        "```\n",
        "git init --initial-branch=main\n",
        "```\n",
        "Para obtener ayuda de un comando especifico:\n",
        "```\n",
        "git <commad> --help\n",
        "git commit --help\n",
        "```\n",
        "\n",
        "\n"
      ],
      "metadata": {
        "id": "4R-iDG2TZQyR"
      }
    },
    {
      "cell_type": "markdown",
      "source": [
        "## Introduccion GitHub\n",
        "\n",
        "**Solicitudes de incorporación de cambios:**\n",
        "\n",
        "Es un mecanismo que sirve para indicar que las confirmaciones de una rama estan listas para combinarse en otra. Normalmente se solicita a uno o a varios revisores que compurben el codigo y aprueben la combinación\n",
        "\n",
        "**Acciones:**\n",
        "\n",
        "Las acciones de GitHub proporcionan funcionalidad de flujo de trabajo y automatización de tareas en un repositorio. Las acciones se pueden usar para simplificar los procesos del ciclo de vida de desarrollo de software e implementar la integración y la implementación continuas (CI/CD).\n",
        "\n",
        "Acciones de GitHub se compone de lo siguiente:\n",
        "\n",
        "Flujos de trabajo: procesos automatizados que se han agregado al repositorio.\n",
        "Eventos: actividades que desencadenan un flujo de trabajo.\n",
        "Trabajos: conjunto de pasos que se ejecutan en un ejecutor.\n",
        "Pasos: tarea que puede ejecutar uno o varios comandos (acciones).\n",
        "Acciones: comandos independientes que se pueden combinar en pasos. Se pueden combinar varios pasos para crear un trabajo.\n",
        "Ejecutores: servidor que tiene instalada la aplicación de ejecutor de Acciones de GitHub.\n",
        "\n",
        "\n",
        "**GitHub Pages:**\n",
        "\n",
        "GitHub Pages es un motor de hospedaje que está integrado directamente en la cuenta de GitHub. Si sigue una serie de convenciones y habilita la característica, puede crear su propio sitio estático generado a partir de código HTML y Markdown extraído directamente del repositorio."
      ],
      "metadata": {
        "id": "2itYgWT1kR1o"
      }
    },
    {
      "cell_type": "markdown",
      "source": [
        "##Uso de cadenas en Python"
      ],
      "metadata": {
        "id": "v1CrHXOwj_ao"
      }
    },
    {
      "cell_type": "markdown",
      "source": [
        "Las cadenas en python son inmutables\n",
        "\n",
        "Si una cadena tiene comillas dobles es mejor usar comillas simples, ejemplo:\n",
        "\n",
        "```\n",
        "'The \"near side\" is the part of the Moon that faces the Earth'\n",
        "```\n",
        "\n",
        "Si contiene un apostrofe usa comillas dobles:\n",
        "\n",
        "```\n",
        "\"We only see about 60% of the Moon's surface\"\n",
        "```\n",
        "\n",
        "Si se tienen comillas y apostrofes puedes usar comillas triples para evitar problemas con el interprete:\n",
        "\n",
        "```\n",
        "\"\"\"We only see about 60% of the Moon's surface, this is known as the \"near side\".\"\"\"\n",
        "```\n",
        "\n",
        "Hay diferentes maneras de definir varias líneas de texto como una sola variable. Las más comunes son las siguientes:\n",
        "\n",
        "* Usar un carácter de nueva línea (\\n).\n",
        "* Usar comillas triples (\"\"\").\n",
        "\n",
        "```\n",
        ">>> multiline = \"Facts about the Moon:\\n There is no atmosphere.\\n There is no sound.\"\n",
        ">>> print(multiline)\n",
        "Facts about the Moon:\n",
        " There is no atmosphere.\n",
        " There is no sound.\n",
        "```\n",
        "\n",
        "```\n",
        ">>> multiline = \"\"\"Facts about the Moon:\n",
        "...  There is no atmosphere.\n",
        "...  There is no sound.\"\"\"\n",
        ">>> print(multiline)\n",
        "Facts about the Moon:\n",
        " There is no atmosphere.\n",
        " There is no sound\n",
        "```"
      ],
      "metadata": {
        "id": "yMk93NpckCug"
      }
    },
    {
      "cell_type": "markdown",
      "source": [
        "###Metodos de cadena\n",
        "\n",
        "Un método de cadena común es *.split()*. Sin argumentos, el método separará la cadena en cada espacio. Esto crearía una lista de todas las palabras o números separados por un espacio:"
      ],
      "metadata": {
        "id": "3SqPgqFHllPD"
      }
    },
    {
      "cell_type": "code",
      "source": [
        "temperatures = \"\"\"Daylight: 260 F\n",
        "... Nighttime: -280 F\"\"\"\n",
        "temperatures.split()"
      ],
      "metadata": {
        "colab": {
          "base_uri": "https://localhost:8080/"
        },
        "id": "OlTpLS6hlvQ4",
        "outputId": "2939a522-9c1b-48a1-8c60-b7639073534e"
      },
      "execution_count": null,
      "outputs": [
        {
          "output_type": "execute_result",
          "data": {
            "text/plain": [
              "['Daylight:', '260', 'F', 'Nighttime:', '-280', 'F']"
            ]
          },
          "metadata": {},
          "execution_count": 1
        }
      ]
    },
    {
      "cell_type": "code",
      "source": [
        "temperatures = \"\"\"Daylight: 260 F\n",
        "... Nighttime: -280 F\"\"\"\n",
        "temperatures .split('\\n')"
      ],
      "metadata": {
        "colab": {
          "base_uri": "https://localhost:8080/"
        },
        "id": "mtdb32GPmJjl",
        "outputId": "e27ca84e-b7d3-4c22-d075-4e67637d7f4e"
      },
      "execution_count": null,
      "outputs": [
        {
          "output_type": "execute_result",
          "data": {
            "text/plain": [
              "['Daylight: 260 F', 'Nighttime: -280 F']"
            ]
          },
          "metadata": {},
          "execution_count": 2
        }
      ]
    },
    {
      "cell_type": "markdown",
      "source": [
        "**Busqueda en cadenas:** \n",
        "\n",
        "Se pueden buscar cohensidencias en cadenas con el operador **in**\n",
        "\n",
        "```\n",
        ">>> \"Moon\" in \"This text will describe facts and challenges with space travel\"\n",
        "False\n",
        ">>> \"Moon\" in \"This text will describe facts about the Moon\"\n",
        "True\n",
        "```\n",
        "\n",
        "para saber la posicion de una palabra con el metodo *.find()*\n",
        "\n",
        "```\n",
        ">>> temperatures = \"\"\"Saturn has a daytime temperature of -170 degrees Celsius,\n",
        "... while Mars has -28 Celsius.\"\"\"\n",
        ">>> temperatures.find(\"Moon\")\n",
        "-1\n",
        "```\n",
        "\n",
        "para saber las veces que se repite una cadena, el metodo *.count()*\n",
        "\n",
        "```\n",
        ">>> temperatures.count(\"Mars\")\n",
        "1\n",
        ">>> temperatures.count(\"Moon\")\n",
        "0\n",
        "```\n",
        "\n",
        "\n",
        "*Sugerencia*\n",
        "\n",
        "*Al buscar y comprobar contenido, un enfoque más sólido consiste es convertir en minúsculas una cadena para que el uso de mayúsculas y minúsculas no impida una coincidencia. Por ejemplo, si va a contar el número de veces que aparece la palabra the, el método no contaría las veces en las que aparece The, aunque las dos sean la misma palabra. Puede usar el método .lower() para cambiar todos los caracteres a minúsculas.*\n",
        "\n",
        "Los metodos .isnumeric(), .isdecimal() puede buscar cadenas que parezcan decimales.\n",
        "\n",
        "```\n",
        ">>> mars_temperature = \"The highest temperature on Mars is about 30 C\"\n",
        ">>> for item in mars_temperature.split():\n",
        "...     if item.isnumeric():\n",
        "...         print(item)\n",
        "...\n",
        "30\n",
        "```\n",
        "\n",
        "**Importante**\n",
        "\n",
        "**Le sorprenderá saber que \"-70\".isnumeric() devolverá False. Esto se debe a que todos los caracteres de la cadena tendrían que ser numéricos y el guión (-) no lo es. Si tiene que comprobar números negativos en una cadena, el método .isnumeric() no funcionará.**\n",
        "\n",
        "\n",
        "Puede usar el método *.replace()* para buscar y reemplazar repeticiones de un carácter o grupo de caracteres:\n",
        "\n",
        "```\n",
        ">>> \"Saturn has a daytime temperature of -170 degrees Celsius, while Mars has -28 Celsius.\".replace(\"Celsius\", \"C\")\n",
        "'Saturn has a daytime temperature of -170 degrees C, while Mars has -28 C.'\n",
        "```\n",
        "\n",
        "Después de dividir el texto y realizar las transformaciones, es posible que tenga que volver a ensamblar todas las piezas. Al igual que el método .split() puede separar caracteres, el método .join() puede volver a agruparlos.\n",
        "\n",
        "El método .join() necesita un elemento iterable (como una lista de Python) como argumento, por lo que su uso es diferente al de otros métodos de cadena:\n",
        "\n",
        "```\n",
        ">>> moon_facts = [\"The Moon is drifting away from the Earth.\", \"On average, the Moon is moving about 4cm every year\"]\n",
        ">>> '\\n'.join(moon_facts)\n",
        "'The Moon is drifting away from the Earth.\\nOn average, the Moon is moving about 4cm every year'\n",
        "```\n",
        "\n",
        "**Formato**\n",
        "\n",
        "El método .format() usa llaves ({}) como marcadores de posición dentro de una cadena y utiliza la asignación de variables para reemplazar texto.\n",
        "\n",
        "```\n",
        ">>> mass_percentage = \"1/6\"\n",
        ">>> print(\"On the Moon, you would weigh about {} of your weight on Earth\".format(mass_percentage))\n",
        "On the Moon, you would weigh about 1/6 of your weight on Earth\n",
        "```\n",
        "```\n",
        ">>> print(\"\"\"You are lighter on the {0}, because on the {0} \n",
        "... you would weigh about {1} of your weight on Earth\"\"\".format(\"Moon\", mass_percentage))\n",
        "You are lighter on the Moon, because on the Moon you would weigh about 1/6 of your weight on Earth\n",
        "```\n",
        "```\n",
        ">>> print(\"\"\"You are lighter on the {moon}, because on the {moon} \n",
        "... you would weigh about {mass} of your weight on Earth\"\"\".format(moon=\"Moon\", mass=mass_percentage))\n",
        "You are lighter on the Moon, because on the Moon you would weigh about 1/6 of your weight on Earth\n",
        "```\n",
        "\n",
        "**f-strings**\n",
        "\n",
        "A partir de la versión 3.6 de Python, es posible usar f-strings. Estas cadenas parecen plantillas y usan los nombres de variable del código. El uso de f-strings en el ejemplo anterior tendría el siguiente aspecto:\n",
        "\n"
      ],
      "metadata": {
        "id": "NLtWZQuamenw"
      }
    },
    {
      "cell_type": "code",
      "source": [
        "mass_percentage=\"1/6\"\n",
        "print(f\"On the Moon, you would weigh about {mass_percentage} of your weight on Earth\")\n"
      ],
      "metadata": {
        "colab": {
          "base_uri": "https://localhost:8080/"
        },
        "id": "LsTVX3bNtVpI",
        "outputId": "45eac888-d835-4aa2-fd6e-66d490c35a1e"
      },
      "execution_count": null,
      "outputs": [
        {
          "output_type": "stream",
          "name": "stdout",
          "text": [
            "On the Moon, you would weigh about 1/6 of your weight on Earth\n"
          ]
        }
      ]
    },
    {
      "cell_type": "markdown",
      "source": [
        "##Operaciones matematicas\n",
        "\n",
        "Orden de las operaciones\n",
        "Python respeta el orden de las operaciones en matemáticas. El orden de las operaciones determina que las expresiones se deben evaluar en este orden:\n",
        "\n",
        "1. Paréntesis\n",
        "2. Exponentes\n",
        "3. Multiplicación y división\n",
        "4. Suma y resta"
      ],
      "metadata": {
        "id": "Jea52Lutwrb3"
      }
    },
    {
      "cell_type": "markdown",
      "source": [
        "##Listas en Python"
      ],
      "metadata": {
        "id": "U1zueBM_0ErL"
      }
    },
    {
      "cell_type": "markdown",
      "source": [
        "**Incorporación de valores a listas**\n",
        "\n",
        "Las listas de Python son dinámicas: puede agregar y quitar elementos después de crearlas. Para agregar un elemento a una lista, use el método **.append(value)**.\n",
        "\n",
        "```\n",
        "planets = [\"Mercury\", \"Venus\", \"Earth\", \"Mars\", \"Jupiter\", \"Saturn\", \"Uranus\", \"Neptune\"]\n",
        "planets.append(\"Pluto\")\n",
        "number_of_planets = len(planets)\n",
        "print(\"There are actually\", number_of_planets, \"planets in the solar system.\")\n",
        "\n",
        "# Output:\n",
        "# There are actually 9 planets in the solar system.\n",
        "```\n",
        "\n",
        "**Eliminación de valores de listas**\n",
        "\n",
        "Puede quitar el último elemento de una lista llamando al método *.pop()* en la variable de lista:\n",
        "\n",
        "```\n",
        "planets.pop()  # Goodbye, Pluto\n",
        "number_of_planets = len(planets)\n",
        "print(\"No, there are definitely\", number_of_planets, \"planets in the solar system.\")\n",
        "```\n",
        "\n",
        "**Uso de min() y max() con listas**\n",
        "\n",
        "Python tiene funciones integradas para calcular los números más grandes y más pequeños de una lista. La función *max()* devuelve el número más grande y *min()* devuelve el más pequeño.\n",
        "\n",
        "\n",
        "**Segmentación de listas**\n",
        "\n",
        "Puede recuperar una parte de una lista mediante una segmentación. Una segmentación usa corchetes, pero en lugar de un solo elemento, tiene los índices inicial y final. Cuando se usa una segmentación, se crea una lista que comienza en el índice inicial y termina antes del índice final (y no lo incluye.\n",
        "\n",
        "La lista de planetas tiene ocho elementos. La Tierra es el tercero de la lista. Para mostrar los planetas que hay antes de la Tierra, use una segmentación a fin de obtener los elementos que empiezan en 0 y terminan en 2:\n",
        "\n",
        "```\n",
        "planets = [\"Mercury\", \"Venus\", \"Earth\", \"Mars\", \"Jupiter\", \"Saturn\", \"Uranus\", \"Neptune\"]\n",
        "planets_before_earth = planets[0:2]\n",
        "print(planets_before_earth)\n",
        "\n",
        "# Output: ['Mercury', 'Venus']\n",
        "```\n",
        "\n",
        "\n",
        "**Combinación de listas**\n",
        "\n",
        "Ha visto cómo puede usar segmentaciones para dividir listas, pero ¿qué sucede con unirlas de nuevo?\n",
        "\n",
        "Para unir dos listas, debe usar el otro operador (+) con dos listas para devolver una nueva.\n",
        "\n",
        "```\n",
        "amalthea_group = [\"Metis\", \"Adrastea\", \"Amalthea\", \"Thebe\"]\n",
        "galilean_moons = [\"Io\", \"Europa\", \"Ganymede\", \"Callisto\"]\n",
        "\n",
        "regular_satellite_moons = amalthea_group + galilean_moons\n",
        "print(\"The regular satellite moons of Jupiter are\", regular_satellite_moons)\n",
        "\n",
        "# Output\n",
        "# The regular satellite moons of Jupiter are ['Metis', 'Adrastea', 'Amalthea', 'Thebe', 'Io', 'Europa', 'Ganymede', 'Callisto']\n",
        "```\n"
      ],
      "metadata": {
        "id": "_bRxOKJp0I-i"
      }
    },
    {
      "cell_type": "markdown",
      "source": [
        "## Administración de datos con diccionarios de Python"
      ],
      "metadata": {
        "id": "HLZc87wf4NXx"
      }
    },
    {
      "cell_type": "markdown",
      "source": [
        "**Lectura de valores de diccionario:**\n",
        "\n",
        "```\n",
        "wibble = planet.get('wibble') # Returns None\n",
        "wibble = planet['wibble'] # Throws KeyError\n",
        "```\n",
        "\n",
        "**Modificar valores de un diccionario:**\n",
        "\n",
        "```\n",
        "# Using update\n",
        "planet.update({\n",
        "    'name': 'Jupiter',\n",
        "    'moons': 79\n",
        "})\n",
        "\n",
        "# Using square brackets\n",
        "planet['name'] = 'Jupiter'\n",
        "planet['moons'] = 79\n",
        "```\n",
        "\n",
        "**Adición y eliminación de claves:**\n",
        "\n",
        "Adición:\n",
        "```\n",
        "planet['orbital period'] = 4333\n",
        "\n",
        "# planet dictionary now contains: {\n",
        "#   name: 'jupiter'\n",
        "#   moons: 79\n",
        "#   orbital period: 4333\n",
        "# }\n",
        "```\n",
        "\n",
        "Eliminación:\n",
        "```\n",
        "planet.pop('orbital period')\n",
        "\n",
        "# planet dictionary now contains: {\n",
        "#   name: 'jupiter'\n",
        "#   moons: 79\n",
        "# }\n",
        "```\n",
        "\n",
        "**Tipos de data complejos**\n",
        "\n",
        "```\n",
        "# Add address\n",
        "planet['diameter (km)'] = {\n",
        "    'polar': 133709,\n",
        "    'equatorial': 142984\n",
        "}\n",
        "\n",
        "# planet dictionary now contains: {\n",
        "#   name: 'Jupiter'\n",
        "#   moons: 79\n",
        "#   diameter (km): {\n",
        "#      polar: 133709\n",
        "#      equatorial: 142984\n",
        "#   }\n",
        "# }\n",
        "```\n",
        "\n",
        "Para recuperar valores en un diccionario anidado, debe encadenar corchetes o llamadas a **get.**\n",
        "\n",
        "```\n",
        "print(f'{planet[\"name\"]} polar diameter: {planet[\"diameter (km)\"][\"polar\"]}')\n",
        "\n",
        "# Output: Jupiter polar diameter: 133709\n",
        "```"
      ],
      "metadata": {
        "id": "0H-EnQXk4Qil"
      }
    },
    {
      "cell_type": "markdown",
      "source": [
        "**Recuperación de todas las claves y valores:**\n",
        "\n",
        "El método **keys()** devuelve un objeto de lista que contiene todas las claves. Puede usar este método para iterar por todos los elementos del diccionario.\n",
        "\n",
        "Imagine que tiene el siguiente diccionario, en el que se almacenan los últimos tres meses de precipitaciones."
      ],
      "metadata": {
        "id": "WYLKtfR7_2Mn"
      }
    },
    {
      "cell_type": "code",
      "source": [
        "rainfall = {\n",
        "    'october': 3.5,\n",
        "    'november': 4.2,\n",
        "    'december': 2.1\n",
        "}\n",
        "\n",
        "for key in rainfall.keys():\n",
        "    print(f'{key}: {rainfall[key]}cm')\n",
        "\n",
        "# Output:\n",
        "# october: 3.5cm\n",
        "# november: 4.2cm\n",
        "# december: 2.1cm"
      ],
      "metadata": {
        "colab": {
          "base_uri": "https://localhost:8080/"
        },
        "id": "b1-BqbP3AExM",
        "outputId": "de7527fd-2485-4585-e5a9-b675bb4c7082"
      },
      "execution_count": null,
      "outputs": [
        {
          "output_type": "stream",
          "name": "stdout",
          "text": [
            "october: 3.5cm\n",
            "november: 4.2cm\n",
            "december: 2.1cm\n"
          ]
        }
      ]
    },
    {
      "cell_type": "markdown",
      "source": [
        "## Funciones en Python"
      ],
      "metadata": {
        "id": "7I9TGwRqDSIv"
      }
    },
    {
      "cell_type": "markdown",
      "source": [
        "**Uso de argumentos de palabra clave en Python**"
      ],
      "metadata": {
        "id": "rXVH4GN5DZKD"
      }
    },
    {
      "cell_type": "code",
      "source": [
        "from datetime import timedelta, datetime\n",
        "\n",
        "def arrival_time(hours=51):\n",
        "    now = datetime.now()\n",
        "    arrival = now + timedelta(hours=hours)\n",
        "    return arrival.strftime(\"Arrival: %A %H:%M\")\n",
        "\n",
        "def arrival_time2(destination, hours=51):\n",
        "    now = datetime.now()\n",
        "    arrival = now + timedelta(hours=hours)\n",
        "    return arrival.strftime(f\"{destination} Arrival 2: %A %H:%M\")\n",
        "\n",
        "\n",
        "print(arrival_time())\n",
        "print(arrival_time(0))\n",
        "print(arrival_time2('Marte'))\n",
        "print(arrival_time2('Jupiter',0))\n",
        "\n"
      ],
      "metadata": {
        "colab": {
          "base_uri": "https://localhost:8080/"
        },
        "id": "D5c6xbsrDcyb",
        "outputId": "c273ce4a-654a-4f17-cab9-2af3909b3f41"
      },
      "execution_count": null,
      "outputs": [
        {
          "output_type": "stream",
          "name": "stdout",
          "text": [
            "Arrival: Friday 19:31\n",
            "Arrival: Wednesday 16:31\n",
            "Marte Arrival 2: Friday 19:31\n",
            "Jupiter Arrival 2: Wednesday 16:31\n"
          ]
        }
      ]
    },
    {
      "cell_type": "markdown",
      "source": [
        "**Multiples argumentos de palabra clave**"
      ],
      "metadata": {
        "id": "qDhPhciMEpWE"
      }
    },
    {
      "cell_type": "code",
      "source": [
        "def sequence_time(*args):\n",
        "    total_minutes = sum(args)\n",
        "    if total_minutes < 60:\n",
        "        return f\"Total time to launch is {total_minutes} minutes\"\n",
        "    else:\n",
        "        return f\"Total time to launch is {total_minutes/60} hours\"\n",
        "\n",
        "print(sequence_time(4, 14, 18))\n",
        "print(sequence_time(4, 14, 48, 28))\n"
      ],
      "metadata": {
        "colab": {
          "base_uri": "https://localhost:8080/"
        },
        "id": "PRNMrb0nEtzR",
        "outputId": "de643bca-4992-4db7-aa00-a3332521b38e"
      },
      "execution_count": null,
      "outputs": [
        {
          "output_type": "stream",
          "name": "stdout",
          "text": [
            "Total time to launch is 36 minutes\n",
            "Total time to launch is 1.5666666666666667 hours\n"
          ]
        }
      ]
    },
    {
      "cell_type": "markdown",
      "source": [
        "Para que una función acepte cualquier número de argumentos de palabra clave,debe usar una sintaxis similar. En este caso, se requiere un asterisco doble:"
      ],
      "metadata": {
        "id": "aeOmRZ_XFSM0"
      }
    },
    {
      "cell_type": "code",
      "source": [
        "def variable_length(**kwargs):\n",
        "    print(kwargs)\n",
        "\n",
        "print(variable_length(tanks=1, day=\"Wednesday\", pilots=3))"
      ],
      "metadata": {
        "colab": {
          "base_uri": "https://localhost:8080/"
        },
        "id": "qDICVIUKFWE-",
        "outputId": "b5224e8a-bb84-49ca-91e6-dc09387d495d"
      },
      "execution_count": null,
      "outputs": [
        {
          "output_type": "stream",
          "name": "stdout",
          "text": [
            "{'tanks': 1, 'day': 'Wednesday', 'pilots': 3}\n",
            "None\n"
          ]
        }
      ]
    },
    {
      "cell_type": "code",
      "source": [
        "def crew_members(**kwargs):\n",
        "    print(f\"{len(kwargs)} astronauts assigned for this mission:\")\n",
        "    for title, name in kwargs.items():\n",
        "        print(f\"{title}: {name}\")\n",
        "\n",
        "crew_members(captain=\"Neil Armstrong\", pilot=\"Buzz Aldrin\", command_pilot=\"Michael Collins\")"
      ],
      "metadata": {
        "colab": {
          "base_uri": "https://localhost:8080/"
        },
        "id": "MXh7QETHFwtW",
        "outputId": "e4ebfd47-caaa-4da2-c8e5-f63a910940d2"
      },
      "execution_count": null,
      "outputs": [
        {
          "output_type": "stream",
          "name": "stdout",
          "text": [
            "3 astronauts assigned for this mission:\n",
            "captain: Neil Armstrong\n",
            "pilot: Buzz Aldrin\n",
            "command_pilot: Michael Collins\n"
          ]
        }
      ]
    },
    {
      "cell_type": "markdown",
      "source": [
        "##Introducción a Transact-SQL"
      ],
      "metadata": {
        "id": "3pYTdf3xG5wu"
      }
    },
    {
      "cell_type": "markdown",
      "source": [
        "Las instrucciones SQL básicas, como **SELECT**,**INSERT**,**UPDATE** y **DELETE** están disponibles independientemente del sistema de base de datos relacional con el que trabaje. Aunque estas instrucciones SQL son parte del estándar SQL de ANSI, muchos sistemas de administración de bases de datos también tienen sus propias extensiones. Estas extensiones proporcionan una funcionalidad que no se incluye en el estándar de SQL y contienen áreas como la administración de la seguridad y la capacidad de programación. Los sistemas de base de datos de Microsoft, como SQL Server, Azure SQL Database, Azure Synapse Analytics y otros, usan un dialecto de SQL denominado **Transact-SQL** o **T-SQL**. \n",
        "\n",
        "**T-SQL** incluye extensiones de lenguaje para escribir procedimientos almacenados y funciones, que son código de aplicación almacenado en la base de datos, y administrar cuentas de usuario."
      ],
      "metadata": {
        "id": "qhTt8OONG8KN"
      }
    },
    {
      "cell_type": "markdown",
      "source": [
        "En cualquier dialecto de SQL, las instrucciones SQL se agrupan en varios tipos diferentes de instrucciones. Estos distintos tipos son:\n",
        "\n",
        "**Lenguaje de manipulación de datos (DML):** que es el conjunto de instrucciones SQL que se centra en consultar y modificar datos. Las instrucciones DML incluyen SELECT, el punto central de este entrenamiento, y las instrucciones de modificación como INSERT, UPDATE y DELETE.\n",
        "\n",
        "**Lenguaje de definición de datos (DDL)**, que es el conjunto de instrucciones SQL que controla la definición y el ciclo de vida de los objetos de base de datos, como tablas, vistas y procedimientos. DDL incluye instrucciones como CREATE, ALTER y DROP.\n",
        "\n",
        "**Lenguaje de control de datos (DCL)**, que es el conjunto de instrucciones SQL que se usan para administrar permisos de seguridad para usuarios y objetos. DCL incluye instrucciones como GRANT, REVOKE y DENY."
      ],
      "metadata": {
        "id": "uz-vvgwlMBeU"
      }
    },
    {
      "cell_type": "markdown",
      "source": [
        "**Examen de la instrucción SELECT**\n",
        "\n",
        "```\n",
        "SELECT OrderDate, COUNT(OrderID) AS Orders\n",
        "FROM Sales.SalesOrder\n",
        "WHERE Status = 'Shipped'\n",
        "GROUP BY OrderDate\n",
        "HAVING COUNT(OrderID) > 1\n",
        "ORDER BY OrderDate DESC;\n",
        "```\n",
        "El orden en que SQL Server las evalúa realmente:\n",
        "\n",
        "1. La cláusula FROM se evalúa primero para proporcionar las filas de origen para el resto de la instrucción. Se crea una tabla virtual y se pasa al paso siguiente.\n",
        "2. La cláusula WHERE es la siguiente en evaluarse, filtrando las filas de la tabla de origen que coinciden con un predicado. La tabla virtual filtrada se pasa al paso siguiente.\n",
        "3. GROUP BY es la siguiente, que organiza las filas de la tabla virtual según los valores únicos que se encuentran en la lista GROUP BY. Se crea una nueva tabla virtual que contiene la lista de grupos y se pasa al paso siguiente. A partir de este punto del flujo de operaciones, otros elementos solo pueden hacer referencia a las columnas de la lista GROUP BY o a las funciones de agregado.\n",
        "4. Después se avalúa la cláusula HAVING, que filtra grupos completos en función de su predicado. La tabla virtual creada en el paso 3 se filtra y se pasa al paso siguiente.\n",
        "5. Por último, se ejecuta la cláusula SELECT, que determina qué columnas aparecerán en los resultados de la consulta. Dado que la cláusula SELECT se evalúa después de los otros pasos, los alias de columna (en nuestro ejemplo, Orders)creados allí no se pueden usar en las cláusulas GROUP BY o HAVING.\n",
        "6. La cláusula ORDER BY es la última en ejecutarse, que ordena las filas según lo determinado por su lista de columnas.\n",
        "\n",
        "```\n",
        "FROM Sales.SalesOrder\n",
        "WHERE Status = 'Shipped'\n",
        "GROUP BY OrderDate \n",
        "HAVING COUNT(OrderID) > 1\n",
        "SELECT OrderDate, COUNT(OrderID) AS Orders\n",
        "ORDER BY OrderDate DESC;\n",
        "```"
      ],
      "metadata": {
        "id": "3Tp49L5kOMEN"
      }
    },
    {
      "cell_type": "markdown",
      "source": [
        "**CAST y TRY_CAST (SQL)**\n",
        "\n",
        "```\n",
        "SELECT CAST(ProductID AS varchar(4)) + ': ' + Name AS ProductName\n",
        "FROM Production.Product;\n",
        "```\n",
        "\n",
        "**CONVERT y TRY_CONVERT (T-SQL)**\n",
        "\n",
        "```\n",
        "SELECT CONVERT(varchar(4), ProductID) + ': ' + Name AS ProductName\n",
        "FROM Production.Product;\n",
        "```\n",
        "\n",
        "**PARSE y TRY_PARSE**\n",
        "\n",
        "La función PARSE está diseñada para convertir cadenas con formato que representan valores numéricos o de fecha y hora.\n",
        "\n",
        "```\n",
        "SELECT PARSE('01/01/2021' AS date) AS DateValue,\n",
        "   PARSE('$199.99' AS money) AS MoneyValue;\n",
        "```\n",
        "\n",
        "**STR**\n",
        "\n",
        "La función STR convierte un valor numérico en varchar.\n",
        "\n",
        "```\n",
        "SELECT ProductID,  '$' + STR(ListPrice) AS Price\n",
        "FROM Production.Product;\n",
        "```"
      ],
      "metadata": {
        "id": "RfCk-EyjP775"
      }
    },
    {
      "cell_type": "markdown",
      "source": [
        "**Controlar valores NULL**\n",
        "\n",
        "**ISNULL:** La función ISNULL toma dos argumentos. El primero es una expresión que estamos probando. Si el valor de ese primer argumento es NULL, la función devuelve el segundo argumento. Si la primera expresión no es NULL, se devuelve sin cambios.\n",
        "\n",
        "```\n",
        "SELECT FirstName,\n",
        "      ISNULL(MiddleName, 'None') AS MiddleIfAny,\n",
        "      LastName\n",
        "FROM Sales.Customer;\n",
        "```\n",
        "\n",
        "**COALESCE:** La función ISNULL no es estándar de ANSI, por lo que puede que desee usar la función COALESCE en su lugar. COALESCE es un poco más flexible, ya que puede tomar un número variable de argumentos, cada uno de los cuales es una expresión. Devolverá la primera expresión de la lista que no sea NULL.\n",
        "\n",
        "Sintaxis:\n",
        "```\n",
        "SELECT COALESCE ( expression1, expression2, [ ,...n ] )\n",
        "```\n",
        "\n",
        "Ejemplo: Se usa una tabla ficticia denominada HR.Wages, que incluye tres columnas que contienen información sobre las ganancias semanales de los empleados: la tarifa por hora, el salario semanal y una comisión por unidad vendida. No obstante, un empleado recibe solo un tipo de sueldo. Para cada empleado, una de esas tres columnas tendrá un valor y las otras dos serán NULL. Para determinar el importe total pagado a cada empleado, puede usar COALESCE para devolver solo el valor distinto de NULL que se encuentra en esas tres columnas.\n",
        "\n",
        "```\n",
        "SELECT EmployeeID,\n",
        "      COALESCE(HourlyRate * 40,\n",
        "                WeeklySalary,\n",
        "                Commission * SalesQty) AS WeeklyEarnings\n",
        "FROM HR.Wages;\n",
        "```\n",
        "\n",
        "**NULLIF**\n",
        "\n",
        "La función NULLIF permite devolver NULL en determinadas condiciones. Esta función tiene aplicaciones útiles en áreas como la **limpieza de datos**, cuando desea reemplazar los caracteres en blanco o de marcador de posición por NULL.\n",
        "\n",
        "NULLIF toma dos argumentos y devuelve NULL si son equivalentes. Si no son iguales, NULLIF devuelve el primer argumento.\n",
        "\n",
        "En este ejemplo, NULLIF reemplaza un descuento de 0 por un valor NULL. Devuelve el valor de descuento si no es 0:\n",
        "\n",
        "```\n",
        "SELECT SalesOrderID,\n",
        "      ProductID,\n",
        "      UnitPrice,\n",
        "      NULLIF(UnitPriceDiscount, 0) AS Discount\n",
        "FROM Sales.SalesOrderDetail;\n",
        "```"
      ],
      "metadata": {
        "id": "86fJhTmwRtK6"
      }
    },
    {
      "cell_type": "markdown",
      "source": [
        "## Ordenación y filtrado de resultados en T-SQL"
      ],
      "metadata": {
        "id": "ka636a3ClaZ5"
      }
    },
    {
      "cell_type": "markdown",
      "source": [
        "**Uso de WITH TIES**\n",
        "\n",
        "Además de especificar un número fijo de filas que se van a devolver, la palabra clave TOP también acepta la opción WITH TIES, que recuperará las filas con valores que puedan encontrarse en las primeras N filas seleccionadas.\n",
        "\n",
        "En el ejemplo anterior, la consulta devolvió los 10 primeros productos en orden descendente de precio. Sin embargo, al agregar la opción WITH TIES a la cláusula TOP, verá que hay más filas que se pueden incluir en los 10 productos más caros:\n",
        "\n",
        "```\n",
        "SELECT TOP 10 WITH TIES Name, ListPrice\n",
        "FROM Production.Product\n",
        "ORDER BY ListPrice DESC;\n",
        "```\n"
      ],
      "metadata": {
        "id": "8eBLjKG7lcWX"
      }
    },
    {
      "cell_type": "markdown",
      "source": [
        "**Like con expresiones regulares**\n",
        "\n",
        "La siguiente consulta busca productos con un nombre que comience por “Mountain-, seguido de:\n",
        "\n",
        "* tres caracteres entre 0 y 9\n",
        "* un espacio\n",
        "* cualquier cadena\n",
        "* una coma\n",
        "* un espacio\n",
        "* dos caracteres entre 0 y 9\n",
        "\n",
        "\n",
        "```\n",
        "SELECT ProductName, ListPrice\n",
        "FROM SalesLT.Product\n",
        "WHERE ProductName LIKE 'Mountain-[0-9][0-9][0-9] %, [0-9][0-9]';\n",
        "```\n"
      ],
      "metadata": {
        "id": "pgMm4joRpRSF"
      }
    },
    {
      "cell_type": "markdown",
      "source": [
        "## Combinación de varias tablas con JOIN en T-SQL"
      ],
      "metadata": {
        "id": "Sfuv6B2lqFLR"
      }
    },
    {
      "cell_type": "markdown",
      "source": [
        "**Productos cartesianos**\n",
        "\n",
        "```\n",
        "SELECT p.ProductID, m.Name AS Model, p.Name AS Product\n",
        "FROM SalesLT.Product AS p, SalesLT.ProductModel AS m\n",
        "WHERE p.ProductModelID = m.ProductModelID;\n",
        "```\n",
        "Convinar dos tablas de la siguiete forma no se recomienda debido a la complejidad de representar los filtros para combinaciones complejas además, si se omite accidentalmente una cláusula WHERE, las combinaciones de estilo ANSI SQL-89 pueden convertirse fácilmente en productos cartesianos y devolver un número excesivo de filas de resultados\n",
        "\n",
        "En el ejemplo siguiente, hay un conjunto de nombres con dos elementos y un conjunto de productos con tres. El **producto cartesiano** combina cada nombre con cada producto, lo que genera seis elementos.\n",
        "\n",
        "Tabla de nombres:\n",
        "\n",
        "|name|\n",
        "--------\n",
        "|Davis |\n",
        "|Frank|\n",
        "\n",
        "\n",
        "Tabla de productos:\n",
        "\n",
        "\n",
        "|product|\n",
        "--------\n",
        "|coffe|\n",
        "|cupcake|\n",
        "|cake|\n",
        "|pie|\n",
        "|milk|\n",
        "|tea|\n",
        "\n",
        "\n",
        "Producto cartesiano 2 x 6 = 12\n",
        "\n",
        "|name|product|\n",
        "-----|---------\n",
        "|Davis |coffe|\n",
        "|Davis |cupcake|\n",
        "|Davis |cake|\n",
        "|Davis |pie|\n",
        "|Davis |milk|\n",
        "|Davis |tea|\n",
        "|Frank|coffe|\n",
        "|Frank|cupcake|\n",
        "|Frank|cake|\n",
        "|Frank|pie|\n",
        "|Frank|milk|\n",
        "|Frank|tea|\n",
        "\n",
        "En el ejemplo siguiente se vuelve a formular la consulta anterior con la sintaxis más reciente:\n",
        "\n",
        "```\n",
        "SELECT p.ProductID, m.Name AS Model, p.Name AS Product\n",
        "FROM SalesLT.Product AS p\n",
        "JOIN SalesLT.ProductModel AS m\n",
        "    ON p.ProductModelID = m.ProductModelID;\n",
        "```\n",
        "\n",
        "La sintaxis de ANSI SQL-92 dificulta la creación de productos cartesianos accidentales. Una vez que se ha agregado la palabra clave JOIN, se producirá un error de sintaxis si falta una cláusula ON, a menos que JOIN se especifique como CROSS JOIN.\n",
        "\n",
        "**INNER JOIN**\n",
        "\n",
        "INNER JOIN es el tipo predeterminado de operación JOIN y la palabra clave INNER opcional está implícita en la cláusula JOIN.\n",
        "\n",
        "```\n",
        "SELECT emp.FirstName, ord.Amount\n",
        "FROM HR.Employee AS emp \n",
        "INNER JOIN Sales.SalesOrder AS ord\n",
        "    ON emp.EmployeeID = ord.EmployeeID;\n",
        "```\n",
        "\n",
        "Use la palabra clave JOIN una vez para cada par de tablas combinadas de la lista FROM. Para una consulta de dos tablas, especifique una combinación. Para una consulta de tres tablas, usará JOIN dos veces; una vez entre las dos primeras tablas y una segunda entre la salida de JOIN entre las dos primeras tablas y la tercera.\n",
        "\n",
        "```\n",
        "SELECT od.SalesOrderID, m.Name AS Model, p.Name AS ProductName, od.OrderQty\n",
        "FROM Production.Product AS p\n",
        "INNER JOIN Production.ProductModel AS m\n",
        "    ON p.ProductModelID = m.ProductModelID\n",
        "INNER JOIN Sales.SalesOrderDetail AS od\n",
        "    ON p.ProductID = od.ProductID\n",
        "ORDER BY od.SalesOrderID;\n",
        "```\n",
        "\n",
        "**Uso de combinaciones externas**\n",
        "\n",
        "Con **OUTER JOIN**, puede optar por mostrar todas las filas que tienen filas coincidentes entre las tablas, además de todas las filas que no tienen ninguna coincidencia en la otra tabla. Ahora se verá un ejemplo y, después, se examinará el proceso.\n",
        "\n",
        "```\n",
        "SELECT emp.FirstName, ord.Amount\n",
        "FROM HR.Employee AS emp\n",
        "LEFT OUTER JOIN Sales.SalesOrder AS ord\n",
        "    ON emp.EmployeeID = ord.EmployeeID;\n",
        "```\n",
        "\n",
        "![image.png](data:image/png;base64,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)\n",
        "\n",
        "En este ejemplo se usa un operador LEFT OUTER JOIN, que indica al procesador de consultas que conserve todas las filas de la tabla de la izquierda (HR.Employee) y muestre los valores Amount para las filas coincidentes en Sales.SalesOrder. Pero se devuelven todos los empleados, independientemente de si han realizado o no un pedido de ventas. En lugar del valor Amount, la consulta devolverá NULL para los empleados sin pedidos de ventas correspondientes.\n",
        "\n",
        "\n"
      ],
      "metadata": {
        "id": "AaY4Lbv-qJ1L"
      }
    },
    {
      "cell_type": "markdown",
      "source": [
        "**Sintaxis de OUTER JOIN**\n",
        "\n",
        "Las combinaciones externas se expresan mediante las palabras clave LEFT, RIGHT o FULL, que se colocan por delante de OUTER JOIN. El propósito de la palabra clave es indicar qué tabla (en qué lado de la palabra clave JOIN) se debe conservar y mostrar todas sus filas, haya coincidencias o no. Al usar LEFT, RIGHT o FULL para definir una combinación, puede omitir la palabra clave OUTER como se muestra aquí:\n",
        "\n",
        "```\n",
        "SELECT emp.FirstName, ord.Amount\n",
        "FROM HR.Employee AS emp\n",
        "LEFT JOIN Sales.SalesOrder AS ord\n",
        "    ON emp.EmployeeID = ord.EmployeeID;\n",
        "```\n",
        "\n",
        "**FULL OUTER JOIN** rara vez se usa. Devuelve todas las filas coincidentes entre las dos tablas, más todas las filas de la primera tabla sin coincidencia en la segunda, además de todas las filas de la segunda sin coincidencia en la primera."
      ],
      "metadata": {
        "id": "Mmz6t_zT4xZq"
      }
    },
    {
      "cell_type": "markdown",
      "source": [
        "**Uso de autocombinaciones**\n",
        "\n",
        "Hasta ahora, en las combinaciones que se han usado participaban tablas diferentes. Es posible que haya escenarios en los que tenga que recuperar y comparar filas de una tabla con otras filas de la misma tabla. Por ejemplo, en una aplicación de recursos humanos, una tabla Employee podría incluir información sobre el jefe de cada empleado y almacenar el identificador del jefe en la propia fila del empleado. Cada jefe también aparece como empleado.\n",
        "\n",
        "|EmployeeID (Id. de empleado)|FirstName|ManagerID|\n",
        "-----------------------------|---------|---------|\n",
        "|1|Dan|NULL|\n",
        "|2|Aisha|1|\n",
        "|3|Rosie|1|\n",
        "|4|Naomi|3|\n",
        "\n",
        "\n",
        "Para recuperar la información de los empleados y hacerla coincidir con el jefe relacionado, puede usar la tabla dos veces en la consulta, y combinarla con sí misma para los fines de la consulta.\n",
        "\n",
        "```\n",
        "SELECT emp.FirstName AS Employee, \n",
        "       mgr.FirstName AS Manager\n",
        "FROM HR.Employee AS emp\n",
        "LEFT OUTER JOIN HR.Employee AS mgr\n",
        "  ON emp.ManagerID = mgr.EmployeeID;\n",
        "```\n",
        "\n",
        "Los resultados de esta consulta incluyen una fila para cada empleado con el nombre de su jefe. El director general de la empresa no tiene ningún jefe. Para incluir al director general en los resultados, se usa una combinación externa y el nombre del jefe se devuelve como NULL para las filas en las que el campo ManagerID no tiene ningún campo EmployeeID coincidente.\n",
        "\n",
        "|Empleado|Manager|\n",
        "|--------|-------|\n",
        "|Dan|NULL|\n",
        "|Aisha|Dan|\n",
        "|Rosie|Dan|\n",
        "|Naomi|Rosie|\n",
        "\n"
      ],
      "metadata": {
        "id": "Y9d3b0Zb7WJL"
      }
    },
    {
      "cell_type": "markdown",
      "source": [
        "## Exploración y análisis de datos con Python \n",
        "\n",
        "* **NumPy** y **Pandas** simplifican el análisis y la manipulación de datos.\n",
        "* **Matplotlib** proporciona visualizaciones de datos atractivas.\n",
        "* **Scikit-learn** ofrece análisis de datos predictivo sencillo y eficaz.\n",
        "* **TensorFlow** y **PyTorch** suministran funcionalidades de aprendizaje automático y aprendizaje profundo.\n",
        "\n",
        "\n",
        "**NumPy:** \n",
        "\n",
        "NumPy es una biblioteca de Python que ofrece una funcionalidad comparable a la de herramientas matemáticas como MATLAB y R. Aunque NumPy simplifica considerablemente la experiencia del usuario, también ofrece funciones matemáticas completas.\n",
        "\n",
        "**Pandas**\n",
        "\n",
        "Pandas es una biblioteca de Python muy conocida para el análisis y la manipulación de datos. Pandas es como el Excel de Python: proporciona una funcionalidad fácil de usar para las tablas de datos."
      ],
      "metadata": {
        "id": "a-JkjGWx71Z6"
      }
    },
    {
      "cell_type": "markdown",
      "source": [
        "## Ejercicio: Exploración de datos con NumPy y Pandas"
      ],
      "metadata": {
        "id": "PUQlm1u8-1ak"
      }
    },
    {
      "cell_type": "markdown",
      "source": [
        "**Exploring data arrays with NumPy**\n",
        "\n",
        "Let's start by looking at some simple data.\n",
        "\n",
        "Suppose a college professor takes a sample of student grades from a class to analyze.\n",
        "\n",
        "Run the code in the cell below by clicking the ► Run button to see the data."
      ],
      "metadata": {
        "id": "qdJkM4ZT-4Kr"
      }
    },
    {
      "cell_type": "code",
      "source": [
        "data = [50,50,47,97,49,3,53,42,26,74,82,62,37,15,70,27,36,35,48,52,63,64]\n",
        "print(data)"
      ],
      "metadata": {
        "colab": {
          "base_uri": "https://localhost:8080/"
        },
        "id": "-hjcU1Sf--o_",
        "outputId": "9f5ef256-5185-425c-cdde-fc86e9a97a04"
      },
      "execution_count": null,
      "outputs": [
        {
          "output_type": "stream",
          "name": "stdout",
          "text": [
            "[50, 50, 47, 97, 49, 3, 53, 42, 26, 74, 82, 62, 37, 15, 70, 27, 36, 35, 48, 52, 63, 64]\n"
          ]
        }
      ]
    },
    {
      "cell_type": "markdown",
      "source": [
        "The data has been loaded into a Python list structure, which is a good data type for general data manipulation, but it's not optimized for numeric analysis. For that, we're going to use the NumPy package, which includes specific data types and functions for working with Numbers in Python.\n",
        "\n",
        "Run the cell below to load the data into a NumPy array."
      ],
      "metadata": {
        "id": "buRkokpL_IoX"
      }
    },
    {
      "cell_type": "code",
      "source": [
        "import numpy as np\n",
        "\n",
        "grades = np.array(data)\n",
        "print(grades)"
      ],
      "metadata": {
        "colab": {
          "base_uri": "https://localhost:8080/"
        },
        "id": "cqStIHnD_Jee",
        "outputId": "8547afb6-f07b-44ca-a7b0-2a3248fb21bb"
      },
      "execution_count": null,
      "outputs": [
        {
          "output_type": "stream",
          "name": "stdout",
          "text": [
            "[50 50 47 97 49  3 53 42 26 74 82 62 37 15 70 27 36 35 48 52 63 64]\n"
          ]
        }
      ]
    },
    {
      "cell_type": "markdown",
      "source": [
        "Just in case you're wondering about the differences between a list and a NumPy array, let's compare how these data types behave when we use them in an expression that multiplies them by 2."
      ],
      "metadata": {
        "id": "m088dRWK_Z04"
      }
    },
    {
      "cell_type": "code",
      "source": [
        "print (type(data),'x 2:', data * 2)\n",
        "print('---')\n",
        "print (type(grades),'x 2:', grades * 2)"
      ],
      "metadata": {
        "colab": {
          "base_uri": "https://localhost:8080/"
        },
        "id": "cLcrIo3C_aZu",
        "outputId": "506b6764-0a0b-4d06-e7c5-7f3d85cd3991"
      },
      "execution_count": null,
      "outputs": [
        {
          "output_type": "stream",
          "name": "stdout",
          "text": [
            "<class 'list'> x 2: [50, 50, 47, 97, 49, 3, 53, 42, 26, 74, 82, 62, 37, 15, 70, 27, 36, 35, 48, 52, 63, 64, 50, 50, 47, 97, 49, 3, 53, 42, 26, 74, 82, 62, 37, 15, 70, 27, 36, 35, 48, 52, 63, 64]\n",
            "---\n",
            "<class 'numpy.ndarray'> x 2: [100 100  94 194  98   6 106  84  52 148 164 124  74  30 140  54  72  70\n",
            "  96 104 126 128]\n"
          ]
        }
      ]
    },
    {
      "cell_type": "markdown",
      "source": [
        "Note that multiplying a list by 2 creates a new list of twice the length with the original sequence of list elements repeated. Multiplying a NumPy array on the other hand performs an element-wise calculation in which the array behaves like a vector, so we end up with an array of the same size in which each element has been multiplied by 2.\n",
        "\n",
        "The key takeaway from this is that NumPy arrays are specifically designed to support mathematical operations on numeric data—which makes them more useful for data analysis than a generic list.\n",
        "\n",
        "You might have spotted that the class type for the NumPy array above is a numpy.ndarray. The nd indicates that this is a structure that can consist of multiple dimensions. (It can have n dimensions.) Our specific instance has a single dimension of student grades.\n",
        "\n",
        "Run the cell below to view the shape of the array."
      ],
      "metadata": {
        "id": "Hr8X-VumANjR"
      }
    },
    {
      "cell_type": "code",
      "source": [
        "grades.shape"
      ],
      "metadata": {
        "colab": {
          "base_uri": "https://localhost:8080/"
        },
        "id": "ULWDesD9AOdS",
        "outputId": "f6457268-3f0d-434c-9115-706e86a0ac38"
      },
      "execution_count": null,
      "outputs": [
        {
          "output_type": "execute_result",
          "data": {
            "text/plain": [
              "(22,)"
            ]
          },
          "metadata": {},
          "execution_count": 4
        }
      ]
    },
    {
      "cell_type": "markdown",
      "source": [
        "\n",
        "The shape confirms that this array has only one dimension, which contains 22 elements. (There are 22 grades in the original list.) You can access the individual elements in the array by their zero-based ordinal position. Let's get the first element (the one in position 0)."
      ],
      "metadata": {
        "id": "w5W_HcZgAppr"
      }
    },
    {
      "cell_type": "code",
      "source": [
        "grades[0]"
      ],
      "metadata": {
        "colab": {
          "base_uri": "https://localhost:8080/"
        },
        "id": "DNeJonYMAqln",
        "outputId": "fec1dc5f-68f3-4f01-b8f0-fb0c4601c140"
      },
      "execution_count": null,
      "outputs": [
        {
          "output_type": "execute_result",
          "data": {
            "text/plain": [
              "50"
            ]
          },
          "metadata": {},
          "execution_count": 5
        }
      ]
    },
    {
      "cell_type": "markdown",
      "source": [
        "Now that you know your way around a NumPy array, it's time to perform some analysis of the grades data.\n",
        "\n",
        "You can apply aggregations across the elements in the array, so let's find the simple average grade (in other words, the mean grade value)."
      ],
      "metadata": {
        "id": "jMnhptihAz0u"
      }
    },
    {
      "cell_type": "code",
      "source": [
        "grades.mean()"
      ],
      "metadata": {
        "colab": {
          "base_uri": "https://localhost:8080/"
        },
        "id": "yMi8j7gsA0v9",
        "outputId": "5b81418b-3214-46ba-edba-62c9a4f7d71b"
      },
      "execution_count": null,
      "outputs": [
        {
          "output_type": "execute_result",
          "data": {
            "text/plain": [
              "49.18181818181818"
            ]
          },
          "metadata": {},
          "execution_count": 6
        }
      ]
    },
    {
      "cell_type": "markdown",
      "source": [
        "So the mean grade is just around 50—more or less in the middle of the possible range from 0 to 100.\n",
        "\n",
        "Let's add a second set of data for the same students. This time, we'll record the typical number of hours per week they devoted to studying."
      ],
      "metadata": {
        "id": "2E799QXTBMb5"
      }
    },
    {
      "cell_type": "code",
      "source": [
        "# Define an array of study hours\n",
        "study_hours = [10.0,11.5,9.0,16.0,9.25,1.0,11.5,9.0,8.5,14.5,15.5,\n",
        "               13.75,9.0,8.0,15.5,8.0,9.0,6.0,10.0,12.0,12.5,12.0]\n",
        "\n",
        "# Create a 2D array (an array of arrays)\n",
        "student_data = np.array([study_hours, grades])\n",
        "\n",
        "# display the array\n",
        "student_data"
      ],
      "metadata": {
        "colab": {
          "base_uri": "https://localhost:8080/"
        },
        "id": "7g95wSoGBNlD",
        "outputId": "7bd7a257-ce7e-48eb-b854-0768fb152965"
      },
      "execution_count": null,
      "outputs": [
        {
          "output_type": "execute_result",
          "data": {
            "text/plain": [
              "array([[10.  , 11.5 ,  9.  , 16.  ,  9.25,  1.  , 11.5 ,  9.  ,  8.5 ,\n",
              "        14.5 , 15.5 , 13.75,  9.  ,  8.  , 15.5 ,  8.  ,  9.  ,  6.  ,\n",
              "        10.  , 12.  , 12.5 , 12.  ],\n",
              "       [50.  , 50.  , 47.  , 97.  , 49.  ,  3.  , 53.  , 42.  , 26.  ,\n",
              "        74.  , 82.  , 62.  , 37.  , 15.  , 70.  , 27.  , 36.  , 35.  ,\n",
              "        48.  , 52.  , 63.  , 64.  ]])"
            ]
          },
          "metadata": {},
          "execution_count": 7
        }
      ]
    },
    {
      "cell_type": "markdown",
      "source": [
        "Now the data consists of a 2-dimensional array—an array of arrays. Let's look at its shape."
      ],
      "metadata": {
        "id": "Np_a4DM0Bf6e"
      }
    },
    {
      "cell_type": "code",
      "source": [
        "# Show shape of 2D array\n",
        "student_data.shape"
      ],
      "metadata": {
        "colab": {
          "base_uri": "https://localhost:8080/"
        },
        "id": "Aw_dSXixBgsn",
        "outputId": "c09caa40-105d-4e55-b2bf-9a960af0510f"
      },
      "execution_count": null,
      "outputs": [
        {
          "output_type": "execute_result",
          "data": {
            "text/plain": [
              "(2, 22)"
            ]
          },
          "metadata": {},
          "execution_count": 8
        }
      ]
    },
    {
      "cell_type": "markdown",
      "source": [
        "\n",
        "The student_data array contains two elements, each of which is an array containing 22 elements.\n",
        "\n",
        "To navigate this structure, you need to specify the position of each element in the hierarchy. So to find the first value in the first array (which contains the study hours data), you can use the following code."
      ],
      "metadata": {
        "id": "-sDiqS0JBqfl"
      }
    },
    {
      "cell_type": "code",
      "source": [
        "# Show the first element of the first element\n",
        "student_data[0][0]"
      ],
      "metadata": {
        "colab": {
          "base_uri": "https://localhost:8080/"
        },
        "id": "eKveU47_B2n6",
        "outputId": "ed450a61-cef4-4497-9e42-65481b369e45"
      },
      "execution_count": null,
      "outputs": [
        {
          "output_type": "execute_result",
          "data": {
            "text/plain": [
              "10.0"
            ]
          },
          "metadata": {},
          "execution_count": 9
        }
      ]
    },
    {
      "cell_type": "markdown",
      "source": [
        "Now you have a multidimensional array containing both the student's study time and grade information, which you can use to compare study time to a student's grade."
      ],
      "metadata": {
        "id": "2dYYdCA_CCRw"
      }
    },
    {
      "cell_type": "code",
      "source": [
        "# Get the mean value of each sub-array\n",
        "avg_study = student_data[0].mean()\n",
        "avg_grade = student_data[1].mean()\n",
        "\n",
        "print('Average study hours: {:.2f}\\nAverage grade: {:.2f}'.format(avg_study, avg_grade))"
      ],
      "metadata": {
        "colab": {
          "base_uri": "https://localhost:8080/"
        },
        "id": "V81IVxfCCGG9",
        "outputId": "06936418-4794-4a5b-e848-74ef06ef15b0"
      },
      "execution_count": null,
      "outputs": [
        {
          "output_type": "stream",
          "name": "stdout",
          "text": [
            "Average study hours: 10.52\n",
            "Average grade: 49.18\n"
          ]
        }
      ]
    },
    {
      "cell_type": "markdown",
      "source": [
        "**Exploring tabular data with Pandas**\n",
        "\n",
        "NumPy provides a lot of the functionality and tools you need to work with numbers, such as arrays of numeric values. However, when you start to deal with two-dimensional tables of data, the Pandas package offers a more convenient structure to work with: the DataFrame.\n",
        "\n",
        "Run the following cell to import the Pandas library and create a DataFrame with three columns. The first column is a list of student names, and the second and third columns are the NumPy arrays containing the study time and grade data."
      ],
      "metadata": {
        "id": "xSH1xSlrCTxh"
      }
    },
    {
      "cell_type": "code",
      "source": [
        "import pandas as pd\n",
        "\n",
        "df_students = pd.DataFrame({'Name': ['Dan', 'Joann', 'Pedro', 'Rosie', 'Ethan', 'Vicky', 'Frederic', 'Jimmie', \n",
        "                                     'Rhonda', 'Giovanni', 'Francesca', 'Rajab', 'Naiyana', 'Kian', 'Jenny',\n",
        "                                     'Jakeem','Helena','Ismat','Anila','Skye','Daniel','Aisha'],\n",
        "                            'StudyHours':student_data[0],\n",
        "                            'Grade':student_data[1]})\n",
        "\n",
        "df_students"
      ],
      "metadata": {
        "colab": {
          "base_uri": "https://localhost:8080/",
          "height": 581
        },
        "id": "kh7dGTIzCm5H",
        "outputId": "290cd21d-71ac-45db-e72e-34bcf4e8471b"
      },
      "execution_count": null,
      "outputs": [
        {
          "output_type": "execute_result",
          "data": {
            "text/plain": [
              "         Name  StudyHours  Grade\n",
              "0         Dan       10.00   50.0\n",
              "1       Joann       11.50   50.0\n",
              "2       Pedro        9.00   47.0\n",
              "3       Rosie       16.00   97.0\n",
              "4       Ethan        9.25   49.0\n",
              "5       Vicky        1.00    3.0\n",
              "6    Frederic       11.50   53.0\n",
              "7      Jimmie        9.00   42.0\n",
              "8      Rhonda        8.50   26.0\n",
              "9    Giovanni       14.50   74.0\n",
              "10  Francesca       15.50   82.0\n",
              "11      Rajab       13.75   62.0\n",
              "12    Naiyana        9.00   37.0\n",
              "13       Kian        8.00   15.0\n",
              "14      Jenny       15.50   70.0\n",
              "15     Jakeem        8.00   27.0\n",
              "16     Helena        9.00   36.0\n",
              "17      Ismat        6.00   35.0\n",
              "18      Anila       10.00   48.0\n",
              "19       Skye       12.00   52.0\n",
              "20     Daniel       12.50   63.0\n",
              "21      Aisha       12.00   64.0"
            ],
            "text/html": [
              "\n",
              "  <div id=\"df-b3bd4555-fa25-4912-9cde-45edaadd9b13\">\n",
              "    <div class=\"colab-df-container\">\n",
              "      <div>\n",
              "<style scoped>\n",
              "    .dataframe tbody tr th:only-of-type {\n",
              "        vertical-align: middle;\n",
              "    }\n",
              "\n",
              "    .dataframe tbody tr th {\n",
              "        vertical-align: top;\n",
              "    }\n",
              "\n",
              "    .dataframe thead th {\n",
              "        text-align: right;\n",
              "    }\n",
              "</style>\n",
              "<table border=\"1\" class=\"dataframe\">\n",
              "  <thead>\n",
              "    <tr style=\"text-align: right;\">\n",
              "      <th></th>\n",
              "      <th>Name</th>\n",
              "      <th>StudyHours</th>\n",
              "      <th>Grade</th>\n",
              "    </tr>\n",
              "  </thead>\n",
              "  <tbody>\n",
              "    <tr>\n",
              "      <th>0</th>\n",
              "      <td>Dan</td>\n",
              "      <td>10.00</td>\n",
              "      <td>50.0</td>\n",
              "    </tr>\n",
              "    <tr>\n",
              "      <th>1</th>\n",
              "      <td>Joann</td>\n",
              "      <td>11.50</td>\n",
              "      <td>50.0</td>\n",
              "    </tr>\n",
              "    <tr>\n",
              "      <th>2</th>\n",
              "      <td>Pedro</td>\n",
              "      <td>9.00</td>\n",
              "      <td>47.0</td>\n",
              "    </tr>\n",
              "    <tr>\n",
              "      <th>3</th>\n",
              "      <td>Rosie</td>\n",
              "      <td>16.00</td>\n",
              "      <td>97.0</td>\n",
              "    </tr>\n",
              "    <tr>\n",
              "      <th>4</th>\n",
              "      <td>Ethan</td>\n",
              "      <td>9.25</td>\n",
              "      <td>49.0</td>\n",
              "    </tr>\n",
              "    <tr>\n",
              "      <th>5</th>\n",
              "      <td>Vicky</td>\n",
              "      <td>1.00</td>\n",
              "      <td>3.0</td>\n",
              "    </tr>\n",
              "    <tr>\n",
              "      <th>6</th>\n",
              "      <td>Frederic</td>\n",
              "      <td>11.50</td>\n",
              "      <td>53.0</td>\n",
              "    </tr>\n",
              "    <tr>\n",
              "      <th>7</th>\n",
              "      <td>Jimmie</td>\n",
              "      <td>9.00</td>\n",
              "      <td>42.0</td>\n",
              "    </tr>\n",
              "    <tr>\n",
              "      <th>8</th>\n",
              "      <td>Rhonda</td>\n",
              "      <td>8.50</td>\n",
              "      <td>26.0</td>\n",
              "    </tr>\n",
              "    <tr>\n",
              "      <th>9</th>\n",
              "      <td>Giovanni</td>\n",
              "      <td>14.50</td>\n",
              "      <td>74.0</td>\n",
              "    </tr>\n",
              "    <tr>\n",
              "      <th>10</th>\n",
              "      <td>Francesca</td>\n",
              "      <td>15.50</td>\n",
              "      <td>82.0</td>\n",
              "    </tr>\n",
              "    <tr>\n",
              "      <th>11</th>\n",
              "      <td>Rajab</td>\n",
              "      <td>13.75</td>\n",
              "      <td>62.0</td>\n",
              "    </tr>\n",
              "    <tr>\n",
              "      <th>12</th>\n",
              "      <td>Naiyana</td>\n",
              "      <td>9.00</td>\n",
              "      <td>37.0</td>\n",
              "    </tr>\n",
              "    <tr>\n",
              "      <th>13</th>\n",
              "      <td>Kian</td>\n",
              "      <td>8.00</td>\n",
              "      <td>15.0</td>\n",
              "    </tr>\n",
              "    <tr>\n",
              "      <th>14</th>\n",
              "      <td>Jenny</td>\n",
              "      <td>15.50</td>\n",
              "      <td>70.0</td>\n",
              "    </tr>\n",
              "    <tr>\n",
              "      <th>15</th>\n",
              "      <td>Jakeem</td>\n",
              "      <td>8.00</td>\n",
              "      <td>27.0</td>\n",
              "    </tr>\n",
              "    <tr>\n",
              "      <th>16</th>\n",
              "      <td>Helena</td>\n",
              "      <td>9.00</td>\n",
              "      <td>36.0</td>\n",
              "    </tr>\n",
              "    <tr>\n",
              "      <th>17</th>\n",
              "      <td>Ismat</td>\n",
              "      <td>6.00</td>\n",
              "      <td>35.0</td>\n",
              "    </tr>\n",
              "    <tr>\n",
              "      <th>18</th>\n",
              "      <td>Anila</td>\n",
              "      <td>10.00</td>\n",
              "      <td>48.0</td>\n",
              "    </tr>\n",
              "    <tr>\n",
              "      <th>19</th>\n",
              "      <td>Skye</td>\n",
              "      <td>12.00</td>\n",
              "      <td>52.0</td>\n",
              "    </tr>\n",
              "    <tr>\n",
              "      <th>20</th>\n",
              "      <td>Daniel</td>\n",
              "      <td>12.50</td>\n",
              "      <td>63.0</td>\n",
              "    </tr>\n",
              "    <tr>\n",
              "      <th>21</th>\n",
              "      <td>Aisha</td>\n",
              "      <td>12.00</td>\n",
              "      <td>64.0</td>\n",
              "    </tr>\n",
              "  </tbody>\n",
              "</table>\n",
              "</div>\n",
              "      <button class=\"colab-df-convert\" onclick=\"convertToInteractive('df-b3bd4555-fa25-4912-9cde-45edaadd9b13')\"\n",
              "              title=\"Convert this dataframe to an interactive table.\"\n",
              "              style=\"display:none;\">\n",
              "        \n",
              "  <svg xmlns=\"http://www.w3.org/2000/svg\" height=\"24px\"viewBox=\"0 0 24 24\"\n",
              "       width=\"24px\">\n",
              "    <path d=\"M0 0h24v24H0V0z\" fill=\"none\"/>\n",
              "    <path d=\"M18.56 5.44l.94 2.06.94-2.06 2.06-.94-2.06-.94-.94-2.06-.94 2.06-2.06.94zm-11 1L8.5 8.5l.94-2.06 2.06-.94-2.06-.94L8.5 2.5l-.94 2.06-2.06.94zm10 10l.94 2.06.94-2.06 2.06-.94-2.06-.94-.94-2.06-.94 2.06-2.06.94z\"/><path d=\"M17.41 7.96l-1.37-1.37c-.4-.4-.92-.59-1.43-.59-.52 0-1.04.2-1.43.59L10.3 9.45l-7.72 7.72c-.78.78-.78 2.05 0 2.83L4 21.41c.39.39.9.59 1.41.59.51 0 1.02-.2 1.41-.59l7.78-7.78 2.81-2.81c.8-.78.8-2.07 0-2.86zM5.41 20L4 18.59l7.72-7.72 1.47 1.35L5.41 20z\"/>\n",
              "  </svg>\n",
              "      </button>\n",
              "      \n",
              "  <style>\n",
              "    .colab-df-container {\n",
              "      display:flex;\n",
              "      flex-wrap:wrap;\n",
              "      gap: 12px;\n",
              "    }\n",
              "\n",
              "    .colab-df-convert {\n",
              "      background-color: #E8F0FE;\n",
              "      border: none;\n",
              "      border-radius: 50%;\n",
              "      cursor: pointer;\n",
              "      display: none;\n",
              "      fill: #1967D2;\n",
              "      height: 32px;\n",
              "      padding: 0 0 0 0;\n",
              "      width: 32px;\n",
              "    }\n",
              "\n",
              "    .colab-df-convert:hover {\n",
              "      background-color: #E2EBFA;\n",
              "      box-shadow: 0px 1px 2px rgba(60, 64, 67, 0.3), 0px 1px 3px 1px rgba(60, 64, 67, 0.15);\n",
              "      fill: #174EA6;\n",
              "    }\n",
              "\n",
              "    [theme=dark] .colab-df-convert {\n",
              "      background-color: #3B4455;\n",
              "      fill: #D2E3FC;\n",
              "    }\n",
              "\n",
              "    [theme=dark] .colab-df-convert:hover {\n",
              "      background-color: #434B5C;\n",
              "      box-shadow: 0px 1px 3px 1px rgba(0, 0, 0, 0.15);\n",
              "      filter: drop-shadow(0px 1px 2px rgba(0, 0, 0, 0.3));\n",
              "      fill: #FFFFFF;\n",
              "    }\n",
              "  </style>\n",
              "\n",
              "      <script>\n",
              "        const buttonEl =\n",
              "          document.querySelector('#df-b3bd4555-fa25-4912-9cde-45edaadd9b13 button.colab-df-convert');\n",
              "        buttonEl.style.display =\n",
              "          google.colab.kernel.accessAllowed ? 'block' : 'none';\n",
              "\n",
              "        async function convertToInteractive(key) {\n",
              "          const element = document.querySelector('#df-b3bd4555-fa25-4912-9cde-45edaadd9b13');\n",
              "          const dataTable =\n",
              "            await google.colab.kernel.invokeFunction('convertToInteractive',\n",
              "                                                     [key], {});\n",
              "          if (!dataTable) return;\n",
              "\n",
              "          const docLinkHtml = 'Like what you see? Visit the ' +\n",
              "            '<a target=\"_blank\" href=https://colab.research.google.com/notebooks/data_table.ipynb>data table notebook</a>'\n",
              "            + ' to learn more about interactive tables.';\n",
              "          element.innerHTML = '';\n",
              "          dataTable['output_type'] = 'display_data';\n",
              "          await google.colab.output.renderOutput(dataTable, element);\n",
              "          const docLink = document.createElement('div');\n",
              "          docLink.innerHTML = docLinkHtml;\n",
              "          element.appendChild(docLink);\n",
              "        }\n",
              "      </script>\n",
              "    </div>\n",
              "  </div>\n",
              "  "
            ]
          },
          "metadata": {},
          "execution_count": 15
        }
      ]
    },
    {
      "cell_type": "markdown",
      "source": [
        "Note that in addition to the columns you specified, the DataFrame includes an index to uniquely identify each row. We could have specified the index explicitly and assigned any kind of appropriate value (for example, an email address). However, because we didn't specify an index, one has been created with a unique integer value for each row."
      ],
      "metadata": {
        "id": "ZWZ-SOq9Dem5"
      }
    },
    {
      "cell_type": "markdown",
      "source": [
        "**Finding and filtering data in a DataFrame**\n",
        "\n",
        "You can use the DataFrame's loc method to retrieve data for a specific index value, like this."
      ],
      "metadata": {
        "id": "ReZ44l8ZDj9A"
      }
    },
    {
      "cell_type": "code",
      "source": [
        "# Get the data for index value 5\n",
        "df_students.loc[5]"
      ],
      "metadata": {
        "colab": {
          "base_uri": "https://localhost:8080/"
        },
        "id": "t-tYrtb5DtH0",
        "outputId": "bae27cf5-03b8-4692-be4a-428df56017b6"
      },
      "execution_count": null,
      "outputs": [
        {
          "output_type": "execute_result",
          "data": {
            "text/plain": [
              "Name          Vicky\n",
              "StudyHours      1.0\n",
              "Grade           3.0\n",
              "Name: 5, dtype: object"
            ]
          },
          "metadata": {},
          "execution_count": 16
        }
      ]
    },
    {
      "cell_type": "markdown",
      "source": [
        "You can also get the data at a range of index values, like this:"
      ],
      "metadata": {
        "id": "7nCE7i_vER6E"
      }
    },
    {
      "cell_type": "code",
      "source": [
        "# Get the rows with index values from 0 to 5\n",
        "df_students.loc[0:5]"
      ],
      "metadata": {
        "colab": {
          "base_uri": "https://localhost:8080/",
          "height": 238
        },
        "id": "HQn6gbtWESvw",
        "outputId": "7fe9e8b7-9b83-41f8-db3e-1e12b05e488a"
      },
      "execution_count": null,
      "outputs": [
        {
          "output_type": "execute_result",
          "data": {
            "text/plain": [
              "    Name  StudyHours  Grade\n",
              "0    Dan       10.00   50.0\n",
              "1  Joann       11.50   50.0\n",
              "2  Pedro        9.00   47.0\n",
              "3  Rosie       16.00   97.0\n",
              "4  Ethan        9.25   49.0\n",
              "5  Vicky        1.00    3.0"
            ],
            "text/html": [
              "\n",
              "  <div id=\"df-9c926633-0caf-4e1f-b661-f51e36e7ef44\">\n",
              "    <div class=\"colab-df-container\">\n",
              "      <div>\n",
              "<style scoped>\n",
              "    .dataframe tbody tr th:only-of-type {\n",
              "        vertical-align: middle;\n",
              "    }\n",
              "\n",
              "    .dataframe tbody tr th {\n",
              "        vertical-align: top;\n",
              "    }\n",
              "\n",
              "    .dataframe thead th {\n",
              "        text-align: right;\n",
              "    }\n",
              "</style>\n",
              "<table border=\"1\" class=\"dataframe\">\n",
              "  <thead>\n",
              "    <tr style=\"text-align: right;\">\n",
              "      <th></th>\n",
              "      <th>Name</th>\n",
              "      <th>StudyHours</th>\n",
              "      <th>Grade</th>\n",
              "    </tr>\n",
              "  </thead>\n",
              "  <tbody>\n",
              "    <tr>\n",
              "      <th>0</th>\n",
              "      <td>Dan</td>\n",
              "      <td>10.00</td>\n",
              "      <td>50.0</td>\n",
              "    </tr>\n",
              "    <tr>\n",
              "      <th>1</th>\n",
              "      <td>Joann</td>\n",
              "      <td>11.50</td>\n",
              "      <td>50.0</td>\n",
              "    </tr>\n",
              "    <tr>\n",
              "      <th>2</th>\n",
              "      <td>Pedro</td>\n",
              "      <td>9.00</td>\n",
              "      <td>47.0</td>\n",
              "    </tr>\n",
              "    <tr>\n",
              "      <th>3</th>\n",
              "      <td>Rosie</td>\n",
              "      <td>16.00</td>\n",
              "      <td>97.0</td>\n",
              "    </tr>\n",
              "    <tr>\n",
              "      <th>4</th>\n",
              "      <td>Ethan</td>\n",
              "      <td>9.25</td>\n",
              "      <td>49.0</td>\n",
              "    </tr>\n",
              "    <tr>\n",
              "      <th>5</th>\n",
              "      <td>Vicky</td>\n",
              "      <td>1.00</td>\n",
              "      <td>3.0</td>\n",
              "    </tr>\n",
              "  </tbody>\n",
              "</table>\n",
              "</div>\n",
              "      <button class=\"colab-df-convert\" onclick=\"convertToInteractive('df-9c926633-0caf-4e1f-b661-f51e36e7ef44')\"\n",
              "              title=\"Convert this dataframe to an interactive table.\"\n",
              "              style=\"display:none;\">\n",
              "        \n",
              "  <svg xmlns=\"http://www.w3.org/2000/svg\" height=\"24px\"viewBox=\"0 0 24 24\"\n",
              "       width=\"24px\">\n",
              "    <path d=\"M0 0h24v24H0V0z\" fill=\"none\"/>\n",
              "    <path d=\"M18.56 5.44l.94 2.06.94-2.06 2.06-.94-2.06-.94-.94-2.06-.94 2.06-2.06.94zm-11 1L8.5 8.5l.94-2.06 2.06-.94-2.06-.94L8.5 2.5l-.94 2.06-2.06.94zm10 10l.94 2.06.94-2.06 2.06-.94-2.06-.94-.94-2.06-.94 2.06-2.06.94z\"/><path d=\"M17.41 7.96l-1.37-1.37c-.4-.4-.92-.59-1.43-.59-.52 0-1.04.2-1.43.59L10.3 9.45l-7.72 7.72c-.78.78-.78 2.05 0 2.83L4 21.41c.39.39.9.59 1.41.59.51 0 1.02-.2 1.41-.59l7.78-7.78 2.81-2.81c.8-.78.8-2.07 0-2.86zM5.41 20L4 18.59l7.72-7.72 1.47 1.35L5.41 20z\"/>\n",
              "  </svg>\n",
              "      </button>\n",
              "      \n",
              "  <style>\n",
              "    .colab-df-container {\n",
              "      display:flex;\n",
              "      flex-wrap:wrap;\n",
              "      gap: 12px;\n",
              "    }\n",
              "\n",
              "    .colab-df-convert {\n",
              "      background-color: #E8F0FE;\n",
              "      border: none;\n",
              "      border-radius: 50%;\n",
              "      cursor: pointer;\n",
              "      display: none;\n",
              "      fill: #1967D2;\n",
              "      height: 32px;\n",
              "      padding: 0 0 0 0;\n",
              "      width: 32px;\n",
              "    }\n",
              "\n",
              "    .colab-df-convert:hover {\n",
              "      background-color: #E2EBFA;\n",
              "      box-shadow: 0px 1px 2px rgba(60, 64, 67, 0.3), 0px 1px 3px 1px rgba(60, 64, 67, 0.15);\n",
              "      fill: #174EA6;\n",
              "    }\n",
              "\n",
              "    [theme=dark] .colab-df-convert {\n",
              "      background-color: #3B4455;\n",
              "      fill: #D2E3FC;\n",
              "    }\n",
              "\n",
              "    [theme=dark] .colab-df-convert:hover {\n",
              "      background-color: #434B5C;\n",
              "      box-shadow: 0px 1px 3px 1px rgba(0, 0, 0, 0.15);\n",
              "      filter: drop-shadow(0px 1px 2px rgba(0, 0, 0, 0.3));\n",
              "      fill: #FFFFFF;\n",
              "    }\n",
              "  </style>\n",
              "\n",
              "      <script>\n",
              "        const buttonEl =\n",
              "          document.querySelector('#df-9c926633-0caf-4e1f-b661-f51e36e7ef44 button.colab-df-convert');\n",
              "        buttonEl.style.display =\n",
              "          google.colab.kernel.accessAllowed ? 'block' : 'none';\n",
              "\n",
              "        async function convertToInteractive(key) {\n",
              "          const element = document.querySelector('#df-9c926633-0caf-4e1f-b661-f51e36e7ef44');\n",
              "          const dataTable =\n",
              "            await google.colab.kernel.invokeFunction('convertToInteractive',\n",
              "                                                     [key], {});\n",
              "          if (!dataTable) return;\n",
              "\n",
              "          const docLinkHtml = 'Like what you see? Visit the ' +\n",
              "            '<a target=\"_blank\" href=https://colab.research.google.com/notebooks/data_table.ipynb>data table notebook</a>'\n",
              "            + ' to learn more about interactive tables.';\n",
              "          element.innerHTML = '';\n",
              "          dataTable['output_type'] = 'display_data';\n",
              "          await google.colab.output.renderOutput(dataTable, element);\n",
              "          const docLink = document.createElement('div');\n",
              "          docLink.innerHTML = docLinkHtml;\n",
              "          element.appendChild(docLink);\n",
              "        }\n",
              "      </script>\n",
              "    </div>\n",
              "  </div>\n",
              "  "
            ]
          },
          "metadata": {},
          "execution_count": 17
        }
      ]
    },
    {
      "cell_type": "markdown",
      "source": [
        "In addition to being able to use the loc method to find rows based on the index, you can use the iloc method to find rows based on their ordinal position in the DataFrame (regardless of the index):"
      ],
      "metadata": {
        "id": "QCLRveAQEla0"
      }
    },
    {
      "cell_type": "code",
      "source": [
        "# Get data in the first five rows\n",
        "df_students.iloc[0:5]"
      ],
      "metadata": {
        "colab": {
          "base_uri": "https://localhost:8080/",
          "height": 206
        },
        "id": "OFaOzjvHEmDk",
        "outputId": "8a9961c3-bffc-4078-b5d2-c67d2f11fba7"
      },
      "execution_count": null,
      "outputs": [
        {
          "output_type": "execute_result",
          "data": {
            "text/plain": [
              "    Name  StudyHours  Grade\n",
              "0    Dan       10.00   50.0\n",
              "1  Joann       11.50   50.0\n",
              "2  Pedro        9.00   47.0\n",
              "3  Rosie       16.00   97.0\n",
              "4  Ethan        9.25   49.0"
            ],
            "text/html": [
              "\n",
              "  <div id=\"df-f1029076-3975-46ad-91f6-2a778cb96e8e\">\n",
              "    <div class=\"colab-df-container\">\n",
              "      <div>\n",
              "<style scoped>\n",
              "    .dataframe tbody tr th:only-of-type {\n",
              "        vertical-align: middle;\n",
              "    }\n",
              "\n",
              "    .dataframe tbody tr th {\n",
              "        vertical-align: top;\n",
              "    }\n",
              "\n",
              "    .dataframe thead th {\n",
              "        text-align: right;\n",
              "    }\n",
              "</style>\n",
              "<table border=\"1\" class=\"dataframe\">\n",
              "  <thead>\n",
              "    <tr style=\"text-align: right;\">\n",
              "      <th></th>\n",
              "      <th>Name</th>\n",
              "      <th>StudyHours</th>\n",
              "      <th>Grade</th>\n",
              "    </tr>\n",
              "  </thead>\n",
              "  <tbody>\n",
              "    <tr>\n",
              "      <th>0</th>\n",
              "      <td>Dan</td>\n",
              "      <td>10.00</td>\n",
              "      <td>50.0</td>\n",
              "    </tr>\n",
              "    <tr>\n",
              "      <th>1</th>\n",
              "      <td>Joann</td>\n",
              "      <td>11.50</td>\n",
              "      <td>50.0</td>\n",
              "    </tr>\n",
              "    <tr>\n",
              "      <th>2</th>\n",
              "      <td>Pedro</td>\n",
              "      <td>9.00</td>\n",
              "      <td>47.0</td>\n",
              "    </tr>\n",
              "    <tr>\n",
              "      <th>3</th>\n",
              "      <td>Rosie</td>\n",
              "      <td>16.00</td>\n",
              "      <td>97.0</td>\n",
              "    </tr>\n",
              "    <tr>\n",
              "      <th>4</th>\n",
              "      <td>Ethan</td>\n",
              "      <td>9.25</td>\n",
              "      <td>49.0</td>\n",
              "    </tr>\n",
              "  </tbody>\n",
              "</table>\n",
              "</div>\n",
              "      <button class=\"colab-df-convert\" onclick=\"convertToInteractive('df-f1029076-3975-46ad-91f6-2a778cb96e8e')\"\n",
              "              title=\"Convert this dataframe to an interactive table.\"\n",
              "              style=\"display:none;\">\n",
              "        \n",
              "  <svg xmlns=\"http://www.w3.org/2000/svg\" height=\"24px\"viewBox=\"0 0 24 24\"\n",
              "       width=\"24px\">\n",
              "    <path d=\"M0 0h24v24H0V0z\" fill=\"none\"/>\n",
              "    <path d=\"M18.56 5.44l.94 2.06.94-2.06 2.06-.94-2.06-.94-.94-2.06-.94 2.06-2.06.94zm-11 1L8.5 8.5l.94-2.06 2.06-.94-2.06-.94L8.5 2.5l-.94 2.06-2.06.94zm10 10l.94 2.06.94-2.06 2.06-.94-2.06-.94-.94-2.06-.94 2.06-2.06.94z\"/><path d=\"M17.41 7.96l-1.37-1.37c-.4-.4-.92-.59-1.43-.59-.52 0-1.04.2-1.43.59L10.3 9.45l-7.72 7.72c-.78.78-.78 2.05 0 2.83L4 21.41c.39.39.9.59 1.41.59.51 0 1.02-.2 1.41-.59l7.78-7.78 2.81-2.81c.8-.78.8-2.07 0-2.86zM5.41 20L4 18.59l7.72-7.72 1.47 1.35L5.41 20z\"/>\n",
              "  </svg>\n",
              "      </button>\n",
              "      \n",
              "  <style>\n",
              "    .colab-df-container {\n",
              "      display:flex;\n",
              "      flex-wrap:wrap;\n",
              "      gap: 12px;\n",
              "    }\n",
              "\n",
              "    .colab-df-convert {\n",
              "      background-color: #E8F0FE;\n",
              "      border: none;\n",
              "      border-radius: 50%;\n",
              "      cursor: pointer;\n",
              "      display: none;\n",
              "      fill: #1967D2;\n",
              "      height: 32px;\n",
              "      padding: 0 0 0 0;\n",
              "      width: 32px;\n",
              "    }\n",
              "\n",
              "    .colab-df-convert:hover {\n",
              "      background-color: #E2EBFA;\n",
              "      box-shadow: 0px 1px 2px rgba(60, 64, 67, 0.3), 0px 1px 3px 1px rgba(60, 64, 67, 0.15);\n",
              "      fill: #174EA6;\n",
              "    }\n",
              "\n",
              "    [theme=dark] .colab-df-convert {\n",
              "      background-color: #3B4455;\n",
              "      fill: #D2E3FC;\n",
              "    }\n",
              "\n",
              "    [theme=dark] .colab-df-convert:hover {\n",
              "      background-color: #434B5C;\n",
              "      box-shadow: 0px 1px 3px 1px rgba(0, 0, 0, 0.15);\n",
              "      filter: drop-shadow(0px 1px 2px rgba(0, 0, 0, 0.3));\n",
              "      fill: #FFFFFF;\n",
              "    }\n",
              "  </style>\n",
              "\n",
              "      <script>\n",
              "        const buttonEl =\n",
              "          document.querySelector('#df-f1029076-3975-46ad-91f6-2a778cb96e8e button.colab-df-convert');\n",
              "        buttonEl.style.display =\n",
              "          google.colab.kernel.accessAllowed ? 'block' : 'none';\n",
              "\n",
              "        async function convertToInteractive(key) {\n",
              "          const element = document.querySelector('#df-f1029076-3975-46ad-91f6-2a778cb96e8e');\n",
              "          const dataTable =\n",
              "            await google.colab.kernel.invokeFunction('convertToInteractive',\n",
              "                                                     [key], {});\n",
              "          if (!dataTable) return;\n",
              "\n",
              "          const docLinkHtml = 'Like what you see? Visit the ' +\n",
              "            '<a target=\"_blank\" href=https://colab.research.google.com/notebooks/data_table.ipynb>data table notebook</a>'\n",
              "            + ' to learn more about interactive tables.';\n",
              "          element.innerHTML = '';\n",
              "          dataTable['output_type'] = 'display_data';\n",
              "          await google.colab.output.renderOutput(dataTable, element);\n",
              "          const docLink = document.createElement('div');\n",
              "          docLink.innerHTML = docLinkHtml;\n",
              "          element.appendChild(docLink);\n",
              "        }\n",
              "      </script>\n",
              "    </div>\n",
              "  </div>\n",
              "  "
            ]
          },
          "metadata": {},
          "execution_count": 18
        }
      ]
    },
    {
      "cell_type": "markdown",
      "source": [
        "Look carefully at the iloc[0:5] results, and compare them to the loc[0:5] results you obtained previously. Can you spot the difference?\n",
        "\n",
        "The loc method returned rows with index label in the list of values from 0 to 5, which includes 0, 1, 2, 3, 4, and 5 (six rows). However, the iloc method returns the rows in the positions included in the range 0 to 5. Since integer ranges don't include the upper-bound value, this includes positions 0, 1, 2, 3, and 4 (five rows).\n",
        "\n",
        "iloc identifies data values in a DataFrame by position, which extends beyond rows to columns. So, for example, you can use it to find the values for the columns in positions 1 and 2 in row 0, like this:"
      ],
      "metadata": {
        "id": "j5PvCvetEzd_"
      }
    },
    {
      "cell_type": "code",
      "source": [
        "df_students.iloc[0,[1,2]]"
      ],
      "metadata": {
        "colab": {
          "base_uri": "https://localhost:8080/"
        },
        "id": "KayKiio6FKrP",
        "outputId": "5af7c065-eea7-40ef-e58a-a1f6a304f21b"
      },
      "execution_count": null,
      "outputs": [
        {
          "output_type": "execute_result",
          "data": {
            "text/plain": [
              "StudyHours    10.0\n",
              "Grade         50.0\n",
              "Name: 0, dtype: object"
            ]
          },
          "metadata": {},
          "execution_count": 19
        }
      ]
    },
    {
      "cell_type": "markdown",
      "source": [
        "Let's return to the loc method, and see how it works with columns. Remember that loc is used to locate data items based on index values rather than positions. In the absence of an explicit index column, the rows in our DataFrame are indexed as integer values, but the columns are identified by name:"
      ],
      "metadata": {
        "id": "HW_g3e0BH5zK"
      }
    },
    {
      "cell_type": "code",
      "source": [
        "df_students.loc[0,'Grade']"
      ],
      "metadata": {
        "colab": {
          "base_uri": "https://localhost:8080/"
        },
        "id": "ESl_bHOIH6mV",
        "outputId": "5c562112-c737-4546-a186-93356a0ef597"
      },
      "execution_count": null,
      "outputs": [
        {
          "output_type": "execute_result",
          "data": {
            "text/plain": [
              "50.0"
            ]
          },
          "metadata": {},
          "execution_count": 20
        }
      ]
    },
    {
      "cell_type": "markdown",
      "source": [
        "Here's another useful trick. You can use the loc method to find indexed rows based on a filtering expression that references named columns other than the index, like this:"
      ],
      "metadata": {
        "id": "E_GO2yobIHzr"
      }
    },
    {
      "cell_type": "code",
      "source": [
        "df_students.loc[df_students['Name']=='Aisha']"
      ],
      "metadata": {
        "colab": {
          "base_uri": "https://localhost:8080/",
          "height": 81
        },
        "id": "i5dk1kuZIIq2",
        "outputId": "e2ce4285-02a2-435b-8b62-027b0bee821f"
      },
      "execution_count": null,
      "outputs": [
        {
          "output_type": "execute_result",
          "data": {
            "text/plain": [
              "     Name  StudyHours  Grade\n",
              "21  Aisha        12.0   64.0"
            ],
            "text/html": [
              "\n",
              "  <div id=\"df-9167cb0f-df6b-437c-bf93-5736218282d9\">\n",
              "    <div class=\"colab-df-container\">\n",
              "      <div>\n",
              "<style scoped>\n",
              "    .dataframe tbody tr th:only-of-type {\n",
              "        vertical-align: middle;\n",
              "    }\n",
              "\n",
              "    .dataframe tbody tr th {\n",
              "        vertical-align: top;\n",
              "    }\n",
              "\n",
              "    .dataframe thead th {\n",
              "        text-align: right;\n",
              "    }\n",
              "</style>\n",
              "<table border=\"1\" class=\"dataframe\">\n",
              "  <thead>\n",
              "    <tr style=\"text-align: right;\">\n",
              "      <th></th>\n",
              "      <th>Name</th>\n",
              "      <th>StudyHours</th>\n",
              "      <th>Grade</th>\n",
              "    </tr>\n",
              "  </thead>\n",
              "  <tbody>\n",
              "    <tr>\n",
              "      <th>21</th>\n",
              "      <td>Aisha</td>\n",
              "      <td>12.0</td>\n",
              "      <td>64.0</td>\n",
              "    </tr>\n",
              "  </tbody>\n",
              "</table>\n",
              "</div>\n",
              "      <button class=\"colab-df-convert\" onclick=\"convertToInteractive('df-9167cb0f-df6b-437c-bf93-5736218282d9')\"\n",
              "              title=\"Convert this dataframe to an interactive table.\"\n",
              "              style=\"display:none;\">\n",
              "        \n",
              "  <svg xmlns=\"http://www.w3.org/2000/svg\" height=\"24px\"viewBox=\"0 0 24 24\"\n",
              "       width=\"24px\">\n",
              "    <path d=\"M0 0h24v24H0V0z\" fill=\"none\"/>\n",
              "    <path d=\"M18.56 5.44l.94 2.06.94-2.06 2.06-.94-2.06-.94-.94-2.06-.94 2.06-2.06.94zm-11 1L8.5 8.5l.94-2.06 2.06-.94-2.06-.94L8.5 2.5l-.94 2.06-2.06.94zm10 10l.94 2.06.94-2.06 2.06-.94-2.06-.94-.94-2.06-.94 2.06-2.06.94z\"/><path d=\"M17.41 7.96l-1.37-1.37c-.4-.4-.92-.59-1.43-.59-.52 0-1.04.2-1.43.59L10.3 9.45l-7.72 7.72c-.78.78-.78 2.05 0 2.83L4 21.41c.39.39.9.59 1.41.59.51 0 1.02-.2 1.41-.59l7.78-7.78 2.81-2.81c.8-.78.8-2.07 0-2.86zM5.41 20L4 18.59l7.72-7.72 1.47 1.35L5.41 20z\"/>\n",
              "  </svg>\n",
              "      </button>\n",
              "      \n",
              "  <style>\n",
              "    .colab-df-container {\n",
              "      display:flex;\n",
              "      flex-wrap:wrap;\n",
              "      gap: 12px;\n",
              "    }\n",
              "\n",
              "    .colab-df-convert {\n",
              "      background-color: #E8F0FE;\n",
              "      border: none;\n",
              "      border-radius: 50%;\n",
              "      cursor: pointer;\n",
              "      display: none;\n",
              "      fill: #1967D2;\n",
              "      height: 32px;\n",
              "      padding: 0 0 0 0;\n",
              "      width: 32px;\n",
              "    }\n",
              "\n",
              "    .colab-df-convert:hover {\n",
              "      background-color: #E2EBFA;\n",
              "      box-shadow: 0px 1px 2px rgba(60, 64, 67, 0.3), 0px 1px 3px 1px rgba(60, 64, 67, 0.15);\n",
              "      fill: #174EA6;\n",
              "    }\n",
              "\n",
              "    [theme=dark] .colab-df-convert {\n",
              "      background-color: #3B4455;\n",
              "      fill: #D2E3FC;\n",
              "    }\n",
              "\n",
              "    [theme=dark] .colab-df-convert:hover {\n",
              "      background-color: #434B5C;\n",
              "      box-shadow: 0px 1px 3px 1px rgba(0, 0, 0, 0.15);\n",
              "      filter: drop-shadow(0px 1px 2px rgba(0, 0, 0, 0.3));\n",
              "      fill: #FFFFFF;\n",
              "    }\n",
              "  </style>\n",
              "\n",
              "      <script>\n",
              "        const buttonEl =\n",
              "          document.querySelector('#df-9167cb0f-df6b-437c-bf93-5736218282d9 button.colab-df-convert');\n",
              "        buttonEl.style.display =\n",
              "          google.colab.kernel.accessAllowed ? 'block' : 'none';\n",
              "\n",
              "        async function convertToInteractive(key) {\n",
              "          const element = document.querySelector('#df-9167cb0f-df6b-437c-bf93-5736218282d9');\n",
              "          const dataTable =\n",
              "            await google.colab.kernel.invokeFunction('convertToInteractive',\n",
              "                                                     [key], {});\n",
              "          if (!dataTable) return;\n",
              "\n",
              "          const docLinkHtml = 'Like what you see? Visit the ' +\n",
              "            '<a target=\"_blank\" href=https://colab.research.google.com/notebooks/data_table.ipynb>data table notebook</a>'\n",
              "            + ' to learn more about interactive tables.';\n",
              "          element.innerHTML = '';\n",
              "          dataTable['output_type'] = 'display_data';\n",
              "          await google.colab.output.renderOutput(dataTable, element);\n",
              "          const docLink = document.createElement('div');\n",
              "          docLink.innerHTML = docLinkHtml;\n",
              "          element.appendChild(docLink);\n",
              "        }\n",
              "      </script>\n",
              "    </div>\n",
              "  </div>\n",
              "  "
            ]
          },
          "metadata": {},
          "execution_count": 21
        }
      ]
    },
    {
      "cell_type": "markdown",
      "source": [
        "\n",
        "Actually, you don't need to explicitly use the loc method to do this. You can simply apply a DataFrame filtering expression, like this:"
      ],
      "metadata": {
        "id": "FO-sBlQzIU1t"
      }
    },
    {
      "cell_type": "code",
      "source": [
        "df_students[df_students['Name']=='Aisha']"
      ],
      "metadata": {
        "colab": {
          "base_uri": "https://localhost:8080/",
          "height": 81
        },
        "id": "UIOgbSRAIVfQ",
        "outputId": "3be88986-4c02-470c-c6f5-772eaa960ed5"
      },
      "execution_count": null,
      "outputs": [
        {
          "output_type": "execute_result",
          "data": {
            "text/plain": [
              "     Name  StudyHours  Grade\n",
              "21  Aisha        12.0   64.0"
            ],
            "text/html": [
              "\n",
              "  <div id=\"df-333983e9-51dc-4b91-9566-3fed25b19597\">\n",
              "    <div class=\"colab-df-container\">\n",
              "      <div>\n",
              "<style scoped>\n",
              "    .dataframe tbody tr th:only-of-type {\n",
              "        vertical-align: middle;\n",
              "    }\n",
              "\n",
              "    .dataframe tbody tr th {\n",
              "        vertical-align: top;\n",
              "    }\n",
              "\n",
              "    .dataframe thead th {\n",
              "        text-align: right;\n",
              "    }\n",
              "</style>\n",
              "<table border=\"1\" class=\"dataframe\">\n",
              "  <thead>\n",
              "    <tr style=\"text-align: right;\">\n",
              "      <th></th>\n",
              "      <th>Name</th>\n",
              "      <th>StudyHours</th>\n",
              "      <th>Grade</th>\n",
              "    </tr>\n",
              "  </thead>\n",
              "  <tbody>\n",
              "    <tr>\n",
              "      <th>21</th>\n",
              "      <td>Aisha</td>\n",
              "      <td>12.0</td>\n",
              "      <td>64.0</td>\n",
              "    </tr>\n",
              "  </tbody>\n",
              "</table>\n",
              "</div>\n",
              "      <button class=\"colab-df-convert\" onclick=\"convertToInteractive('df-333983e9-51dc-4b91-9566-3fed25b19597')\"\n",
              "              title=\"Convert this dataframe to an interactive table.\"\n",
              "              style=\"display:none;\">\n",
              "        \n",
              "  <svg xmlns=\"http://www.w3.org/2000/svg\" height=\"24px\"viewBox=\"0 0 24 24\"\n",
              "       width=\"24px\">\n",
              "    <path d=\"M0 0h24v24H0V0z\" fill=\"none\"/>\n",
              "    <path d=\"M18.56 5.44l.94 2.06.94-2.06 2.06-.94-2.06-.94-.94-2.06-.94 2.06-2.06.94zm-11 1L8.5 8.5l.94-2.06 2.06-.94-2.06-.94L8.5 2.5l-.94 2.06-2.06.94zm10 10l.94 2.06.94-2.06 2.06-.94-2.06-.94-.94-2.06-.94 2.06-2.06.94z\"/><path d=\"M17.41 7.96l-1.37-1.37c-.4-.4-.92-.59-1.43-.59-.52 0-1.04.2-1.43.59L10.3 9.45l-7.72 7.72c-.78.78-.78 2.05 0 2.83L4 21.41c.39.39.9.59 1.41.59.51 0 1.02-.2 1.41-.59l7.78-7.78 2.81-2.81c.8-.78.8-2.07 0-2.86zM5.41 20L4 18.59l7.72-7.72 1.47 1.35L5.41 20z\"/>\n",
              "  </svg>\n",
              "      </button>\n",
              "      \n",
              "  <style>\n",
              "    .colab-df-container {\n",
              "      display:flex;\n",
              "      flex-wrap:wrap;\n",
              "      gap: 12px;\n",
              "    }\n",
              "\n",
              "    .colab-df-convert {\n",
              "      background-color: #E8F0FE;\n",
              "      border: none;\n",
              "      border-radius: 50%;\n",
              "      cursor: pointer;\n",
              "      display: none;\n",
              "      fill: #1967D2;\n",
              "      height: 32px;\n",
              "      padding: 0 0 0 0;\n",
              "      width: 32px;\n",
              "    }\n",
              "\n",
              "    .colab-df-convert:hover {\n",
              "      background-color: #E2EBFA;\n",
              "      box-shadow: 0px 1px 2px rgba(60, 64, 67, 0.3), 0px 1px 3px 1px rgba(60, 64, 67, 0.15);\n",
              "      fill: #174EA6;\n",
              "    }\n",
              "\n",
              "    [theme=dark] .colab-df-convert {\n",
              "      background-color: #3B4455;\n",
              "      fill: #D2E3FC;\n",
              "    }\n",
              "\n",
              "    [theme=dark] .colab-df-convert:hover {\n",
              "      background-color: #434B5C;\n",
              "      box-shadow: 0px 1px 3px 1px rgba(0, 0, 0, 0.15);\n",
              "      filter: drop-shadow(0px 1px 2px rgba(0, 0, 0, 0.3));\n",
              "      fill: #FFFFFF;\n",
              "    }\n",
              "  </style>\n",
              "\n",
              "      <script>\n",
              "        const buttonEl =\n",
              "          document.querySelector('#df-333983e9-51dc-4b91-9566-3fed25b19597 button.colab-df-convert');\n",
              "        buttonEl.style.display =\n",
              "          google.colab.kernel.accessAllowed ? 'block' : 'none';\n",
              "\n",
              "        async function convertToInteractive(key) {\n",
              "          const element = document.querySelector('#df-333983e9-51dc-4b91-9566-3fed25b19597');\n",
              "          const dataTable =\n",
              "            await google.colab.kernel.invokeFunction('convertToInteractive',\n",
              "                                                     [key], {});\n",
              "          if (!dataTable) return;\n",
              "\n",
              "          const docLinkHtml = 'Like what you see? Visit the ' +\n",
              "            '<a target=\"_blank\" href=https://colab.research.google.com/notebooks/data_table.ipynb>data table notebook</a>'\n",
              "            + ' to learn more about interactive tables.';\n",
              "          element.innerHTML = '';\n",
              "          dataTable['output_type'] = 'display_data';\n",
              "          await google.colab.output.renderOutput(dataTable, element);\n",
              "          const docLink = document.createElement('div');\n",
              "          docLink.innerHTML = docLinkHtml;\n",
              "          element.appendChild(docLink);\n",
              "        }\n",
              "      </script>\n",
              "    </div>\n",
              "  </div>\n",
              "  "
            ]
          },
          "metadata": {},
          "execution_count": 22
        }
      ]
    },
    {
      "cell_type": "markdown",
      "source": [
        "And for good measure, you can achieve the same results by using the DataFrame's query method, like this:"
      ],
      "metadata": {
        "id": "8XGqIA26IdCm"
      }
    },
    {
      "cell_type": "code",
      "source": [
        "df_students.query('Name==\"Aisha\"')"
      ],
      "metadata": {
        "colab": {
          "base_uri": "https://localhost:8080/",
          "height": 81
        },
        "id": "qyWx9G8hIdzQ",
        "outputId": "d804a284-c88b-4988-c049-f97b892e7772"
      },
      "execution_count": null,
      "outputs": [
        {
          "output_type": "execute_result",
          "data": {
            "text/plain": [
              "     Name  StudyHours  Grade\n",
              "21  Aisha        12.0   64.0"
            ],
            "text/html": [
              "\n",
              "  <div id=\"df-b98ad051-cae7-4e59-a126-e9e3dd5abfd8\">\n",
              "    <div class=\"colab-df-container\">\n",
              "      <div>\n",
              "<style scoped>\n",
              "    .dataframe tbody tr th:only-of-type {\n",
              "        vertical-align: middle;\n",
              "    }\n",
              "\n",
              "    .dataframe tbody tr th {\n",
              "        vertical-align: top;\n",
              "    }\n",
              "\n",
              "    .dataframe thead th {\n",
              "        text-align: right;\n",
              "    }\n",
              "</style>\n",
              "<table border=\"1\" class=\"dataframe\">\n",
              "  <thead>\n",
              "    <tr style=\"text-align: right;\">\n",
              "      <th></th>\n",
              "      <th>Name</th>\n",
              "      <th>StudyHours</th>\n",
              "      <th>Grade</th>\n",
              "    </tr>\n",
              "  </thead>\n",
              "  <tbody>\n",
              "    <tr>\n",
              "      <th>21</th>\n",
              "      <td>Aisha</td>\n",
              "      <td>12.0</td>\n",
              "      <td>64.0</td>\n",
              "    </tr>\n",
              "  </tbody>\n",
              "</table>\n",
              "</div>\n",
              "      <button class=\"colab-df-convert\" onclick=\"convertToInteractive('df-b98ad051-cae7-4e59-a126-e9e3dd5abfd8')\"\n",
              "              title=\"Convert this dataframe to an interactive table.\"\n",
              "              style=\"display:none;\">\n",
              "        \n",
              "  <svg xmlns=\"http://www.w3.org/2000/svg\" height=\"24px\"viewBox=\"0 0 24 24\"\n",
              "       width=\"24px\">\n",
              "    <path d=\"M0 0h24v24H0V0z\" fill=\"none\"/>\n",
              "    <path d=\"M18.56 5.44l.94 2.06.94-2.06 2.06-.94-2.06-.94-.94-2.06-.94 2.06-2.06.94zm-11 1L8.5 8.5l.94-2.06 2.06-.94-2.06-.94L8.5 2.5l-.94 2.06-2.06.94zm10 10l.94 2.06.94-2.06 2.06-.94-2.06-.94-.94-2.06-.94 2.06-2.06.94z\"/><path d=\"M17.41 7.96l-1.37-1.37c-.4-.4-.92-.59-1.43-.59-.52 0-1.04.2-1.43.59L10.3 9.45l-7.72 7.72c-.78.78-.78 2.05 0 2.83L4 21.41c.39.39.9.59 1.41.59.51 0 1.02-.2 1.41-.59l7.78-7.78 2.81-2.81c.8-.78.8-2.07 0-2.86zM5.41 20L4 18.59l7.72-7.72 1.47 1.35L5.41 20z\"/>\n",
              "  </svg>\n",
              "      </button>\n",
              "      \n",
              "  <style>\n",
              "    .colab-df-container {\n",
              "      display:flex;\n",
              "      flex-wrap:wrap;\n",
              "      gap: 12px;\n",
              "    }\n",
              "\n",
              "    .colab-df-convert {\n",
              "      background-color: #E8F0FE;\n",
              "      border: none;\n",
              "      border-radius: 50%;\n",
              "      cursor: pointer;\n",
              "      display: none;\n",
              "      fill: #1967D2;\n",
              "      height: 32px;\n",
              "      padding: 0 0 0 0;\n",
              "      width: 32px;\n",
              "    }\n",
              "\n",
              "    .colab-df-convert:hover {\n",
              "      background-color: #E2EBFA;\n",
              "      box-shadow: 0px 1px 2px rgba(60, 64, 67, 0.3), 0px 1px 3px 1px rgba(60, 64, 67, 0.15);\n",
              "      fill: #174EA6;\n",
              "    }\n",
              "\n",
              "    [theme=dark] .colab-df-convert {\n",
              "      background-color: #3B4455;\n",
              "      fill: #D2E3FC;\n",
              "    }\n",
              "\n",
              "    [theme=dark] .colab-df-convert:hover {\n",
              "      background-color: #434B5C;\n",
              "      box-shadow: 0px 1px 3px 1px rgba(0, 0, 0, 0.15);\n",
              "      filter: drop-shadow(0px 1px 2px rgba(0, 0, 0, 0.3));\n",
              "      fill: #FFFFFF;\n",
              "    }\n",
              "  </style>\n",
              "\n",
              "      <script>\n",
              "        const buttonEl =\n",
              "          document.querySelector('#df-b98ad051-cae7-4e59-a126-e9e3dd5abfd8 button.colab-df-convert');\n",
              "        buttonEl.style.display =\n",
              "          google.colab.kernel.accessAllowed ? 'block' : 'none';\n",
              "\n",
              "        async function convertToInteractive(key) {\n",
              "          const element = document.querySelector('#df-b98ad051-cae7-4e59-a126-e9e3dd5abfd8');\n",
              "          const dataTable =\n",
              "            await google.colab.kernel.invokeFunction('convertToInteractive',\n",
              "                                                     [key], {});\n",
              "          if (!dataTable) return;\n",
              "\n",
              "          const docLinkHtml = 'Like what you see? Visit the ' +\n",
              "            '<a target=\"_blank\" href=https://colab.research.google.com/notebooks/data_table.ipynb>data table notebook</a>'\n",
              "            + ' to learn more about interactive tables.';\n",
              "          element.innerHTML = '';\n",
              "          dataTable['output_type'] = 'display_data';\n",
              "          await google.colab.output.renderOutput(dataTable, element);\n",
              "          const docLink = document.createElement('div');\n",
              "          docLink.innerHTML = docLinkHtml;\n",
              "          element.appendChild(docLink);\n",
              "        }\n",
              "      </script>\n",
              "    </div>\n",
              "  </div>\n",
              "  "
            ]
          },
          "metadata": {},
          "execution_count": 23
        }
      ]
    },
    {
      "cell_type": "markdown",
      "source": [
        "The three previous examples underline a confusing truth about working with Pandas. Often, there are multiple ways to achieve the same results. Another example of this is the way you refer to a DataFrame column name. You can specify the column name as a named index value (as in the df_students['Name'] examples we've seen so far), or you can use the column as a property of the DataFrame, like this:"
      ],
      "metadata": {
        "id": "yDpg2WDjJUp2"
      }
    },
    {
      "cell_type": "code",
      "source": [
        "df_students[df_students.Name == 'Aisha']"
      ],
      "metadata": {
        "colab": {
          "base_uri": "https://localhost:8080/",
          "height": 81
        },
        "id": "u5Vjg1jpJW4r",
        "outputId": "57f781d1-47a1-42ad-cff2-93707009ca2c"
      },
      "execution_count": null,
      "outputs": [
        {
          "output_type": "execute_result",
          "data": {
            "text/plain": [
              "     Name  StudyHours  Grade\n",
              "21  Aisha        12.0   64.0"
            ],
            "text/html": [
              "\n",
              "  <div id=\"df-6654cd8e-19f0-4535-9b47-662cf8f3c2a9\">\n",
              "    <div class=\"colab-df-container\">\n",
              "      <div>\n",
              "<style scoped>\n",
              "    .dataframe tbody tr th:only-of-type {\n",
              "        vertical-align: middle;\n",
              "    }\n",
              "\n",
              "    .dataframe tbody tr th {\n",
              "        vertical-align: top;\n",
              "    }\n",
              "\n",
              "    .dataframe thead th {\n",
              "        text-align: right;\n",
              "    }\n",
              "</style>\n",
              "<table border=\"1\" class=\"dataframe\">\n",
              "  <thead>\n",
              "    <tr style=\"text-align: right;\">\n",
              "      <th></th>\n",
              "      <th>Name</th>\n",
              "      <th>StudyHours</th>\n",
              "      <th>Grade</th>\n",
              "    </tr>\n",
              "  </thead>\n",
              "  <tbody>\n",
              "    <tr>\n",
              "      <th>21</th>\n",
              "      <td>Aisha</td>\n",
              "      <td>12.0</td>\n",
              "      <td>64.0</td>\n",
              "    </tr>\n",
              "  </tbody>\n",
              "</table>\n",
              "</div>\n",
              "      <button class=\"colab-df-convert\" onclick=\"convertToInteractive('df-6654cd8e-19f0-4535-9b47-662cf8f3c2a9')\"\n",
              "              title=\"Convert this dataframe to an interactive table.\"\n",
              "              style=\"display:none;\">\n",
              "        \n",
              "  <svg xmlns=\"http://www.w3.org/2000/svg\" height=\"24px\"viewBox=\"0 0 24 24\"\n",
              "       width=\"24px\">\n",
              "    <path d=\"M0 0h24v24H0V0z\" fill=\"none\"/>\n",
              "    <path d=\"M18.56 5.44l.94 2.06.94-2.06 2.06-.94-2.06-.94-.94-2.06-.94 2.06-2.06.94zm-11 1L8.5 8.5l.94-2.06 2.06-.94-2.06-.94L8.5 2.5l-.94 2.06-2.06.94zm10 10l.94 2.06.94-2.06 2.06-.94-2.06-.94-.94-2.06-.94 2.06-2.06.94z\"/><path d=\"M17.41 7.96l-1.37-1.37c-.4-.4-.92-.59-1.43-.59-.52 0-1.04.2-1.43.59L10.3 9.45l-7.72 7.72c-.78.78-.78 2.05 0 2.83L4 21.41c.39.39.9.59 1.41.59.51 0 1.02-.2 1.41-.59l7.78-7.78 2.81-2.81c.8-.78.8-2.07 0-2.86zM5.41 20L4 18.59l7.72-7.72 1.47 1.35L5.41 20z\"/>\n",
              "  </svg>\n",
              "      </button>\n",
              "      \n",
              "  <style>\n",
              "    .colab-df-container {\n",
              "      display:flex;\n",
              "      flex-wrap:wrap;\n",
              "      gap: 12px;\n",
              "    }\n",
              "\n",
              "    .colab-df-convert {\n",
              "      background-color: #E8F0FE;\n",
              "      border: none;\n",
              "      border-radius: 50%;\n",
              "      cursor: pointer;\n",
              "      display: none;\n",
              "      fill: #1967D2;\n",
              "      height: 32px;\n",
              "      padding: 0 0 0 0;\n",
              "      width: 32px;\n",
              "    }\n",
              "\n",
              "    .colab-df-convert:hover {\n",
              "      background-color: #E2EBFA;\n",
              "      box-shadow: 0px 1px 2px rgba(60, 64, 67, 0.3), 0px 1px 3px 1px rgba(60, 64, 67, 0.15);\n",
              "      fill: #174EA6;\n",
              "    }\n",
              "\n",
              "    [theme=dark] .colab-df-convert {\n",
              "      background-color: #3B4455;\n",
              "      fill: #D2E3FC;\n",
              "    }\n",
              "\n",
              "    [theme=dark] .colab-df-convert:hover {\n",
              "      background-color: #434B5C;\n",
              "      box-shadow: 0px 1px 3px 1px rgba(0, 0, 0, 0.15);\n",
              "      filter: drop-shadow(0px 1px 2px rgba(0, 0, 0, 0.3));\n",
              "      fill: #FFFFFF;\n",
              "    }\n",
              "  </style>\n",
              "\n",
              "      <script>\n",
              "        const buttonEl =\n",
              "          document.querySelector('#df-6654cd8e-19f0-4535-9b47-662cf8f3c2a9 button.colab-df-convert');\n",
              "        buttonEl.style.display =\n",
              "          google.colab.kernel.accessAllowed ? 'block' : 'none';\n",
              "\n",
              "        async function convertToInteractive(key) {\n",
              "          const element = document.querySelector('#df-6654cd8e-19f0-4535-9b47-662cf8f3c2a9');\n",
              "          const dataTable =\n",
              "            await google.colab.kernel.invokeFunction('convertToInteractive',\n",
              "                                                     [key], {});\n",
              "          if (!dataTable) return;\n",
              "\n",
              "          const docLinkHtml = 'Like what you see? Visit the ' +\n",
              "            '<a target=\"_blank\" href=https://colab.research.google.com/notebooks/data_table.ipynb>data table notebook</a>'\n",
              "            + ' to learn more about interactive tables.';\n",
              "          element.innerHTML = '';\n",
              "          dataTable['output_type'] = 'display_data';\n",
              "          await google.colab.output.renderOutput(dataTable, element);\n",
              "          const docLink = document.createElement('div');\n",
              "          docLink.innerHTML = docLinkHtml;\n",
              "          element.appendChild(docLink);\n",
              "        }\n",
              "      </script>\n",
              "    </div>\n",
              "  </div>\n",
              "  "
            ]
          },
          "metadata": {},
          "execution_count": 24
        }
      ]
    },
    {
      "cell_type": "markdown",
      "source": [
        "**Loading a DataFrame from a file**\n",
        "\n",
        "We constructed the DataFrame from some existing arrays. However, in many real-world scenarios, data is loaded from sources such as files. Let's replace the student grades DataFrame with the contents of a text file."
      ],
      "metadata": {
        "id": "v8GBrc9LJdBY"
      }
    },
    {
      "cell_type": "code",
      "source": [
        "!wget https://raw.githubusercontent.com/MicrosoftDocs/mslearn-introduction-to-machine-learning/main/Data/ml-basics/grades.csv\n",
        "df_students = pd.read_csv('grades.csv',delimiter=',',header='infer')\n",
        "df_students.head()"
      ],
      "metadata": {
        "colab": {
          "base_uri": "https://localhost:8080/",
          "height": 397
        },
        "id": "DysNdmKlJs3Z",
        "outputId": "102099cf-336b-49d8-c62e-01581d45fb33"
      },
      "execution_count": null,
      "outputs": [
        {
          "output_type": "stream",
          "name": "stdout",
          "text": [
            "--2023-03-09 16:43:26--  https://raw.githubusercontent.com/MicrosoftDocs/mslearn-introduction-to-machine-learning/main/Data/ml-basics/grades.csv\n",
            "Resolving raw.githubusercontent.com (raw.githubusercontent.com)... 185.199.109.133, 185.199.110.133, 185.199.111.133, ...\n",
            "Connecting to raw.githubusercontent.com (raw.githubusercontent.com)|185.199.109.133|:443... connected.\n",
            "HTTP request sent, awaiting response... 200 OK\n",
            "Length: 322 [text/plain]\n",
            "Saving to: ‘grades.csv.1’\n",
            "\n",
            "\rgrades.csv.1          0%[                    ]       0  --.-KB/s               \rgrades.csv.1        100%[===================>]     322  --.-KB/s    in 0s      \n",
            "\n",
            "2023-03-09 16:43:26 (24.5 MB/s) - ‘grades.csv.1’ saved [322/322]\n",
            "\n"
          ]
        },
        {
          "output_type": "execute_result",
          "data": {
            "text/plain": [
              "    Name  StudyHours  Grade\n",
              "0    Dan       10.00   50.0\n",
              "1  Joann       11.50   50.0\n",
              "2  Pedro        9.00   47.0\n",
              "3  Rosie       16.00   97.0\n",
              "4  Ethan        9.25   49.0"
            ],
            "text/html": [
              "\n",
              "  <div id=\"df-ab27ca11-bb36-4cd5-81c1-9aa075d9d60d\">\n",
              "    <div class=\"colab-df-container\">\n",
              "      <div>\n",
              "<style scoped>\n",
              "    .dataframe tbody tr th:only-of-type {\n",
              "        vertical-align: middle;\n",
              "    }\n",
              "\n",
              "    .dataframe tbody tr th {\n",
              "        vertical-align: top;\n",
              "    }\n",
              "\n",
              "    .dataframe thead th {\n",
              "        text-align: right;\n",
              "    }\n",
              "</style>\n",
              "<table border=\"1\" class=\"dataframe\">\n",
              "  <thead>\n",
              "    <tr style=\"text-align: right;\">\n",
              "      <th></th>\n",
              "      <th>Name</th>\n",
              "      <th>StudyHours</th>\n",
              "      <th>Grade</th>\n",
              "    </tr>\n",
              "  </thead>\n",
              "  <tbody>\n",
              "    <tr>\n",
              "      <th>0</th>\n",
              "      <td>Dan</td>\n",
              "      <td>10.00</td>\n",
              "      <td>50.0</td>\n",
              "    </tr>\n",
              "    <tr>\n",
              "      <th>1</th>\n",
              "      <td>Joann</td>\n",
              "      <td>11.50</td>\n",
              "      <td>50.0</td>\n",
              "    </tr>\n",
              "    <tr>\n",
              "      <th>2</th>\n",
              "      <td>Pedro</td>\n",
              "      <td>9.00</td>\n",
              "      <td>47.0</td>\n",
              "    </tr>\n",
              "    <tr>\n",
              "      <th>3</th>\n",
              "      <td>Rosie</td>\n",
              "      <td>16.00</td>\n",
              "      <td>97.0</td>\n",
              "    </tr>\n",
              "    <tr>\n",
              "      <th>4</th>\n",
              "      <td>Ethan</td>\n",
              "      <td>9.25</td>\n",
              "      <td>49.0</td>\n",
              "    </tr>\n",
              "  </tbody>\n",
              "</table>\n",
              "</div>\n",
              "      <button class=\"colab-df-convert\" onclick=\"convertToInteractive('df-ab27ca11-bb36-4cd5-81c1-9aa075d9d60d')\"\n",
              "              title=\"Convert this dataframe to an interactive table.\"\n",
              "              style=\"display:none;\">\n",
              "        \n",
              "  <svg xmlns=\"http://www.w3.org/2000/svg\" height=\"24px\"viewBox=\"0 0 24 24\"\n",
              "       width=\"24px\">\n",
              "    <path d=\"M0 0h24v24H0V0z\" fill=\"none\"/>\n",
              "    <path d=\"M18.56 5.44l.94 2.06.94-2.06 2.06-.94-2.06-.94-.94-2.06-.94 2.06-2.06.94zm-11 1L8.5 8.5l.94-2.06 2.06-.94-2.06-.94L8.5 2.5l-.94 2.06-2.06.94zm10 10l.94 2.06.94-2.06 2.06-.94-2.06-.94-.94-2.06-.94 2.06-2.06.94z\"/><path d=\"M17.41 7.96l-1.37-1.37c-.4-.4-.92-.59-1.43-.59-.52 0-1.04.2-1.43.59L10.3 9.45l-7.72 7.72c-.78.78-.78 2.05 0 2.83L4 21.41c.39.39.9.59 1.41.59.51 0 1.02-.2 1.41-.59l7.78-7.78 2.81-2.81c.8-.78.8-2.07 0-2.86zM5.41 20L4 18.59l7.72-7.72 1.47 1.35L5.41 20z\"/>\n",
              "  </svg>\n",
              "      </button>\n",
              "      \n",
              "  <style>\n",
              "    .colab-df-container {\n",
              "      display:flex;\n",
              "      flex-wrap:wrap;\n",
              "      gap: 12px;\n",
              "    }\n",
              "\n",
              "    .colab-df-convert {\n",
              "      background-color: #E8F0FE;\n",
              "      border: none;\n",
              "      border-radius: 50%;\n",
              "      cursor: pointer;\n",
              "      display: none;\n",
              "      fill: #1967D2;\n",
              "      height: 32px;\n",
              "      padding: 0 0 0 0;\n",
              "      width: 32px;\n",
              "    }\n",
              "\n",
              "    .colab-df-convert:hover {\n",
              "      background-color: #E2EBFA;\n",
              "      box-shadow: 0px 1px 2px rgba(60, 64, 67, 0.3), 0px 1px 3px 1px rgba(60, 64, 67, 0.15);\n",
              "      fill: #174EA6;\n",
              "    }\n",
              "\n",
              "    [theme=dark] .colab-df-convert {\n",
              "      background-color: #3B4455;\n",
              "      fill: #D2E3FC;\n",
              "    }\n",
              "\n",
              "    [theme=dark] .colab-df-convert:hover {\n",
              "      background-color: #434B5C;\n",
              "      box-shadow: 0px 1px 3px 1px rgba(0, 0, 0, 0.15);\n",
              "      filter: drop-shadow(0px 1px 2px rgba(0, 0, 0, 0.3));\n",
              "      fill: #FFFFFF;\n",
              "    }\n",
              "  </style>\n",
              "\n",
              "      <script>\n",
              "        const buttonEl =\n",
              "          document.querySelector('#df-ab27ca11-bb36-4cd5-81c1-9aa075d9d60d button.colab-df-convert');\n",
              "        buttonEl.style.display =\n",
              "          google.colab.kernel.accessAllowed ? 'block' : 'none';\n",
              "\n",
              "        async function convertToInteractive(key) {\n",
              "          const element = document.querySelector('#df-ab27ca11-bb36-4cd5-81c1-9aa075d9d60d');\n",
              "          const dataTable =\n",
              "            await google.colab.kernel.invokeFunction('convertToInteractive',\n",
              "                                                     [key], {});\n",
              "          if (!dataTable) return;\n",
              "\n",
              "          const docLinkHtml = 'Like what you see? Visit the ' +\n",
              "            '<a target=\"_blank\" href=https://colab.research.google.com/notebooks/data_table.ipynb>data table notebook</a>'\n",
              "            + ' to learn more about interactive tables.';\n",
              "          element.innerHTML = '';\n",
              "          dataTable['output_type'] = 'display_data';\n",
              "          await google.colab.output.renderOutput(dataTable, element);\n",
              "          const docLink = document.createElement('div');\n",
              "          docLink.innerHTML = docLinkHtml;\n",
              "          element.appendChild(docLink);\n",
              "        }\n",
              "      </script>\n",
              "    </div>\n",
              "  </div>\n",
              "  "
            ]
          },
          "metadata": {},
          "execution_count": 41
        }
      ]
    },
    {
      "cell_type": "markdown",
      "source": [
        "\n",
        "The DataFrame's read_csv method is used to load data from text files. As you can see in the example code, you can specify options such as the column delimiter and which row (if any) contains column headers. (In this case, the delimiter is a comma and the first row contains the column names. These are the default settings, so the parameters could have been omitted.)\n",
        "\n",
        "Handling missing values\n",
        "One of the most common issues data scientists need to deal with is incomplete or missing data. So how would we know that the DataFrame contains missing values? You can use the isnull method to identify which individual values are null, like this:"
      ],
      "metadata": {
        "id": "k5XVkjMXLHus"
      }
    },
    {
      "cell_type": "code",
      "source": [
        "df_students.isnull()"
      ],
      "metadata": {
        "colab": {
          "base_uri": "https://localhost:8080/",
          "height": 802
        },
        "id": "HWgCd8a7LKe7",
        "outputId": "d7dbacbb-3af9-4c3e-b85e-d5a477f9a6ff"
      },
      "execution_count": null,
      "outputs": [
        {
          "output_type": "execute_result",
          "data": {
            "text/plain": [
              "     Name  StudyHours  Grade\n",
              "0   False       False  False\n",
              "1   False       False  False\n",
              "2   False       False  False\n",
              "3   False       False  False\n",
              "4   False       False  False\n",
              "5   False       False  False\n",
              "6   False       False  False\n",
              "7   False       False  False\n",
              "8   False       False  False\n",
              "9   False       False  False\n",
              "10  False       False  False\n",
              "11  False       False  False\n",
              "12  False       False  False\n",
              "13  False       False  False\n",
              "14  False       False  False\n",
              "15  False       False  False\n",
              "16  False       False  False\n",
              "17  False       False  False\n",
              "18  False       False  False\n",
              "19  False       False  False\n",
              "20  False       False  False\n",
              "21  False       False  False\n",
              "22  False       False   True\n",
              "23  False        True   True"
            ],
            "text/html": [
              "\n",
              "  <div id=\"df-bc748d9c-a18d-48fa-84f3-842c0ba4fe96\">\n",
              "    <div class=\"colab-df-container\">\n",
              "      <div>\n",
              "<style scoped>\n",
              "    .dataframe tbody tr th:only-of-type {\n",
              "        vertical-align: middle;\n",
              "    }\n",
              "\n",
              "    .dataframe tbody tr th {\n",
              "        vertical-align: top;\n",
              "    }\n",
              "\n",
              "    .dataframe thead th {\n",
              "        text-align: right;\n",
              "    }\n",
              "</style>\n",
              "<table border=\"1\" class=\"dataframe\">\n",
              "  <thead>\n",
              "    <tr style=\"text-align: right;\">\n",
              "      <th></th>\n",
              "      <th>Name</th>\n",
              "      <th>StudyHours</th>\n",
              "      <th>Grade</th>\n",
              "    </tr>\n",
              "  </thead>\n",
              "  <tbody>\n",
              "    <tr>\n",
              "      <th>0</th>\n",
              "      <td>False</td>\n",
              "      <td>False</td>\n",
              "      <td>False</td>\n",
              "    </tr>\n",
              "    <tr>\n",
              "      <th>1</th>\n",
              "      <td>False</td>\n",
              "      <td>False</td>\n",
              "      <td>False</td>\n",
              "    </tr>\n",
              "    <tr>\n",
              "      <th>2</th>\n",
              "      <td>False</td>\n",
              "      <td>False</td>\n",
              "      <td>False</td>\n",
              "    </tr>\n",
              "    <tr>\n",
              "      <th>3</th>\n",
              "      <td>False</td>\n",
              "      <td>False</td>\n",
              "      <td>False</td>\n",
              "    </tr>\n",
              "    <tr>\n",
              "      <th>4</th>\n",
              "      <td>False</td>\n",
              "      <td>False</td>\n",
              "      <td>False</td>\n",
              "    </tr>\n",
              "    <tr>\n",
              "      <th>5</th>\n",
              "      <td>False</td>\n",
              "      <td>False</td>\n",
              "      <td>False</td>\n",
              "    </tr>\n",
              "    <tr>\n",
              "      <th>6</th>\n",
              "      <td>False</td>\n",
              "      <td>False</td>\n",
              "      <td>False</td>\n",
              "    </tr>\n",
              "    <tr>\n",
              "      <th>7</th>\n",
              "      <td>False</td>\n",
              "      <td>False</td>\n",
              "      <td>False</td>\n",
              "    </tr>\n",
              "    <tr>\n",
              "      <th>8</th>\n",
              "      <td>False</td>\n",
              "      <td>False</td>\n",
              "      <td>False</td>\n",
              "    </tr>\n",
              "    <tr>\n",
              "      <th>9</th>\n",
              "      <td>False</td>\n",
              "      <td>False</td>\n",
              "      <td>False</td>\n",
              "    </tr>\n",
              "    <tr>\n",
              "      <th>10</th>\n",
              "      <td>False</td>\n",
              "      <td>False</td>\n",
              "      <td>False</td>\n",
              "    </tr>\n",
              "    <tr>\n",
              "      <th>11</th>\n",
              "      <td>False</td>\n",
              "      <td>False</td>\n",
              "      <td>False</td>\n",
              "    </tr>\n",
              "    <tr>\n",
              "      <th>12</th>\n",
              "      <td>False</td>\n",
              "      <td>False</td>\n",
              "      <td>False</td>\n",
              "    </tr>\n",
              "    <tr>\n",
              "      <th>13</th>\n",
              "      <td>False</td>\n",
              "      <td>False</td>\n",
              "      <td>False</td>\n",
              "    </tr>\n",
              "    <tr>\n",
              "      <th>14</th>\n",
              "      <td>False</td>\n",
              "      <td>False</td>\n",
              "      <td>False</td>\n",
              "    </tr>\n",
              "    <tr>\n",
              "      <th>15</th>\n",
              "      <td>False</td>\n",
              "      <td>False</td>\n",
              "      <td>False</td>\n",
              "    </tr>\n",
              "    <tr>\n",
              "      <th>16</th>\n",
              "      <td>False</td>\n",
              "      <td>False</td>\n",
              "      <td>False</td>\n",
              "    </tr>\n",
              "    <tr>\n",
              "      <th>17</th>\n",
              "      <td>False</td>\n",
              "      <td>False</td>\n",
              "      <td>False</td>\n",
              "    </tr>\n",
              "    <tr>\n",
              "      <th>18</th>\n",
              "      <td>False</td>\n",
              "      <td>False</td>\n",
              "      <td>False</td>\n",
              "    </tr>\n",
              "    <tr>\n",
              "      <th>19</th>\n",
              "      <td>False</td>\n",
              "      <td>False</td>\n",
              "      <td>False</td>\n",
              "    </tr>\n",
              "    <tr>\n",
              "      <th>20</th>\n",
              "      <td>False</td>\n",
              "      <td>False</td>\n",
              "      <td>False</td>\n",
              "    </tr>\n",
              "    <tr>\n",
              "      <th>21</th>\n",
              "      <td>False</td>\n",
              "      <td>False</td>\n",
              "      <td>False</td>\n",
              "    </tr>\n",
              "    <tr>\n",
              "      <th>22</th>\n",
              "      <td>False</td>\n",
              "      <td>False</td>\n",
              "      <td>True</td>\n",
              "    </tr>\n",
              "    <tr>\n",
              "      <th>23</th>\n",
              "      <td>False</td>\n",
              "      <td>True</td>\n",
              "      <td>True</td>\n",
              "    </tr>\n",
              "  </tbody>\n",
              "</table>\n",
              "</div>\n",
              "      <button class=\"colab-df-convert\" onclick=\"convertToInteractive('df-bc748d9c-a18d-48fa-84f3-842c0ba4fe96')\"\n",
              "              title=\"Convert this dataframe to an interactive table.\"\n",
              "              style=\"display:none;\">\n",
              "        \n",
              "  <svg xmlns=\"http://www.w3.org/2000/svg\" height=\"24px\"viewBox=\"0 0 24 24\"\n",
              "       width=\"24px\">\n",
              "    <path d=\"M0 0h24v24H0V0z\" fill=\"none\"/>\n",
              "    <path d=\"M18.56 5.44l.94 2.06.94-2.06 2.06-.94-2.06-.94-.94-2.06-.94 2.06-2.06.94zm-11 1L8.5 8.5l.94-2.06 2.06-.94-2.06-.94L8.5 2.5l-.94 2.06-2.06.94zm10 10l.94 2.06.94-2.06 2.06-.94-2.06-.94-.94-2.06-.94 2.06-2.06.94z\"/><path d=\"M17.41 7.96l-1.37-1.37c-.4-.4-.92-.59-1.43-.59-.52 0-1.04.2-1.43.59L10.3 9.45l-7.72 7.72c-.78.78-.78 2.05 0 2.83L4 21.41c.39.39.9.59 1.41.59.51 0 1.02-.2 1.41-.59l7.78-7.78 2.81-2.81c.8-.78.8-2.07 0-2.86zM5.41 20L4 18.59l7.72-7.72 1.47 1.35L5.41 20z\"/>\n",
              "  </svg>\n",
              "      </button>\n",
              "      \n",
              "  <style>\n",
              "    .colab-df-container {\n",
              "      display:flex;\n",
              "      flex-wrap:wrap;\n",
              "      gap: 12px;\n",
              "    }\n",
              "\n",
              "    .colab-df-convert {\n",
              "      background-color: #E8F0FE;\n",
              "      border: none;\n",
              "      border-radius: 50%;\n",
              "      cursor: pointer;\n",
              "      display: none;\n",
              "      fill: #1967D2;\n",
              "      height: 32px;\n",
              "      padding: 0 0 0 0;\n",
              "      width: 32px;\n",
              "    }\n",
              "\n",
              "    .colab-df-convert:hover {\n",
              "      background-color: #E2EBFA;\n",
              "      box-shadow: 0px 1px 2px rgba(60, 64, 67, 0.3), 0px 1px 3px 1px rgba(60, 64, 67, 0.15);\n",
              "      fill: #174EA6;\n",
              "    }\n",
              "\n",
              "    [theme=dark] .colab-df-convert {\n",
              "      background-color: #3B4455;\n",
              "      fill: #D2E3FC;\n",
              "    }\n",
              "\n",
              "    [theme=dark] .colab-df-convert:hover {\n",
              "      background-color: #434B5C;\n",
              "      box-shadow: 0px 1px 3px 1px rgba(0, 0, 0, 0.15);\n",
              "      filter: drop-shadow(0px 1px 2px rgba(0, 0, 0, 0.3));\n",
              "      fill: #FFFFFF;\n",
              "    }\n",
              "  </style>\n",
              "\n",
              "      <script>\n",
              "        const buttonEl =\n",
              "          document.querySelector('#df-bc748d9c-a18d-48fa-84f3-842c0ba4fe96 button.colab-df-convert');\n",
              "        buttonEl.style.display =\n",
              "          google.colab.kernel.accessAllowed ? 'block' : 'none';\n",
              "\n",
              "        async function convertToInteractive(key) {\n",
              "          const element = document.querySelector('#df-bc748d9c-a18d-48fa-84f3-842c0ba4fe96');\n",
              "          const dataTable =\n",
              "            await google.colab.kernel.invokeFunction('convertToInteractive',\n",
              "                                                     [key], {});\n",
              "          if (!dataTable) return;\n",
              "\n",
              "          const docLinkHtml = 'Like what you see? Visit the ' +\n",
              "            '<a target=\"_blank\" href=https://colab.research.google.com/notebooks/data_table.ipynb>data table notebook</a>'\n",
              "            + ' to learn more about interactive tables.';\n",
              "          element.innerHTML = '';\n",
              "          dataTable['output_type'] = 'display_data';\n",
              "          await google.colab.output.renderOutput(dataTable, element);\n",
              "          const docLink = document.createElement('div');\n",
              "          docLink.innerHTML = docLinkHtml;\n",
              "          element.appendChild(docLink);\n",
              "        }\n",
              "      </script>\n",
              "    </div>\n",
              "  </div>\n",
              "  "
            ]
          },
          "metadata": {},
          "execution_count": 27
        }
      ]
    },
    {
      "cell_type": "markdown",
      "source": [
        "Of course, with a larger DataFrame, it would be inefficient to review all of the rows and columns individually, so we can get the sum of missing values for each column like this:"
      ],
      "metadata": {
        "id": "4AOw7LDPLiLL"
      }
    },
    {
      "cell_type": "code",
      "source": [
        "df_students.isnull().sum()"
      ],
      "metadata": {
        "colab": {
          "base_uri": "https://localhost:8080/"
        },
        "id": "mNyJ5XoPLjfm",
        "outputId": "a925b175-2d7c-48af-f395-1161e0a823e9"
      },
      "execution_count": null,
      "outputs": [
        {
          "output_type": "execute_result",
          "data": {
            "text/plain": [
              "Name          0\n",
              "StudyHours    1\n",
              "Grade         2\n",
              "dtype: int64"
            ]
          },
          "metadata": {},
          "execution_count": 28
        }
      ]
    },
    {
      "cell_type": "markdown",
      "source": [
        "\n",
        "So now we know that there's one missing StudyHours value and two missing Grade values.\n",
        "\n",
        "To see them in context, we can filter the DataFrame to include only rows where any of the columns (axis 1 of the DataFrame) are null.\n",
        "\n",
        "**AXIS:**\n",
        "\n",
        "\n",
        "*   0 = Filas\n",
        "*   1 = Columnas\n",
        "\n",
        "\n",
        "**HOW**(Optional)\n",
        "\n",
        "\n",
        "\n",
        "*   'any' default, Specifies whether to remove the row or column when if ANY value is NULL.\n",
        "*   'all' Specifies whether to remove the row or column when ALL values is NULL.\n",
        "\n",
        "\n",
        "default 'any'. Specifies whether to remove the row or column when ALL values are NULL, or if ANY value is NULL.\n"
      ],
      "metadata": {
        "id": "8IMuVA-TLsjR"
      }
    },
    {
      "cell_type": "code",
      "source": [
        "df_students[df_students.isnull().any(axis=1)]"
      ],
      "metadata": {
        "colab": {
          "base_uri": "https://localhost:8080/",
          "height": 112
        },
        "id": "x0Nb6ruMLzZZ",
        "outputId": "a79f44e4-6181-428b-b34c-e6b066e60318"
      },
      "execution_count": null,
      "outputs": [
        {
          "output_type": "execute_result",
          "data": {
            "text/plain": [
              "    Name  StudyHours  Grade\n",
              "22  Bill         8.0    NaN\n",
              "23   Ted         NaN    NaN"
            ],
            "text/html": [
              "\n",
              "  <div id=\"df-b78d1439-c8d9-4d59-975c-775f66488844\">\n",
              "    <div class=\"colab-df-container\">\n",
              "      <div>\n",
              "<style scoped>\n",
              "    .dataframe tbody tr th:only-of-type {\n",
              "        vertical-align: middle;\n",
              "    }\n",
              "\n",
              "    .dataframe tbody tr th {\n",
              "        vertical-align: top;\n",
              "    }\n",
              "\n",
              "    .dataframe thead th {\n",
              "        text-align: right;\n",
              "    }\n",
              "</style>\n",
              "<table border=\"1\" class=\"dataframe\">\n",
              "  <thead>\n",
              "    <tr style=\"text-align: right;\">\n",
              "      <th></th>\n",
              "      <th>Name</th>\n",
              "      <th>StudyHours</th>\n",
              "      <th>Grade</th>\n",
              "    </tr>\n",
              "  </thead>\n",
              "  <tbody>\n",
              "    <tr>\n",
              "      <th>22</th>\n",
              "      <td>Bill</td>\n",
              "      <td>8.0</td>\n",
              "      <td>NaN</td>\n",
              "    </tr>\n",
              "    <tr>\n",
              "      <th>23</th>\n",
              "      <td>Ted</td>\n",
              "      <td>NaN</td>\n",
              "      <td>NaN</td>\n",
              "    </tr>\n",
              "  </tbody>\n",
              "</table>\n",
              "</div>\n",
              "      <button class=\"colab-df-convert\" onclick=\"convertToInteractive('df-b78d1439-c8d9-4d59-975c-775f66488844')\"\n",
              "              title=\"Convert this dataframe to an interactive table.\"\n",
              "              style=\"display:none;\">\n",
              "        \n",
              "  <svg xmlns=\"http://www.w3.org/2000/svg\" height=\"24px\"viewBox=\"0 0 24 24\"\n",
              "       width=\"24px\">\n",
              "    <path d=\"M0 0h24v24H0V0z\" fill=\"none\"/>\n",
              "    <path d=\"M18.56 5.44l.94 2.06.94-2.06 2.06-.94-2.06-.94-.94-2.06-.94 2.06-2.06.94zm-11 1L8.5 8.5l.94-2.06 2.06-.94-2.06-.94L8.5 2.5l-.94 2.06-2.06.94zm10 10l.94 2.06.94-2.06 2.06-.94-2.06-.94-.94-2.06-.94 2.06-2.06.94z\"/><path d=\"M17.41 7.96l-1.37-1.37c-.4-.4-.92-.59-1.43-.59-.52 0-1.04.2-1.43.59L10.3 9.45l-7.72 7.72c-.78.78-.78 2.05 0 2.83L4 21.41c.39.39.9.59 1.41.59.51 0 1.02-.2 1.41-.59l7.78-7.78 2.81-2.81c.8-.78.8-2.07 0-2.86zM5.41 20L4 18.59l7.72-7.72 1.47 1.35L5.41 20z\"/>\n",
              "  </svg>\n",
              "      </button>\n",
              "      \n",
              "  <style>\n",
              "    .colab-df-container {\n",
              "      display:flex;\n",
              "      flex-wrap:wrap;\n",
              "      gap: 12px;\n",
              "    }\n",
              "\n",
              "    .colab-df-convert {\n",
              "      background-color: #E8F0FE;\n",
              "      border: none;\n",
              "      border-radius: 50%;\n",
              "      cursor: pointer;\n",
              "      display: none;\n",
              "      fill: #1967D2;\n",
              "      height: 32px;\n",
              "      padding: 0 0 0 0;\n",
              "      width: 32px;\n",
              "    }\n",
              "\n",
              "    .colab-df-convert:hover {\n",
              "      background-color: #E2EBFA;\n",
              "      box-shadow: 0px 1px 2px rgba(60, 64, 67, 0.3), 0px 1px 3px 1px rgba(60, 64, 67, 0.15);\n",
              "      fill: #174EA6;\n",
              "    }\n",
              "\n",
              "    [theme=dark] .colab-df-convert {\n",
              "      background-color: #3B4455;\n",
              "      fill: #D2E3FC;\n",
              "    }\n",
              "\n",
              "    [theme=dark] .colab-df-convert:hover {\n",
              "      background-color: #434B5C;\n",
              "      box-shadow: 0px 1px 3px 1px rgba(0, 0, 0, 0.15);\n",
              "      filter: drop-shadow(0px 1px 2px rgba(0, 0, 0, 0.3));\n",
              "      fill: #FFFFFF;\n",
              "    }\n",
              "  </style>\n",
              "\n",
              "      <script>\n",
              "        const buttonEl =\n",
              "          document.querySelector('#df-b78d1439-c8d9-4d59-975c-775f66488844 button.colab-df-convert');\n",
              "        buttonEl.style.display =\n",
              "          google.colab.kernel.accessAllowed ? 'block' : 'none';\n",
              "\n",
              "        async function convertToInteractive(key) {\n",
              "          const element = document.querySelector('#df-b78d1439-c8d9-4d59-975c-775f66488844');\n",
              "          const dataTable =\n",
              "            await google.colab.kernel.invokeFunction('convertToInteractive',\n",
              "                                                     [key], {});\n",
              "          if (!dataTable) return;\n",
              "\n",
              "          const docLinkHtml = 'Like what you see? Visit the ' +\n",
              "            '<a target=\"_blank\" href=https://colab.research.google.com/notebooks/data_table.ipynb>data table notebook</a>'\n",
              "            + ' to learn more about interactive tables.';\n",
              "          element.innerHTML = '';\n",
              "          dataTable['output_type'] = 'display_data';\n",
              "          await google.colab.output.renderOutput(dataTable, element);\n",
              "          const docLink = document.createElement('div');\n",
              "          docLink.innerHTML = docLinkHtml;\n",
              "          element.appendChild(docLink);\n",
              "        }\n",
              "      </script>\n",
              "    </div>\n",
              "  </div>\n",
              "  "
            ]
          },
          "metadata": {},
          "execution_count": 29
        }
      ]
    },
    {
      "cell_type": "markdown",
      "source": [
        "When the DataFrame is retrieved, the missing numeric values show up as NaN (not a number).\n",
        "\n",
        "So now that we've found the null values, what can we do about them?\n",
        "\n",
        "One common approach is to impute replacement values. For example, if the number of study hours is missing, we could just assume that the student studied for an average amount of time and replace the missing value with the mean study hours. To do this, we can use the fillna method like this:"
      ],
      "metadata": {
        "id": "VusLbvC9MYLi"
      }
    },
    {
      "cell_type": "code",
      "source": [
        "df_students.StudyHours = df_students.StudyHours.fillna(df_students.StudyHours.mean())\n",
        "df_students"
      ],
      "metadata": {
        "colab": {
          "base_uri": "https://localhost:8080/",
          "height": 802
        },
        "id": "42fInd1LMY6o",
        "outputId": "8c9d32b9-4d66-4400-c7be-64b105040962"
      },
      "execution_count": null,
      "outputs": [
        {
          "output_type": "execute_result",
          "data": {
            "text/plain": [
              "         Name  StudyHours  Grade\n",
              "0         Dan   10.000000   50.0\n",
              "1       Joann   11.500000   50.0\n",
              "2       Pedro    9.000000   47.0\n",
              "3       Rosie   16.000000   97.0\n",
              "4       Ethan    9.250000   49.0\n",
              "5       Vicky    1.000000    3.0\n",
              "6    Frederic   11.500000   53.0\n",
              "7      Jimmie    9.000000   42.0\n",
              "8      Rhonda    8.500000   26.0\n",
              "9    Giovanni   14.500000   74.0\n",
              "10  Francesca   15.500000   82.0\n",
              "11      Rajab   13.750000   62.0\n",
              "12    Naiyana    9.000000   37.0\n",
              "13       Kian    8.000000   15.0\n",
              "14      Jenny   15.500000   70.0\n",
              "15     Jakeem    8.000000   27.0\n",
              "16     Helena    9.000000   36.0\n",
              "17      Ismat    6.000000   35.0\n",
              "18      Anila   10.000000   48.0\n",
              "19       Skye   12.000000   52.0\n",
              "20     Daniel   12.500000   63.0\n",
              "21      Aisha   12.000000   64.0\n",
              "22       Bill    8.000000    NaN\n",
              "23        Ted   10.413043    NaN"
            ],
            "text/html": [
              "\n",
              "  <div id=\"df-62e8f1ce-f1aa-48f7-b367-69ad21d1e186\">\n",
              "    <div class=\"colab-df-container\">\n",
              "      <div>\n",
              "<style scoped>\n",
              "    .dataframe tbody tr th:only-of-type {\n",
              "        vertical-align: middle;\n",
              "    }\n",
              "\n",
              "    .dataframe tbody tr th {\n",
              "        vertical-align: top;\n",
              "    }\n",
              "\n",
              "    .dataframe thead th {\n",
              "        text-align: right;\n",
              "    }\n",
              "</style>\n",
              "<table border=\"1\" class=\"dataframe\">\n",
              "  <thead>\n",
              "    <tr style=\"text-align: right;\">\n",
              "      <th></th>\n",
              "      <th>Name</th>\n",
              "      <th>StudyHours</th>\n",
              "      <th>Grade</th>\n",
              "    </tr>\n",
              "  </thead>\n",
              "  <tbody>\n",
              "    <tr>\n",
              "      <th>0</th>\n",
              "      <td>Dan</td>\n",
              "      <td>10.000000</td>\n",
              "      <td>50.0</td>\n",
              "    </tr>\n",
              "    <tr>\n",
              "      <th>1</th>\n",
              "      <td>Joann</td>\n",
              "      <td>11.500000</td>\n",
              "      <td>50.0</td>\n",
              "    </tr>\n",
              "    <tr>\n",
              "      <th>2</th>\n",
              "      <td>Pedro</td>\n",
              "      <td>9.000000</td>\n",
              "      <td>47.0</td>\n",
              "    </tr>\n",
              "    <tr>\n",
              "      <th>3</th>\n",
              "      <td>Rosie</td>\n",
              "      <td>16.000000</td>\n",
              "      <td>97.0</td>\n",
              "    </tr>\n",
              "    <tr>\n",
              "      <th>4</th>\n",
              "      <td>Ethan</td>\n",
              "      <td>9.250000</td>\n",
              "      <td>49.0</td>\n",
              "    </tr>\n",
              "    <tr>\n",
              "      <th>5</th>\n",
              "      <td>Vicky</td>\n",
              "      <td>1.000000</td>\n",
              "      <td>3.0</td>\n",
              "    </tr>\n",
              "    <tr>\n",
              "      <th>6</th>\n",
              "      <td>Frederic</td>\n",
              "      <td>11.500000</td>\n",
              "      <td>53.0</td>\n",
              "    </tr>\n",
              "    <tr>\n",
              "      <th>7</th>\n",
              "      <td>Jimmie</td>\n",
              "      <td>9.000000</td>\n",
              "      <td>42.0</td>\n",
              "    </tr>\n",
              "    <tr>\n",
              "      <th>8</th>\n",
              "      <td>Rhonda</td>\n",
              "      <td>8.500000</td>\n",
              "      <td>26.0</td>\n",
              "    </tr>\n",
              "    <tr>\n",
              "      <th>9</th>\n",
              "      <td>Giovanni</td>\n",
              "      <td>14.500000</td>\n",
              "      <td>74.0</td>\n",
              "    </tr>\n",
              "    <tr>\n",
              "      <th>10</th>\n",
              "      <td>Francesca</td>\n",
              "      <td>15.500000</td>\n",
              "      <td>82.0</td>\n",
              "    </tr>\n",
              "    <tr>\n",
              "      <th>11</th>\n",
              "      <td>Rajab</td>\n",
              "      <td>13.750000</td>\n",
              "      <td>62.0</td>\n",
              "    </tr>\n",
              "    <tr>\n",
              "      <th>12</th>\n",
              "      <td>Naiyana</td>\n",
              "      <td>9.000000</td>\n",
              "      <td>37.0</td>\n",
              "    </tr>\n",
              "    <tr>\n",
              "      <th>13</th>\n",
              "      <td>Kian</td>\n",
              "      <td>8.000000</td>\n",
              "      <td>15.0</td>\n",
              "    </tr>\n",
              "    <tr>\n",
              "      <th>14</th>\n",
              "      <td>Jenny</td>\n",
              "      <td>15.500000</td>\n",
              "      <td>70.0</td>\n",
              "    </tr>\n",
              "    <tr>\n",
              "      <th>15</th>\n",
              "      <td>Jakeem</td>\n",
              "      <td>8.000000</td>\n",
              "      <td>27.0</td>\n",
              "    </tr>\n",
              "    <tr>\n",
              "      <th>16</th>\n",
              "      <td>Helena</td>\n",
              "      <td>9.000000</td>\n",
              "      <td>36.0</td>\n",
              "    </tr>\n",
              "    <tr>\n",
              "      <th>17</th>\n",
              "      <td>Ismat</td>\n",
              "      <td>6.000000</td>\n",
              "      <td>35.0</td>\n",
              "    </tr>\n",
              "    <tr>\n",
              "      <th>18</th>\n",
              "      <td>Anila</td>\n",
              "      <td>10.000000</td>\n",
              "      <td>48.0</td>\n",
              "    </tr>\n",
              "    <tr>\n",
              "      <th>19</th>\n",
              "      <td>Skye</td>\n",
              "      <td>12.000000</td>\n",
              "      <td>52.0</td>\n",
              "    </tr>\n",
              "    <tr>\n",
              "      <th>20</th>\n",
              "      <td>Daniel</td>\n",
              "      <td>12.500000</td>\n",
              "      <td>63.0</td>\n",
              "    </tr>\n",
              "    <tr>\n",
              "      <th>21</th>\n",
              "      <td>Aisha</td>\n",
              "      <td>12.000000</td>\n",
              "      <td>64.0</td>\n",
              "    </tr>\n",
              "    <tr>\n",
              "      <th>22</th>\n",
              "      <td>Bill</td>\n",
              "      <td>8.000000</td>\n",
              "      <td>NaN</td>\n",
              "    </tr>\n",
              "    <tr>\n",
              "      <th>23</th>\n",
              "      <td>Ted</td>\n",
              "      <td>10.413043</td>\n",
              "      <td>NaN</td>\n",
              "    </tr>\n",
              "  </tbody>\n",
              "</table>\n",
              "</div>\n",
              "      <button class=\"colab-df-convert\" onclick=\"convertToInteractive('df-62e8f1ce-f1aa-48f7-b367-69ad21d1e186')\"\n",
              "              title=\"Convert this dataframe to an interactive table.\"\n",
              "              style=\"display:none;\">\n",
              "        \n",
              "  <svg xmlns=\"http://www.w3.org/2000/svg\" height=\"24px\"viewBox=\"0 0 24 24\"\n",
              "       width=\"24px\">\n",
              "    <path d=\"M0 0h24v24H0V0z\" fill=\"none\"/>\n",
              "    <path d=\"M18.56 5.44l.94 2.06.94-2.06 2.06-.94-2.06-.94-.94-2.06-.94 2.06-2.06.94zm-11 1L8.5 8.5l.94-2.06 2.06-.94-2.06-.94L8.5 2.5l-.94 2.06-2.06.94zm10 10l.94 2.06.94-2.06 2.06-.94-2.06-.94-.94-2.06-.94 2.06-2.06.94z\"/><path d=\"M17.41 7.96l-1.37-1.37c-.4-.4-.92-.59-1.43-.59-.52 0-1.04.2-1.43.59L10.3 9.45l-7.72 7.72c-.78.78-.78 2.05 0 2.83L4 21.41c.39.39.9.59 1.41.59.51 0 1.02-.2 1.41-.59l7.78-7.78 2.81-2.81c.8-.78.8-2.07 0-2.86zM5.41 20L4 18.59l7.72-7.72 1.47 1.35L5.41 20z\"/>\n",
              "  </svg>\n",
              "      </button>\n",
              "      \n",
              "  <style>\n",
              "    .colab-df-container {\n",
              "      display:flex;\n",
              "      flex-wrap:wrap;\n",
              "      gap: 12px;\n",
              "    }\n",
              "\n",
              "    .colab-df-convert {\n",
              "      background-color: #E8F0FE;\n",
              "      border: none;\n",
              "      border-radius: 50%;\n",
              "      cursor: pointer;\n",
              "      display: none;\n",
              "      fill: #1967D2;\n",
              "      height: 32px;\n",
              "      padding: 0 0 0 0;\n",
              "      width: 32px;\n",
              "    }\n",
              "\n",
              "    .colab-df-convert:hover {\n",
              "      background-color: #E2EBFA;\n",
              "      box-shadow: 0px 1px 2px rgba(60, 64, 67, 0.3), 0px 1px 3px 1px rgba(60, 64, 67, 0.15);\n",
              "      fill: #174EA6;\n",
              "    }\n",
              "\n",
              "    [theme=dark] .colab-df-convert {\n",
              "      background-color: #3B4455;\n",
              "      fill: #D2E3FC;\n",
              "    }\n",
              "\n",
              "    [theme=dark] .colab-df-convert:hover {\n",
              "      background-color: #434B5C;\n",
              "      box-shadow: 0px 1px 3px 1px rgba(0, 0, 0, 0.15);\n",
              "      filter: drop-shadow(0px 1px 2px rgba(0, 0, 0, 0.3));\n",
              "      fill: #FFFFFF;\n",
              "    }\n",
              "  </style>\n",
              "\n",
              "      <script>\n",
              "        const buttonEl =\n",
              "          document.querySelector('#df-62e8f1ce-f1aa-48f7-b367-69ad21d1e186 button.colab-df-convert');\n",
              "        buttonEl.style.display =\n",
              "          google.colab.kernel.accessAllowed ? 'block' : 'none';\n",
              "\n",
              "        async function convertToInteractive(key) {\n",
              "          const element = document.querySelector('#df-62e8f1ce-f1aa-48f7-b367-69ad21d1e186');\n",
              "          const dataTable =\n",
              "            await google.colab.kernel.invokeFunction('convertToInteractive',\n",
              "                                                     [key], {});\n",
              "          if (!dataTable) return;\n",
              "\n",
              "          const docLinkHtml = 'Like what you see? Visit the ' +\n",
              "            '<a target=\"_blank\" href=https://colab.research.google.com/notebooks/data_table.ipynb>data table notebook</a>'\n",
              "            + ' to learn more about interactive tables.';\n",
              "          element.innerHTML = '';\n",
              "          dataTable['output_type'] = 'display_data';\n",
              "          await google.colab.output.renderOutput(dataTable, element);\n",
              "          const docLink = document.createElement('div');\n",
              "          docLink.innerHTML = docLinkHtml;\n",
              "          element.appendChild(docLink);\n",
              "        }\n",
              "      </script>\n",
              "    </div>\n",
              "  </div>\n",
              "  "
            ]
          },
          "metadata": {},
          "execution_count": 42
        }
      ]
    },
    {
      "cell_type": "markdown",
      "source": [
        "Alternatively, it might be important to ensure that you only use data you know to be absolutely correct. In this case, you can drop rows or columns that contain null values by using the dropna method. For example, we'll remove rows (axis 0 of the DataFrame) where any of the columns contain null values:"
      ],
      "metadata": {
        "id": "PrgSILFnM16t"
      }
    },
    {
      "cell_type": "code",
      "source": [
        "df_students = df_students.dropna(axis=0, how='any')\n",
        "df_students"
      ],
      "metadata": {
        "colab": {
          "base_uri": "https://localhost:8080/",
          "height": 739
        },
        "id": "QaTpWkoRM36-",
        "outputId": "1bc4962a-98ec-4f1a-d9b4-0c7ae5ecb777"
      },
      "execution_count": null,
      "outputs": [
        {
          "output_type": "execute_result",
          "data": {
            "text/plain": [
              "         Name  StudyHours  Grade\n",
              "0         Dan       10.00   50.0\n",
              "1       Joann       11.50   50.0\n",
              "2       Pedro        9.00   47.0\n",
              "3       Rosie       16.00   97.0\n",
              "4       Ethan        9.25   49.0\n",
              "5       Vicky        1.00    3.0\n",
              "6    Frederic       11.50   53.0\n",
              "7      Jimmie        9.00   42.0\n",
              "8      Rhonda        8.50   26.0\n",
              "9    Giovanni       14.50   74.0\n",
              "10  Francesca       15.50   82.0\n",
              "11      Rajab       13.75   62.0\n",
              "12    Naiyana        9.00   37.0\n",
              "13       Kian        8.00   15.0\n",
              "14      Jenny       15.50   70.0\n",
              "15     Jakeem        8.00   27.0\n",
              "16     Helena        9.00   36.0\n",
              "17      Ismat        6.00   35.0\n",
              "18      Anila       10.00   48.0\n",
              "19       Skye       12.00   52.0\n",
              "20     Daniel       12.50   63.0\n",
              "21      Aisha       12.00   64.0"
            ],
            "text/html": [
              "\n",
              "  <div id=\"df-aa4b0868-733b-4dc3-a0ff-8f92785db823\">\n",
              "    <div class=\"colab-df-container\">\n",
              "      <div>\n",
              "<style scoped>\n",
              "    .dataframe tbody tr th:only-of-type {\n",
              "        vertical-align: middle;\n",
              "    }\n",
              "\n",
              "    .dataframe tbody tr th {\n",
              "        vertical-align: top;\n",
              "    }\n",
              "\n",
              "    .dataframe thead th {\n",
              "        text-align: right;\n",
              "    }\n",
              "</style>\n",
              "<table border=\"1\" class=\"dataframe\">\n",
              "  <thead>\n",
              "    <tr style=\"text-align: right;\">\n",
              "      <th></th>\n",
              "      <th>Name</th>\n",
              "      <th>StudyHours</th>\n",
              "      <th>Grade</th>\n",
              "    </tr>\n",
              "  </thead>\n",
              "  <tbody>\n",
              "    <tr>\n",
              "      <th>0</th>\n",
              "      <td>Dan</td>\n",
              "      <td>10.00</td>\n",
              "      <td>50.0</td>\n",
              "    </tr>\n",
              "    <tr>\n",
              "      <th>1</th>\n",
              "      <td>Joann</td>\n",
              "      <td>11.50</td>\n",
              "      <td>50.0</td>\n",
              "    </tr>\n",
              "    <tr>\n",
              "      <th>2</th>\n",
              "      <td>Pedro</td>\n",
              "      <td>9.00</td>\n",
              "      <td>47.0</td>\n",
              "    </tr>\n",
              "    <tr>\n",
              "      <th>3</th>\n",
              "      <td>Rosie</td>\n",
              "      <td>16.00</td>\n",
              "      <td>97.0</td>\n",
              "    </tr>\n",
              "    <tr>\n",
              "      <th>4</th>\n",
              "      <td>Ethan</td>\n",
              "      <td>9.25</td>\n",
              "      <td>49.0</td>\n",
              "    </tr>\n",
              "    <tr>\n",
              "      <th>5</th>\n",
              "      <td>Vicky</td>\n",
              "      <td>1.00</td>\n",
              "      <td>3.0</td>\n",
              "    </tr>\n",
              "    <tr>\n",
              "      <th>6</th>\n",
              "      <td>Frederic</td>\n",
              "      <td>11.50</td>\n",
              "      <td>53.0</td>\n",
              "    </tr>\n",
              "    <tr>\n",
              "      <th>7</th>\n",
              "      <td>Jimmie</td>\n",
              "      <td>9.00</td>\n",
              "      <td>42.0</td>\n",
              "    </tr>\n",
              "    <tr>\n",
              "      <th>8</th>\n",
              "      <td>Rhonda</td>\n",
              "      <td>8.50</td>\n",
              "      <td>26.0</td>\n",
              "    </tr>\n",
              "    <tr>\n",
              "      <th>9</th>\n",
              "      <td>Giovanni</td>\n",
              "      <td>14.50</td>\n",
              "      <td>74.0</td>\n",
              "    </tr>\n",
              "    <tr>\n",
              "      <th>10</th>\n",
              "      <td>Francesca</td>\n",
              "      <td>15.50</td>\n",
              "      <td>82.0</td>\n",
              "    </tr>\n",
              "    <tr>\n",
              "      <th>11</th>\n",
              "      <td>Rajab</td>\n",
              "      <td>13.75</td>\n",
              "      <td>62.0</td>\n",
              "    </tr>\n",
              "    <tr>\n",
              "      <th>12</th>\n",
              "      <td>Naiyana</td>\n",
              "      <td>9.00</td>\n",
              "      <td>37.0</td>\n",
              "    </tr>\n",
              "    <tr>\n",
              "      <th>13</th>\n",
              "      <td>Kian</td>\n",
              "      <td>8.00</td>\n",
              "      <td>15.0</td>\n",
              "    </tr>\n",
              "    <tr>\n",
              "      <th>14</th>\n",
              "      <td>Jenny</td>\n",
              "      <td>15.50</td>\n",
              "      <td>70.0</td>\n",
              "    </tr>\n",
              "    <tr>\n",
              "      <th>15</th>\n",
              "      <td>Jakeem</td>\n",
              "      <td>8.00</td>\n",
              "      <td>27.0</td>\n",
              "    </tr>\n",
              "    <tr>\n",
              "      <th>16</th>\n",
              "      <td>Helena</td>\n",
              "      <td>9.00</td>\n",
              "      <td>36.0</td>\n",
              "    </tr>\n",
              "    <tr>\n",
              "      <th>17</th>\n",
              "      <td>Ismat</td>\n",
              "      <td>6.00</td>\n",
              "      <td>35.0</td>\n",
              "    </tr>\n",
              "    <tr>\n",
              "      <th>18</th>\n",
              "      <td>Anila</td>\n",
              "      <td>10.00</td>\n",
              "      <td>48.0</td>\n",
              "    </tr>\n",
              "    <tr>\n",
              "      <th>19</th>\n",
              "      <td>Skye</td>\n",
              "      <td>12.00</td>\n",
              "      <td>52.0</td>\n",
              "    </tr>\n",
              "    <tr>\n",
              "      <th>20</th>\n",
              "      <td>Daniel</td>\n",
              "      <td>12.50</td>\n",
              "      <td>63.0</td>\n",
              "    </tr>\n",
              "    <tr>\n",
              "      <th>21</th>\n",
              "      <td>Aisha</td>\n",
              "      <td>12.00</td>\n",
              "      <td>64.0</td>\n",
              "    </tr>\n",
              "  </tbody>\n",
              "</table>\n",
              "</div>\n",
              "      <button class=\"colab-df-convert\" onclick=\"convertToInteractive('df-aa4b0868-733b-4dc3-a0ff-8f92785db823')\"\n",
              "              title=\"Convert this dataframe to an interactive table.\"\n",
              "              style=\"display:none;\">\n",
              "        \n",
              "  <svg xmlns=\"http://www.w3.org/2000/svg\" height=\"24px\"viewBox=\"0 0 24 24\"\n",
              "       width=\"24px\">\n",
              "    <path d=\"M0 0h24v24H0V0z\" fill=\"none\"/>\n",
              "    <path d=\"M18.56 5.44l.94 2.06.94-2.06 2.06-.94-2.06-.94-.94-2.06-.94 2.06-2.06.94zm-11 1L8.5 8.5l.94-2.06 2.06-.94-2.06-.94L8.5 2.5l-.94 2.06-2.06.94zm10 10l.94 2.06.94-2.06 2.06-.94-2.06-.94-.94-2.06-.94 2.06-2.06.94z\"/><path d=\"M17.41 7.96l-1.37-1.37c-.4-.4-.92-.59-1.43-.59-.52 0-1.04.2-1.43.59L10.3 9.45l-7.72 7.72c-.78.78-.78 2.05 0 2.83L4 21.41c.39.39.9.59 1.41.59.51 0 1.02-.2 1.41-.59l7.78-7.78 2.81-2.81c.8-.78.8-2.07 0-2.86zM5.41 20L4 18.59l7.72-7.72 1.47 1.35L5.41 20z\"/>\n",
              "  </svg>\n",
              "      </button>\n",
              "      \n",
              "  <style>\n",
              "    .colab-df-container {\n",
              "      display:flex;\n",
              "      flex-wrap:wrap;\n",
              "      gap: 12px;\n",
              "    }\n",
              "\n",
              "    .colab-df-convert {\n",
              "      background-color: #E8F0FE;\n",
              "      border: none;\n",
              "      border-radius: 50%;\n",
              "      cursor: pointer;\n",
              "      display: none;\n",
              "      fill: #1967D2;\n",
              "      height: 32px;\n",
              "      padding: 0 0 0 0;\n",
              "      width: 32px;\n",
              "    }\n",
              "\n",
              "    .colab-df-convert:hover {\n",
              "      background-color: #E2EBFA;\n",
              "      box-shadow: 0px 1px 2px rgba(60, 64, 67, 0.3), 0px 1px 3px 1px rgba(60, 64, 67, 0.15);\n",
              "      fill: #174EA6;\n",
              "    }\n",
              "\n",
              "    [theme=dark] .colab-df-convert {\n",
              "      background-color: #3B4455;\n",
              "      fill: #D2E3FC;\n",
              "    }\n",
              "\n",
              "    [theme=dark] .colab-df-convert:hover {\n",
              "      background-color: #434B5C;\n",
              "      box-shadow: 0px 1px 3px 1px rgba(0, 0, 0, 0.15);\n",
              "      filter: drop-shadow(0px 1px 2px rgba(0, 0, 0, 0.3));\n",
              "      fill: #FFFFFF;\n",
              "    }\n",
              "  </style>\n",
              "\n",
              "      <script>\n",
              "        const buttonEl =\n",
              "          document.querySelector('#df-aa4b0868-733b-4dc3-a0ff-8f92785db823 button.colab-df-convert');\n",
              "        buttonEl.style.display =\n",
              "          google.colab.kernel.accessAllowed ? 'block' : 'none';\n",
              "\n",
              "        async function convertToInteractive(key) {\n",
              "          const element = document.querySelector('#df-aa4b0868-733b-4dc3-a0ff-8f92785db823');\n",
              "          const dataTable =\n",
              "            await google.colab.kernel.invokeFunction('convertToInteractive',\n",
              "                                                     [key], {});\n",
              "          if (!dataTable) return;\n",
              "\n",
              "          const docLinkHtml = 'Like what you see? Visit the ' +\n",
              "            '<a target=\"_blank\" href=https://colab.research.google.com/notebooks/data_table.ipynb>data table notebook</a>'\n",
              "            + ' to learn more about interactive tables.';\n",
              "          element.innerHTML = '';\n",
              "          dataTable['output_type'] = 'display_data';\n",
              "          await google.colab.output.renderOutput(dataTable, element);\n",
              "          const docLink = document.createElement('div');\n",
              "          docLink.innerHTML = docLinkHtml;\n",
              "          element.appendChild(docLink);\n",
              "        }\n",
              "      </script>\n",
              "    </div>\n",
              "  </div>\n",
              "  "
            ]
          },
          "metadata": {},
          "execution_count": 43
        }
      ]
    },
    {
      "cell_type": "markdown",
      "source": [
        "**Explore data in the DataFrame**\n",
        "\n",
        "Now that we've cleaned up the missing values, we're ready to explore the data in the DataFrame. Let's start by comparing the mean study hours and grades."
      ],
      "metadata": {
        "id": "Bqv6cZ1OOjrn"
      }
    },
    {
      "cell_type": "code",
      "source": [
        "# Get the mean study hours using to column name as an index\n",
        "mean_study = df_students['StudyHours'].mean()\n",
        "\n",
        "# Get the mean grade using the column name as a property (just to make the point!)\n",
        "mean_grade = df_students.Grade.mean()\n",
        "\n",
        "# Print the mean study hours and mean grade\n",
        "print('Average weekly study hours: {:.2f}\\nAverage grade: {:.2f}'.format(mean_study, mean_grade))"
      ],
      "metadata": {
        "colab": {
          "base_uri": "https://localhost:8080/"
        },
        "id": "jIRBECjuOrtr",
        "outputId": "5563b314-95bb-4e03-a394-a296b5406186"
      },
      "execution_count": null,
      "outputs": [
        {
          "output_type": "stream",
          "name": "stdout",
          "text": [
            "Average weekly study hours: 10.52\n",
            "Average grade: 49.18\n"
          ]
        }
      ]
    },
    {
      "cell_type": "markdown",
      "source": [
        "OK, let's filter the DataFrame to find only the students who studied for more than the average amount of time."
      ],
      "metadata": {
        "id": "_g1zRzK4O3ss"
      }
    },
    {
      "cell_type": "code",
      "source": [
        "# Get students who studied for the mean or more hours\n",
        "df_students[df_students.StudyHours > mean_study]"
      ],
      "metadata": {
        "colab": {
          "base_uri": "https://localhost:8080/",
          "height": 363
        },
        "id": "WFdri7ieO6cX",
        "outputId": "2fa0a4c8-35b9-4d74-8fa5-f336795cd24b"
      },
      "execution_count": null,
      "outputs": [
        {
          "output_type": "execute_result",
          "data": {
            "text/plain": [
              "         Name  StudyHours  Grade\n",
              "1       Joann       11.50   50.0\n",
              "3       Rosie       16.00   97.0\n",
              "6    Frederic       11.50   53.0\n",
              "9    Giovanni       14.50   74.0\n",
              "10  Francesca       15.50   82.0\n",
              "11      Rajab       13.75   62.0\n",
              "14      Jenny       15.50   70.0\n",
              "19       Skye       12.00   52.0\n",
              "20     Daniel       12.50   63.0\n",
              "21      Aisha       12.00   64.0"
            ],
            "text/html": [
              "\n",
              "  <div id=\"df-6e778a81-0f51-4464-a670-2f71a87bd99a\">\n",
              "    <div class=\"colab-df-container\">\n",
              "      <div>\n",
              "<style scoped>\n",
              "    .dataframe tbody tr th:only-of-type {\n",
              "        vertical-align: middle;\n",
              "    }\n",
              "\n",
              "    .dataframe tbody tr th {\n",
              "        vertical-align: top;\n",
              "    }\n",
              "\n",
              "    .dataframe thead th {\n",
              "        text-align: right;\n",
              "    }\n",
              "</style>\n",
              "<table border=\"1\" class=\"dataframe\">\n",
              "  <thead>\n",
              "    <tr style=\"text-align: right;\">\n",
              "      <th></th>\n",
              "      <th>Name</th>\n",
              "      <th>StudyHours</th>\n",
              "      <th>Grade</th>\n",
              "    </tr>\n",
              "  </thead>\n",
              "  <tbody>\n",
              "    <tr>\n",
              "      <th>1</th>\n",
              "      <td>Joann</td>\n",
              "      <td>11.50</td>\n",
              "      <td>50.0</td>\n",
              "    </tr>\n",
              "    <tr>\n",
              "      <th>3</th>\n",
              "      <td>Rosie</td>\n",
              "      <td>16.00</td>\n",
              "      <td>97.0</td>\n",
              "    </tr>\n",
              "    <tr>\n",
              "      <th>6</th>\n",
              "      <td>Frederic</td>\n",
              "      <td>11.50</td>\n",
              "      <td>53.0</td>\n",
              "    </tr>\n",
              "    <tr>\n",
              "      <th>9</th>\n",
              "      <td>Giovanni</td>\n",
              "      <td>14.50</td>\n",
              "      <td>74.0</td>\n",
              "    </tr>\n",
              "    <tr>\n",
              "      <th>10</th>\n",
              "      <td>Francesca</td>\n",
              "      <td>15.50</td>\n",
              "      <td>82.0</td>\n",
              "    </tr>\n",
              "    <tr>\n",
              "      <th>11</th>\n",
              "      <td>Rajab</td>\n",
              "      <td>13.75</td>\n",
              "      <td>62.0</td>\n",
              "    </tr>\n",
              "    <tr>\n",
              "      <th>14</th>\n",
              "      <td>Jenny</td>\n",
              "      <td>15.50</td>\n",
              "      <td>70.0</td>\n",
              "    </tr>\n",
              "    <tr>\n",
              "      <th>19</th>\n",
              "      <td>Skye</td>\n",
              "      <td>12.00</td>\n",
              "      <td>52.0</td>\n",
              "    </tr>\n",
              "    <tr>\n",
              "      <th>20</th>\n",
              "      <td>Daniel</td>\n",
              "      <td>12.50</td>\n",
              "      <td>63.0</td>\n",
              "    </tr>\n",
              "    <tr>\n",
              "      <th>21</th>\n",
              "      <td>Aisha</td>\n",
              "      <td>12.00</td>\n",
              "      <td>64.0</td>\n",
              "    </tr>\n",
              "  </tbody>\n",
              "</table>\n",
              "</div>\n",
              "      <button class=\"colab-df-convert\" onclick=\"convertToInteractive('df-6e778a81-0f51-4464-a670-2f71a87bd99a')\"\n",
              "              title=\"Convert this dataframe to an interactive table.\"\n",
              "              style=\"display:none;\">\n",
              "        \n",
              "  <svg xmlns=\"http://www.w3.org/2000/svg\" height=\"24px\"viewBox=\"0 0 24 24\"\n",
              "       width=\"24px\">\n",
              "    <path d=\"M0 0h24v24H0V0z\" fill=\"none\"/>\n",
              "    <path d=\"M18.56 5.44l.94 2.06.94-2.06 2.06-.94-2.06-.94-.94-2.06-.94 2.06-2.06.94zm-11 1L8.5 8.5l.94-2.06 2.06-.94-2.06-.94L8.5 2.5l-.94 2.06-2.06.94zm10 10l.94 2.06.94-2.06 2.06-.94-2.06-.94-.94-2.06-.94 2.06-2.06.94z\"/><path d=\"M17.41 7.96l-1.37-1.37c-.4-.4-.92-.59-1.43-.59-.52 0-1.04.2-1.43.59L10.3 9.45l-7.72 7.72c-.78.78-.78 2.05 0 2.83L4 21.41c.39.39.9.59 1.41.59.51 0 1.02-.2 1.41-.59l7.78-7.78 2.81-2.81c.8-.78.8-2.07 0-2.86zM5.41 20L4 18.59l7.72-7.72 1.47 1.35L5.41 20z\"/>\n",
              "  </svg>\n",
              "      </button>\n",
              "      \n",
              "  <style>\n",
              "    .colab-df-container {\n",
              "      display:flex;\n",
              "      flex-wrap:wrap;\n",
              "      gap: 12px;\n",
              "    }\n",
              "\n",
              "    .colab-df-convert {\n",
              "      background-color: #E8F0FE;\n",
              "      border: none;\n",
              "      border-radius: 50%;\n",
              "      cursor: pointer;\n",
              "      display: none;\n",
              "      fill: #1967D2;\n",
              "      height: 32px;\n",
              "      padding: 0 0 0 0;\n",
              "      width: 32px;\n",
              "    }\n",
              "\n",
              "    .colab-df-convert:hover {\n",
              "      background-color: #E2EBFA;\n",
              "      box-shadow: 0px 1px 2px rgba(60, 64, 67, 0.3), 0px 1px 3px 1px rgba(60, 64, 67, 0.15);\n",
              "      fill: #174EA6;\n",
              "    }\n",
              "\n",
              "    [theme=dark] .colab-df-convert {\n",
              "      background-color: #3B4455;\n",
              "      fill: #D2E3FC;\n",
              "    }\n",
              "\n",
              "    [theme=dark] .colab-df-convert:hover {\n",
              "      background-color: #434B5C;\n",
              "      box-shadow: 0px 1px 3px 1px rgba(0, 0, 0, 0.15);\n",
              "      filter: drop-shadow(0px 1px 2px rgba(0, 0, 0, 0.3));\n",
              "      fill: #FFFFFF;\n",
              "    }\n",
              "  </style>\n",
              "\n",
              "      <script>\n",
              "        const buttonEl =\n",
              "          document.querySelector('#df-6e778a81-0f51-4464-a670-2f71a87bd99a button.colab-df-convert');\n",
              "        buttonEl.style.display =\n",
              "          google.colab.kernel.accessAllowed ? 'block' : 'none';\n",
              "\n",
              "        async function convertToInteractive(key) {\n",
              "          const element = document.querySelector('#df-6e778a81-0f51-4464-a670-2f71a87bd99a');\n",
              "          const dataTable =\n",
              "            await google.colab.kernel.invokeFunction('convertToInteractive',\n",
              "                                                     [key], {});\n",
              "          if (!dataTable) return;\n",
              "\n",
              "          const docLinkHtml = 'Like what you see? Visit the ' +\n",
              "            '<a target=\"_blank\" href=https://colab.research.google.com/notebooks/data_table.ipynb>data table notebook</a>'\n",
              "            + ' to learn more about interactive tables.';\n",
              "          element.innerHTML = '';\n",
              "          dataTable['output_type'] = 'display_data';\n",
              "          await google.colab.output.renderOutput(dataTable, element);\n",
              "          const docLink = document.createElement('div');\n",
              "          docLink.innerHTML = docLinkHtml;\n",
              "          element.appendChild(docLink);\n",
              "        }\n",
              "      </script>\n",
              "    </div>\n",
              "  </div>\n",
              "  "
            ]
          },
          "metadata": {},
          "execution_count": 34
        }
      ]
    },
    {
      "cell_type": "markdown",
      "source": [
        "\n",
        "Note that the filtered result is itself a DataFrame, so you can work with its columns just like any other DataFrame.\n",
        "\n",
        "For example, let's find the average grade for students who undertook more than the average amount of study time."
      ],
      "metadata": {
        "id": "yxdyrxxFPAeI"
      }
    },
    {
      "cell_type": "code",
      "source": [
        "# What was their mean grade?\n",
        "df_students[df_students.StudyHours > mean_study].Grade.mean()"
      ],
      "metadata": {
        "colab": {
          "base_uri": "https://localhost:8080/"
        },
        "id": "cAsIThMDPKT8",
        "outputId": "73e3a017-c4d8-4891-e082-80681306d202"
      },
      "execution_count": null,
      "outputs": [
        {
          "output_type": "execute_result",
          "data": {
            "text/plain": [
              "66.7"
            ]
          },
          "metadata": {},
          "execution_count": 36
        }
      ]
    },
    {
      "cell_type": "markdown",
      "source": [
        "\n",
        "Let's assume that the passing grade for the course is 60.\n",
        "\n",
        "We can use that information to add a new column to the DataFrame that indicates whether or not each student passed.\n",
        "\n",
        "First, we'll create a Pandas Series containing the pass/fail indicator (True or False), and then we'll concatenate that series as a new column (axis 1) in the DataFrame."
      ],
      "metadata": {
        "id": "eaK_JtkRPak9"
      }
    },
    {
      "cell_type": "code",
      "source": [
        "passes  = pd.Series(df_students['Grade'] >= 60)\n",
        "\n",
        "df_students = pd.concat([df_students, passes.rename(\"Pass\")], axis=1)\n",
        "\n",
        "df_students\n"
      ],
      "metadata": {
        "colab": {
          "base_uri": "https://localhost:8080/",
          "height": 739
        },
        "id": "Sx0Fbt7PPmM3",
        "outputId": "fb56884a-e4bb-412e-f9d5-ed3095da0b5e"
      },
      "execution_count": null,
      "outputs": [
        {
          "output_type": "execute_result",
          "data": {
            "text/plain": [
              "         Name  StudyHours  Grade   Pass\n",
              "0         Dan       10.00   50.0  False\n",
              "1       Joann       11.50   50.0  False\n",
              "2       Pedro        9.00   47.0  False\n",
              "3       Rosie       16.00   97.0   True\n",
              "4       Ethan        9.25   49.0  False\n",
              "5       Vicky        1.00    3.0  False\n",
              "6    Frederic       11.50   53.0  False\n",
              "7      Jimmie        9.00   42.0  False\n",
              "8      Rhonda        8.50   26.0  False\n",
              "9    Giovanni       14.50   74.0   True\n",
              "10  Francesca       15.50   82.0   True\n",
              "11      Rajab       13.75   62.0   True\n",
              "12    Naiyana        9.00   37.0  False\n",
              "13       Kian        8.00   15.0  False\n",
              "14      Jenny       15.50   70.0   True\n",
              "15     Jakeem        8.00   27.0  False\n",
              "16     Helena        9.00   36.0  False\n",
              "17      Ismat        6.00   35.0  False\n",
              "18      Anila       10.00   48.0  False\n",
              "19       Skye       12.00   52.0  False\n",
              "20     Daniel       12.50   63.0   True\n",
              "21      Aisha       12.00   64.0   True"
            ],
            "text/html": [
              "\n",
              "  <div id=\"df-2572e3cf-28e1-41d2-9916-a9e04f6ac5c6\">\n",
              "    <div class=\"colab-df-container\">\n",
              "      <div>\n",
              "<style scoped>\n",
              "    .dataframe tbody tr th:only-of-type {\n",
              "        vertical-align: middle;\n",
              "    }\n",
              "\n",
              "    .dataframe tbody tr th {\n",
              "        vertical-align: top;\n",
              "    }\n",
              "\n",
              "    .dataframe thead th {\n",
              "        text-align: right;\n",
              "    }\n",
              "</style>\n",
              "<table border=\"1\" class=\"dataframe\">\n",
              "  <thead>\n",
              "    <tr style=\"text-align: right;\">\n",
              "      <th></th>\n",
              "      <th>Name</th>\n",
              "      <th>StudyHours</th>\n",
              "      <th>Grade</th>\n",
              "      <th>Pass</th>\n",
              "    </tr>\n",
              "  </thead>\n",
              "  <tbody>\n",
              "    <tr>\n",
              "      <th>0</th>\n",
              "      <td>Dan</td>\n",
              "      <td>10.00</td>\n",
              "      <td>50.0</td>\n",
              "      <td>False</td>\n",
              "    </tr>\n",
              "    <tr>\n",
              "      <th>1</th>\n",
              "      <td>Joann</td>\n",
              "      <td>11.50</td>\n",
              "      <td>50.0</td>\n",
              "      <td>False</td>\n",
              "    </tr>\n",
              "    <tr>\n",
              "      <th>2</th>\n",
              "      <td>Pedro</td>\n",
              "      <td>9.00</td>\n",
              "      <td>47.0</td>\n",
              "      <td>False</td>\n",
              "    </tr>\n",
              "    <tr>\n",
              "      <th>3</th>\n",
              "      <td>Rosie</td>\n",
              "      <td>16.00</td>\n",
              "      <td>97.0</td>\n",
              "      <td>True</td>\n",
              "    </tr>\n",
              "    <tr>\n",
              "      <th>4</th>\n",
              "      <td>Ethan</td>\n",
              "      <td>9.25</td>\n",
              "      <td>49.0</td>\n",
              "      <td>False</td>\n",
              "    </tr>\n",
              "    <tr>\n",
              "      <th>5</th>\n",
              "      <td>Vicky</td>\n",
              "      <td>1.00</td>\n",
              "      <td>3.0</td>\n",
              "      <td>False</td>\n",
              "    </tr>\n",
              "    <tr>\n",
              "      <th>6</th>\n",
              "      <td>Frederic</td>\n",
              "      <td>11.50</td>\n",
              "      <td>53.0</td>\n",
              "      <td>False</td>\n",
              "    </tr>\n",
              "    <tr>\n",
              "      <th>7</th>\n",
              "      <td>Jimmie</td>\n",
              "      <td>9.00</td>\n",
              "      <td>42.0</td>\n",
              "      <td>False</td>\n",
              "    </tr>\n",
              "    <tr>\n",
              "      <th>8</th>\n",
              "      <td>Rhonda</td>\n",
              "      <td>8.50</td>\n",
              "      <td>26.0</td>\n",
              "      <td>False</td>\n",
              "    </tr>\n",
              "    <tr>\n",
              "      <th>9</th>\n",
              "      <td>Giovanni</td>\n",
              "      <td>14.50</td>\n",
              "      <td>74.0</td>\n",
              "      <td>True</td>\n",
              "    </tr>\n",
              "    <tr>\n",
              "      <th>10</th>\n",
              "      <td>Francesca</td>\n",
              "      <td>15.50</td>\n",
              "      <td>82.0</td>\n",
              "      <td>True</td>\n",
              "    </tr>\n",
              "    <tr>\n",
              "      <th>11</th>\n",
              "      <td>Rajab</td>\n",
              "      <td>13.75</td>\n",
              "      <td>62.0</td>\n",
              "      <td>True</td>\n",
              "    </tr>\n",
              "    <tr>\n",
              "      <th>12</th>\n",
              "      <td>Naiyana</td>\n",
              "      <td>9.00</td>\n",
              "      <td>37.0</td>\n",
              "      <td>False</td>\n",
              "    </tr>\n",
              "    <tr>\n",
              "      <th>13</th>\n",
              "      <td>Kian</td>\n",
              "      <td>8.00</td>\n",
              "      <td>15.0</td>\n",
              "      <td>False</td>\n",
              "    </tr>\n",
              "    <tr>\n",
              "      <th>14</th>\n",
              "      <td>Jenny</td>\n",
              "      <td>15.50</td>\n",
              "      <td>70.0</td>\n",
              "      <td>True</td>\n",
              "    </tr>\n",
              "    <tr>\n",
              "      <th>15</th>\n",
              "      <td>Jakeem</td>\n",
              "      <td>8.00</td>\n",
              "      <td>27.0</td>\n",
              "      <td>False</td>\n",
              "    </tr>\n",
              "    <tr>\n",
              "      <th>16</th>\n",
              "      <td>Helena</td>\n",
              "      <td>9.00</td>\n",
              "      <td>36.0</td>\n",
              "      <td>False</td>\n",
              "    </tr>\n",
              "    <tr>\n",
              "      <th>17</th>\n",
              "      <td>Ismat</td>\n",
              "      <td>6.00</td>\n",
              "      <td>35.0</td>\n",
              "      <td>False</td>\n",
              "    </tr>\n",
              "    <tr>\n",
              "      <th>18</th>\n",
              "      <td>Anila</td>\n",
              "      <td>10.00</td>\n",
              "      <td>48.0</td>\n",
              "      <td>False</td>\n",
              "    </tr>\n",
              "    <tr>\n",
              "      <th>19</th>\n",
              "      <td>Skye</td>\n",
              "      <td>12.00</td>\n",
              "      <td>52.0</td>\n",
              "      <td>False</td>\n",
              "    </tr>\n",
              "    <tr>\n",
              "      <th>20</th>\n",
              "      <td>Daniel</td>\n",
              "      <td>12.50</td>\n",
              "      <td>63.0</td>\n",
              "      <td>True</td>\n",
              "    </tr>\n",
              "    <tr>\n",
              "      <th>21</th>\n",
              "      <td>Aisha</td>\n",
              "      <td>12.00</td>\n",
              "      <td>64.0</td>\n",
              "      <td>True</td>\n",
              "    </tr>\n",
              "  </tbody>\n",
              "</table>\n",
              "</div>\n",
              "      <button class=\"colab-df-convert\" onclick=\"convertToInteractive('df-2572e3cf-28e1-41d2-9916-a9e04f6ac5c6')\"\n",
              "              title=\"Convert this dataframe to an interactive table.\"\n",
              "              style=\"display:none;\">\n",
              "        \n",
              "  <svg xmlns=\"http://www.w3.org/2000/svg\" height=\"24px\"viewBox=\"0 0 24 24\"\n",
              "       width=\"24px\">\n",
              "    <path d=\"M0 0h24v24H0V0z\" fill=\"none\"/>\n",
              "    <path d=\"M18.56 5.44l.94 2.06.94-2.06 2.06-.94-2.06-.94-.94-2.06-.94 2.06-2.06.94zm-11 1L8.5 8.5l.94-2.06 2.06-.94-2.06-.94L8.5 2.5l-.94 2.06-2.06.94zm10 10l.94 2.06.94-2.06 2.06-.94-2.06-.94-.94-2.06-.94 2.06-2.06.94z\"/><path d=\"M17.41 7.96l-1.37-1.37c-.4-.4-.92-.59-1.43-.59-.52 0-1.04.2-1.43.59L10.3 9.45l-7.72 7.72c-.78.78-.78 2.05 0 2.83L4 21.41c.39.39.9.59 1.41.59.51 0 1.02-.2 1.41-.59l7.78-7.78 2.81-2.81c.8-.78.8-2.07 0-2.86zM5.41 20L4 18.59l7.72-7.72 1.47 1.35L5.41 20z\"/>\n",
              "  </svg>\n",
              "      </button>\n",
              "      \n",
              "  <style>\n",
              "    .colab-df-container {\n",
              "      display:flex;\n",
              "      flex-wrap:wrap;\n",
              "      gap: 12px;\n",
              "    }\n",
              "\n",
              "    .colab-df-convert {\n",
              "      background-color: #E8F0FE;\n",
              "      border: none;\n",
              "      border-radius: 50%;\n",
              "      cursor: pointer;\n",
              "      display: none;\n",
              "      fill: #1967D2;\n",
              "      height: 32px;\n",
              "      padding: 0 0 0 0;\n",
              "      width: 32px;\n",
              "    }\n",
              "\n",
              "    .colab-df-convert:hover {\n",
              "      background-color: #E2EBFA;\n",
              "      box-shadow: 0px 1px 2px rgba(60, 64, 67, 0.3), 0px 1px 3px 1px rgba(60, 64, 67, 0.15);\n",
              "      fill: #174EA6;\n",
              "    }\n",
              "\n",
              "    [theme=dark] .colab-df-convert {\n",
              "      background-color: #3B4455;\n",
              "      fill: #D2E3FC;\n",
              "    }\n",
              "\n",
              "    [theme=dark] .colab-df-convert:hover {\n",
              "      background-color: #434B5C;\n",
              "      box-shadow: 0px 1px 3px 1px rgba(0, 0, 0, 0.15);\n",
              "      filter: drop-shadow(0px 1px 2px rgba(0, 0, 0, 0.3));\n",
              "      fill: #FFFFFF;\n",
              "    }\n",
              "  </style>\n",
              "\n",
              "      <script>\n",
              "        const buttonEl =\n",
              "          document.querySelector('#df-2572e3cf-28e1-41d2-9916-a9e04f6ac5c6 button.colab-df-convert');\n",
              "        buttonEl.style.display =\n",
              "          google.colab.kernel.accessAllowed ? 'block' : 'none';\n",
              "\n",
              "        async function convertToInteractive(key) {\n",
              "          const element = document.querySelector('#df-2572e3cf-28e1-41d2-9916-a9e04f6ac5c6');\n",
              "          const dataTable =\n",
              "            await google.colab.kernel.invokeFunction('convertToInteractive',\n",
              "                                                     [key], {});\n",
              "          if (!dataTable) return;\n",
              "\n",
              "          const docLinkHtml = 'Like what you see? Visit the ' +\n",
              "            '<a target=\"_blank\" href=https://colab.research.google.com/notebooks/data_table.ipynb>data table notebook</a>'\n",
              "            + ' to learn more about interactive tables.';\n",
              "          element.innerHTML = '';\n",
              "          dataTable['output_type'] = 'display_data';\n",
              "          await google.colab.output.renderOutput(dataTable, element);\n",
              "          const docLink = document.createElement('div');\n",
              "          docLink.innerHTML = docLinkHtml;\n",
              "          element.appendChild(docLink);\n",
              "        }\n",
              "      </script>\n",
              "    </div>\n",
              "  </div>\n",
              "  "
            ]
          },
          "metadata": {},
          "execution_count": 44
        }
      ]
    },
    {
      "cell_type": "markdown",
      "source": [
        "\n",
        "DataFrames are designed for tabular data, and you can use them to perform many of the same kinds of data analytics operations you can do in a relational database, such as grouping and aggregating tables of data.\n",
        "\n",
        "For example, you can use the groupby method to group the student data into groups based on the Pass column you added previously and to count the number of names in each group. In other words, you can determine how many students passed and failed."
      ],
      "metadata": {
        "id": "--mnrkpWQAav"
      }
    },
    {
      "cell_type": "code",
      "source": [
        "print(df_students.groupby(df_students.Pass).Name.count())"
      ],
      "metadata": {
        "colab": {
          "base_uri": "https://localhost:8080/"
        },
        "id": "I8UkC4N2QPrD",
        "outputId": "e32d43a1-2b2c-46af-bd84-26cab3f3556a"
      },
      "execution_count": null,
      "outputs": [
        {
          "output_type": "stream",
          "name": "stdout",
          "text": [
            "Pass\n",
            "False    15\n",
            "True      7\n",
            "Name: Name, dtype: int64\n"
          ]
        }
      ]
    },
    {
      "cell_type": "markdown",
      "source": [
        "You can aggregate multiple fields in a group using any available aggregation function. For example, you can find the mean study time and grade for the groups of students who passed and failed the course."
      ],
      "metadata": {
        "id": "Q6b72reLQpLo"
      }
    },
    {
      "cell_type": "code",
      "source": [
        "print(df_students.groupby(df_students.Pass)['StudyHours', 'Grade'].mean())"
      ],
      "metadata": {
        "colab": {
          "base_uri": "https://localhost:8080/"
        },
        "id": "h3-AfZywQp7p",
        "outputId": "5268d60b-4e88-4119-e0ec-302e3eafa5a2"
      },
      "execution_count": null,
      "outputs": [
        {
          "output_type": "stream",
          "name": "stdout",
          "text": [
            "       StudyHours      Grade\n",
            "Pass                        \n",
            "False    8.783333  38.000000\n",
            "True    14.250000  73.142857\n"
          ]
        },
        {
          "output_type": "stream",
          "name": "stderr",
          "text": [
            "<ipython-input-46-8b15539b8d19>:1: FutureWarning: Indexing with multiple keys (implicitly converted to a tuple of keys) will be deprecated, use a list instead.\n",
            "  print(df_students.groupby(df_students.Pass)['StudyHours', 'Grade'].mean())\n"
          ]
        }
      ]
    },
    {
      "cell_type": "markdown",
      "source": [
        "DataFrames are amazingly versatile and make it easy to manipulate data. Many DataFrame operations return a new copy of the DataFrame. So if you want to modify a DataFrame but keep the existing variable, you need to assign the result of the operation to the existing variable. For example, the following code sorts the student data into descending order by Grade and assigns the resulting sorted DataFrame to the original **df_students** variable."
      ],
      "metadata": {
        "id": "reV0QqRCQ-gA"
      }
    },
    {
      "cell_type": "code",
      "source": [
        "# Create a DataFrame with the data sorted by Grade (descending)\n",
        "df_students = df_students.sort_values('Grade', ascending=False)\n",
        "\n",
        "# Show the DataFrame\n",
        "df_students"
      ],
      "metadata": {
        "colab": {
          "base_uri": "https://localhost:8080/",
          "height": 739
        },
        "id": "k0Ro-SEdRBzv",
        "outputId": "646748f0-c2e9-4f0f-82ca-1b9be54f0aad"
      },
      "execution_count": null,
      "outputs": [
        {
          "output_type": "execute_result",
          "data": {
            "text/plain": [
              "         Name  StudyHours  Grade   Pass\n",
              "3       Rosie       16.00   97.0   True\n",
              "10  Francesca       15.50   82.0   True\n",
              "9    Giovanni       14.50   74.0   True\n",
              "14      Jenny       15.50   70.0   True\n",
              "21      Aisha       12.00   64.0   True\n",
              "20     Daniel       12.50   63.0   True\n",
              "11      Rajab       13.75   62.0   True\n",
              "6    Frederic       11.50   53.0  False\n",
              "19       Skye       12.00   52.0  False\n",
              "1       Joann       11.50   50.0  False\n",
              "0         Dan       10.00   50.0  False\n",
              "4       Ethan        9.25   49.0  False\n",
              "18      Anila       10.00   48.0  False\n",
              "2       Pedro        9.00   47.0  False\n",
              "7      Jimmie        9.00   42.0  False\n",
              "12    Naiyana        9.00   37.0  False\n",
              "16     Helena        9.00   36.0  False\n",
              "17      Ismat        6.00   35.0  False\n",
              "15     Jakeem        8.00   27.0  False\n",
              "8      Rhonda        8.50   26.0  False\n",
              "13       Kian        8.00   15.0  False\n",
              "5       Vicky        1.00    3.0  False"
            ],
            "text/html": [
              "\n",
              "  <div id=\"df-03d6bccd-9d96-4452-9938-73685265a6c7\">\n",
              "    <div class=\"colab-df-container\">\n",
              "      <div>\n",
              "<style scoped>\n",
              "    .dataframe tbody tr th:only-of-type {\n",
              "        vertical-align: middle;\n",
              "    }\n",
              "\n",
              "    .dataframe tbody tr th {\n",
              "        vertical-align: top;\n",
              "    }\n",
              "\n",
              "    .dataframe thead th {\n",
              "        text-align: right;\n",
              "    }\n",
              "</style>\n",
              "<table border=\"1\" class=\"dataframe\">\n",
              "  <thead>\n",
              "    <tr style=\"text-align: right;\">\n",
              "      <th></th>\n",
              "      <th>Name</th>\n",
              "      <th>StudyHours</th>\n",
              "      <th>Grade</th>\n",
              "      <th>Pass</th>\n",
              "    </tr>\n",
              "  </thead>\n",
              "  <tbody>\n",
              "    <tr>\n",
              "      <th>3</th>\n",
              "      <td>Rosie</td>\n",
              "      <td>16.00</td>\n",
              "      <td>97.0</td>\n",
              "      <td>True</td>\n",
              "    </tr>\n",
              "    <tr>\n",
              "      <th>10</th>\n",
              "      <td>Francesca</td>\n",
              "      <td>15.50</td>\n",
              "      <td>82.0</td>\n",
              "      <td>True</td>\n",
              "    </tr>\n",
              "    <tr>\n",
              "      <th>9</th>\n",
              "      <td>Giovanni</td>\n",
              "      <td>14.50</td>\n",
              "      <td>74.0</td>\n",
              "      <td>True</td>\n",
              "    </tr>\n",
              "    <tr>\n",
              "      <th>14</th>\n",
              "      <td>Jenny</td>\n",
              "      <td>15.50</td>\n",
              "      <td>70.0</td>\n",
              "      <td>True</td>\n",
              "    </tr>\n",
              "    <tr>\n",
              "      <th>21</th>\n",
              "      <td>Aisha</td>\n",
              "      <td>12.00</td>\n",
              "      <td>64.0</td>\n",
              "      <td>True</td>\n",
              "    </tr>\n",
              "    <tr>\n",
              "      <th>20</th>\n",
              "      <td>Daniel</td>\n",
              "      <td>12.50</td>\n",
              "      <td>63.0</td>\n",
              "      <td>True</td>\n",
              "    </tr>\n",
              "    <tr>\n",
              "      <th>11</th>\n",
              "      <td>Rajab</td>\n",
              "      <td>13.75</td>\n",
              "      <td>62.0</td>\n",
              "      <td>True</td>\n",
              "    </tr>\n",
              "    <tr>\n",
              "      <th>6</th>\n",
              "      <td>Frederic</td>\n",
              "      <td>11.50</td>\n",
              "      <td>53.0</td>\n",
              "      <td>False</td>\n",
              "    </tr>\n",
              "    <tr>\n",
              "      <th>19</th>\n",
              "      <td>Skye</td>\n",
              "      <td>12.00</td>\n",
              "      <td>52.0</td>\n",
              "      <td>False</td>\n",
              "    </tr>\n",
              "    <tr>\n",
              "      <th>1</th>\n",
              "      <td>Joann</td>\n",
              "      <td>11.50</td>\n",
              "      <td>50.0</td>\n",
              "      <td>False</td>\n",
              "    </tr>\n",
              "    <tr>\n",
              "      <th>0</th>\n",
              "      <td>Dan</td>\n",
              "      <td>10.00</td>\n",
              "      <td>50.0</td>\n",
              "      <td>False</td>\n",
              "    </tr>\n",
              "    <tr>\n",
              "      <th>4</th>\n",
              "      <td>Ethan</td>\n",
              "      <td>9.25</td>\n",
              "      <td>49.0</td>\n",
              "      <td>False</td>\n",
              "    </tr>\n",
              "    <tr>\n",
              "      <th>18</th>\n",
              "      <td>Anila</td>\n",
              "      <td>10.00</td>\n",
              "      <td>48.0</td>\n",
              "      <td>False</td>\n",
              "    </tr>\n",
              "    <tr>\n",
              "      <th>2</th>\n",
              "      <td>Pedro</td>\n",
              "      <td>9.00</td>\n",
              "      <td>47.0</td>\n",
              "      <td>False</td>\n",
              "    </tr>\n",
              "    <tr>\n",
              "      <th>7</th>\n",
              "      <td>Jimmie</td>\n",
              "      <td>9.00</td>\n",
              "      <td>42.0</td>\n",
              "      <td>False</td>\n",
              "    </tr>\n",
              "    <tr>\n",
              "      <th>12</th>\n",
              "      <td>Naiyana</td>\n",
              "      <td>9.00</td>\n",
              "      <td>37.0</td>\n",
              "      <td>False</td>\n",
              "    </tr>\n",
              "    <tr>\n",
              "      <th>16</th>\n",
              "      <td>Helena</td>\n",
              "      <td>9.00</td>\n",
              "      <td>36.0</td>\n",
              "      <td>False</td>\n",
              "    </tr>\n",
              "    <tr>\n",
              "      <th>17</th>\n",
              "      <td>Ismat</td>\n",
              "      <td>6.00</td>\n",
              "      <td>35.0</td>\n",
              "      <td>False</td>\n",
              "    </tr>\n",
              "    <tr>\n",
              "      <th>15</th>\n",
              "      <td>Jakeem</td>\n",
              "      <td>8.00</td>\n",
              "      <td>27.0</td>\n",
              "      <td>False</td>\n",
              "    </tr>\n",
              "    <tr>\n",
              "      <th>8</th>\n",
              "      <td>Rhonda</td>\n",
              "      <td>8.50</td>\n",
              "      <td>26.0</td>\n",
              "      <td>False</td>\n",
              "    </tr>\n",
              "    <tr>\n",
              "      <th>13</th>\n",
              "      <td>Kian</td>\n",
              "      <td>8.00</td>\n",
              "      <td>15.0</td>\n",
              "      <td>False</td>\n",
              "    </tr>\n",
              "    <tr>\n",
              "      <th>5</th>\n",
              "      <td>Vicky</td>\n",
              "      <td>1.00</td>\n",
              "      <td>3.0</td>\n",
              "      <td>False</td>\n",
              "    </tr>\n",
              "  </tbody>\n",
              "</table>\n",
              "</div>\n",
              "      <button class=\"colab-df-convert\" onclick=\"convertToInteractive('df-03d6bccd-9d96-4452-9938-73685265a6c7')\"\n",
              "              title=\"Convert this dataframe to an interactive table.\"\n",
              "              style=\"display:none;\">\n",
              "        \n",
              "  <svg xmlns=\"http://www.w3.org/2000/svg\" height=\"24px\"viewBox=\"0 0 24 24\"\n",
              "       width=\"24px\">\n",
              "    <path d=\"M0 0h24v24H0V0z\" fill=\"none\"/>\n",
              "    <path d=\"M18.56 5.44l.94 2.06.94-2.06 2.06-.94-2.06-.94-.94-2.06-.94 2.06-2.06.94zm-11 1L8.5 8.5l.94-2.06 2.06-.94-2.06-.94L8.5 2.5l-.94 2.06-2.06.94zm10 10l.94 2.06.94-2.06 2.06-.94-2.06-.94-.94-2.06-.94 2.06-2.06.94z\"/><path d=\"M17.41 7.96l-1.37-1.37c-.4-.4-.92-.59-1.43-.59-.52 0-1.04.2-1.43.59L10.3 9.45l-7.72 7.72c-.78.78-.78 2.05 0 2.83L4 21.41c.39.39.9.59 1.41.59.51 0 1.02-.2 1.41-.59l7.78-7.78 2.81-2.81c.8-.78.8-2.07 0-2.86zM5.41 20L4 18.59l7.72-7.72 1.47 1.35L5.41 20z\"/>\n",
              "  </svg>\n",
              "      </button>\n",
              "      \n",
              "  <style>\n",
              "    .colab-df-container {\n",
              "      display:flex;\n",
              "      flex-wrap:wrap;\n",
              "      gap: 12px;\n",
              "    }\n",
              "\n",
              "    .colab-df-convert {\n",
              "      background-color: #E8F0FE;\n",
              "      border: none;\n",
              "      border-radius: 50%;\n",
              "      cursor: pointer;\n",
              "      display: none;\n",
              "      fill: #1967D2;\n",
              "      height: 32px;\n",
              "      padding: 0 0 0 0;\n",
              "      width: 32px;\n",
              "    }\n",
              "\n",
              "    .colab-df-convert:hover {\n",
              "      background-color: #E2EBFA;\n",
              "      box-shadow: 0px 1px 2px rgba(60, 64, 67, 0.3), 0px 1px 3px 1px rgba(60, 64, 67, 0.15);\n",
              "      fill: #174EA6;\n",
              "    }\n",
              "\n",
              "    [theme=dark] .colab-df-convert {\n",
              "      background-color: #3B4455;\n",
              "      fill: #D2E3FC;\n",
              "    }\n",
              "\n",
              "    [theme=dark] .colab-df-convert:hover {\n",
              "      background-color: #434B5C;\n",
              "      box-shadow: 0px 1px 3px 1px rgba(0, 0, 0, 0.15);\n",
              "      filter: drop-shadow(0px 1px 2px rgba(0, 0, 0, 0.3));\n",
              "      fill: #FFFFFF;\n",
              "    }\n",
              "  </style>\n",
              "\n",
              "      <script>\n",
              "        const buttonEl =\n",
              "          document.querySelector('#df-03d6bccd-9d96-4452-9938-73685265a6c7 button.colab-df-convert');\n",
              "        buttonEl.style.display =\n",
              "          google.colab.kernel.accessAllowed ? 'block' : 'none';\n",
              "\n",
              "        async function convertToInteractive(key) {\n",
              "          const element = document.querySelector('#df-03d6bccd-9d96-4452-9938-73685265a6c7');\n",
              "          const dataTable =\n",
              "            await google.colab.kernel.invokeFunction('convertToInteractive',\n",
              "                                                     [key], {});\n",
              "          if (!dataTable) return;\n",
              "\n",
              "          const docLinkHtml = 'Like what you see? Visit the ' +\n",
              "            '<a target=\"_blank\" href=https://colab.research.google.com/notebooks/data_table.ipynb>data table notebook</a>'\n",
              "            + ' to learn more about interactive tables.';\n",
              "          element.innerHTML = '';\n",
              "          dataTable['output_type'] = 'display_data';\n",
              "          await google.colab.output.renderOutput(dataTable, element);\n",
              "          const docLink = document.createElement('div');\n",
              "          docLink.innerHTML = docLinkHtml;\n",
              "          element.appendChild(docLink);\n",
              "        }\n",
              "      </script>\n",
              "    </div>\n",
              "  </div>\n",
              "  "
            ]
          },
          "metadata": {},
          "execution_count": 47
        }
      ]
    },
    {
      "cell_type": "markdown",
      "source": [
        "## Ejercicio: Visualización de datos con Matplotlib"
      ],
      "metadata": {
        "id": "gceMeOK9T0iA"
      }
    },
    {
      "cell_type": "markdown",
      "source": [
        "**Loading our data**\n",
        "\n",
        "Before we begin, let's load the same data about study hours that we analyzed in the previous notebook. We'll also recalculate who passed the class in the same way as last time."
      ],
      "metadata": {
        "id": "U6za7Jb0T28Q"
      }
    },
    {
      "cell_type": "code",
      "source": [
        "import pandas as pd\n",
        "\n",
        "# Load data from a text file\n",
        "!wget https://raw.githubusercontent.com/MicrosoftDocs/mslearn-introduction-to-machine-learning/main/Data/ml-basics/grades.csv\n",
        "df_students = pd.read_csv('grades.csv',delimiter=',',header='infer')\n",
        "\n",
        "# Remove any rows with missing data\n",
        "df_students = df_students.dropna(axis=0, how='any')\n",
        "\n",
        "# Calculate who passed, assuming '60' is the grade needed to pass\n",
        "passes  = pd.Series(df_students['Grade'] >= 60)\n",
        "\n",
        "# Save who passed to the Pandas dataframe\n",
        "df_students = pd.concat([df_students, passes.rename(\"Pass\")], axis=1)\n",
        "\n",
        "\n",
        "# Print the result out into this notebook\n",
        "df_students "
      ],
      "metadata": {
        "colab": {
          "base_uri": "https://localhost:8080/",
          "height": 930
        },
        "id": "7oawdiW0UE5J",
        "outputId": "adf69321-d245-418d-c48f-fa0bfbab0c84"
      },
      "execution_count": null,
      "outputs": [
        {
          "output_type": "stream",
          "name": "stdout",
          "text": [
            "--2023-03-09 17:00:35--  https://raw.githubusercontent.com/MicrosoftDocs/mslearn-introduction-to-machine-learning/main/Data/ml-basics/grades.csv\n",
            "Resolving raw.githubusercontent.com (raw.githubusercontent.com)... 185.199.110.133, 185.199.109.133, 185.199.108.133, ...\n",
            "Connecting to raw.githubusercontent.com (raw.githubusercontent.com)|185.199.110.133|:443... connected.\n",
            "HTTP request sent, awaiting response... 200 OK\n",
            "Length: 322 [text/plain]\n",
            "Saving to: ‘grades.csv’\n",
            "\n",
            "\rgrades.csv            0%[                    ]       0  --.-KB/s               \rgrades.csv          100%[===================>]     322  --.-KB/s    in 0s      \n",
            "\n",
            "2023-03-09 17:00:35 (21.6 MB/s) - ‘grades.csv’ saved [322/322]\n",
            "\n"
          ]
        },
        {
          "output_type": "execute_result",
          "data": {
            "text/plain": [
              "         Name  StudyHours  Grade   Pass\n",
              "0         Dan       10.00   50.0  False\n",
              "1       Joann       11.50   50.0  False\n",
              "2       Pedro        9.00   47.0  False\n",
              "3       Rosie       16.00   97.0   True\n",
              "4       Ethan        9.25   49.0  False\n",
              "5       Vicky        1.00    3.0  False\n",
              "6    Frederic       11.50   53.0  False\n",
              "7      Jimmie        9.00   42.0  False\n",
              "8      Rhonda        8.50   26.0  False\n",
              "9    Giovanni       14.50   74.0   True\n",
              "10  Francesca       15.50   82.0   True\n",
              "11      Rajab       13.75   62.0   True\n",
              "12    Naiyana        9.00   37.0  False\n",
              "13       Kian        8.00   15.0  False\n",
              "14      Jenny       15.50   70.0   True\n",
              "15     Jakeem        8.00   27.0  False\n",
              "16     Helena        9.00   36.0  False\n",
              "17      Ismat        6.00   35.0  False\n",
              "18      Anila       10.00   48.0  False\n",
              "19       Skye       12.00   52.0  False\n",
              "20     Daniel       12.50   63.0   True\n",
              "21      Aisha       12.00   64.0   True"
            ],
            "text/html": [
              "\n",
              "  <div id=\"df-28c96f65-ce8b-422c-a69f-22ab07e7fb2e\">\n",
              "    <div class=\"colab-df-container\">\n",
              "      <div>\n",
              "<style scoped>\n",
              "    .dataframe tbody tr th:only-of-type {\n",
              "        vertical-align: middle;\n",
              "    }\n",
              "\n",
              "    .dataframe tbody tr th {\n",
              "        vertical-align: top;\n",
              "    }\n",
              "\n",
              "    .dataframe thead th {\n",
              "        text-align: right;\n",
              "    }\n",
              "</style>\n",
              "<table border=\"1\" class=\"dataframe\">\n",
              "  <thead>\n",
              "    <tr style=\"text-align: right;\">\n",
              "      <th></th>\n",
              "      <th>Name</th>\n",
              "      <th>StudyHours</th>\n",
              "      <th>Grade</th>\n",
              "      <th>Pass</th>\n",
              "    </tr>\n",
              "  </thead>\n",
              "  <tbody>\n",
              "    <tr>\n",
              "      <th>0</th>\n",
              "      <td>Dan</td>\n",
              "      <td>10.00</td>\n",
              "      <td>50.0</td>\n",
              "      <td>False</td>\n",
              "    </tr>\n",
              "    <tr>\n",
              "      <th>1</th>\n",
              "      <td>Joann</td>\n",
              "      <td>11.50</td>\n",
              "      <td>50.0</td>\n",
              "      <td>False</td>\n",
              "    </tr>\n",
              "    <tr>\n",
              "      <th>2</th>\n",
              "      <td>Pedro</td>\n",
              "      <td>9.00</td>\n",
              "      <td>47.0</td>\n",
              "      <td>False</td>\n",
              "    </tr>\n",
              "    <tr>\n",
              "      <th>3</th>\n",
              "      <td>Rosie</td>\n",
              "      <td>16.00</td>\n",
              "      <td>97.0</td>\n",
              "      <td>True</td>\n",
              "    </tr>\n",
              "    <tr>\n",
              "      <th>4</th>\n",
              "      <td>Ethan</td>\n",
              "      <td>9.25</td>\n",
              "      <td>49.0</td>\n",
              "      <td>False</td>\n",
              "    </tr>\n",
              "    <tr>\n",
              "      <th>5</th>\n",
              "      <td>Vicky</td>\n",
              "      <td>1.00</td>\n",
              "      <td>3.0</td>\n",
              "      <td>False</td>\n",
              "    </tr>\n",
              "    <tr>\n",
              "      <th>6</th>\n",
              "      <td>Frederic</td>\n",
              "      <td>11.50</td>\n",
              "      <td>53.0</td>\n",
              "      <td>False</td>\n",
              "    </tr>\n",
              "    <tr>\n",
              "      <th>7</th>\n",
              "      <td>Jimmie</td>\n",
              "      <td>9.00</td>\n",
              "      <td>42.0</td>\n",
              "      <td>False</td>\n",
              "    </tr>\n",
              "    <tr>\n",
              "      <th>8</th>\n",
              "      <td>Rhonda</td>\n",
              "      <td>8.50</td>\n",
              "      <td>26.0</td>\n",
              "      <td>False</td>\n",
              "    </tr>\n",
              "    <tr>\n",
              "      <th>9</th>\n",
              "      <td>Giovanni</td>\n",
              "      <td>14.50</td>\n",
              "      <td>74.0</td>\n",
              "      <td>True</td>\n",
              "    </tr>\n",
              "    <tr>\n",
              "      <th>10</th>\n",
              "      <td>Francesca</td>\n",
              "      <td>15.50</td>\n",
              "      <td>82.0</td>\n",
              "      <td>True</td>\n",
              "    </tr>\n",
              "    <tr>\n",
              "      <th>11</th>\n",
              "      <td>Rajab</td>\n",
              "      <td>13.75</td>\n",
              "      <td>62.0</td>\n",
              "      <td>True</td>\n",
              "    </tr>\n",
              "    <tr>\n",
              "      <th>12</th>\n",
              "      <td>Naiyana</td>\n",
              "      <td>9.00</td>\n",
              "      <td>37.0</td>\n",
              "      <td>False</td>\n",
              "    </tr>\n",
              "    <tr>\n",
              "      <th>13</th>\n",
              "      <td>Kian</td>\n",
              "      <td>8.00</td>\n",
              "      <td>15.0</td>\n",
              "      <td>False</td>\n",
              "    </tr>\n",
              "    <tr>\n",
              "      <th>14</th>\n",
              "      <td>Jenny</td>\n",
              "      <td>15.50</td>\n",
              "      <td>70.0</td>\n",
              "      <td>True</td>\n",
              "    </tr>\n",
              "    <tr>\n",
              "      <th>15</th>\n",
              "      <td>Jakeem</td>\n",
              "      <td>8.00</td>\n",
              "      <td>27.0</td>\n",
              "      <td>False</td>\n",
              "    </tr>\n",
              "    <tr>\n",
              "      <th>16</th>\n",
              "      <td>Helena</td>\n",
              "      <td>9.00</td>\n",
              "      <td>36.0</td>\n",
              "      <td>False</td>\n",
              "    </tr>\n",
              "    <tr>\n",
              "      <th>17</th>\n",
              "      <td>Ismat</td>\n",
              "      <td>6.00</td>\n",
              "      <td>35.0</td>\n",
              "      <td>False</td>\n",
              "    </tr>\n",
              "    <tr>\n",
              "      <th>18</th>\n",
              "      <td>Anila</td>\n",
              "      <td>10.00</td>\n",
              "      <td>48.0</td>\n",
              "      <td>False</td>\n",
              "    </tr>\n",
              "    <tr>\n",
              "      <th>19</th>\n",
              "      <td>Skye</td>\n",
              "      <td>12.00</td>\n",
              "      <td>52.0</td>\n",
              "      <td>False</td>\n",
              "    </tr>\n",
              "    <tr>\n",
              "      <th>20</th>\n",
              "      <td>Daniel</td>\n",
              "      <td>12.50</td>\n",
              "      <td>63.0</td>\n",
              "      <td>True</td>\n",
              "    </tr>\n",
              "    <tr>\n",
              "      <th>21</th>\n",
              "      <td>Aisha</td>\n",
              "      <td>12.00</td>\n",
              "      <td>64.0</td>\n",
              "      <td>True</td>\n",
              "    </tr>\n",
              "  </tbody>\n",
              "</table>\n",
              "</div>\n",
              "      <button class=\"colab-df-convert\" onclick=\"convertToInteractive('df-28c96f65-ce8b-422c-a69f-22ab07e7fb2e')\"\n",
              "              title=\"Convert this dataframe to an interactive table.\"\n",
              "              style=\"display:none;\">\n",
              "        \n",
              "  <svg xmlns=\"http://www.w3.org/2000/svg\" height=\"24px\"viewBox=\"0 0 24 24\"\n",
              "       width=\"24px\">\n",
              "    <path d=\"M0 0h24v24H0V0z\" fill=\"none\"/>\n",
              "    <path d=\"M18.56 5.44l.94 2.06.94-2.06 2.06-.94-2.06-.94-.94-2.06-.94 2.06-2.06.94zm-11 1L8.5 8.5l.94-2.06 2.06-.94-2.06-.94L8.5 2.5l-.94 2.06-2.06.94zm10 10l.94 2.06.94-2.06 2.06-.94-2.06-.94-.94-2.06-.94 2.06-2.06.94z\"/><path d=\"M17.41 7.96l-1.37-1.37c-.4-.4-.92-.59-1.43-.59-.52 0-1.04.2-1.43.59L10.3 9.45l-7.72 7.72c-.78.78-.78 2.05 0 2.83L4 21.41c.39.39.9.59 1.41.59.51 0 1.02-.2 1.41-.59l7.78-7.78 2.81-2.81c.8-.78.8-2.07 0-2.86zM5.41 20L4 18.59l7.72-7.72 1.47 1.35L5.41 20z\"/>\n",
              "  </svg>\n",
              "      </button>\n",
              "      \n",
              "  <style>\n",
              "    .colab-df-container {\n",
              "      display:flex;\n",
              "      flex-wrap:wrap;\n",
              "      gap: 12px;\n",
              "    }\n",
              "\n",
              "    .colab-df-convert {\n",
              "      background-color: #E8F0FE;\n",
              "      border: none;\n",
              "      border-radius: 50%;\n",
              "      cursor: pointer;\n",
              "      display: none;\n",
              "      fill: #1967D2;\n",
              "      height: 32px;\n",
              "      padding: 0 0 0 0;\n",
              "      width: 32px;\n",
              "    }\n",
              "\n",
              "    .colab-df-convert:hover {\n",
              "      background-color: #E2EBFA;\n",
              "      box-shadow: 0px 1px 2px rgba(60, 64, 67, 0.3), 0px 1px 3px 1px rgba(60, 64, 67, 0.15);\n",
              "      fill: #174EA6;\n",
              "    }\n",
              "\n",
              "    [theme=dark] .colab-df-convert {\n",
              "      background-color: #3B4455;\n",
              "      fill: #D2E3FC;\n",
              "    }\n",
              "\n",
              "    [theme=dark] .colab-df-convert:hover {\n",
              "      background-color: #434B5C;\n",
              "      box-shadow: 0px 1px 3px 1px rgba(0, 0, 0, 0.15);\n",
              "      filter: drop-shadow(0px 1px 2px rgba(0, 0, 0, 0.3));\n",
              "      fill: #FFFFFF;\n",
              "    }\n",
              "  </style>\n",
              "\n",
              "      <script>\n",
              "        const buttonEl =\n",
              "          document.querySelector('#df-28c96f65-ce8b-422c-a69f-22ab07e7fb2e button.colab-df-convert');\n",
              "        buttonEl.style.display =\n",
              "          google.colab.kernel.accessAllowed ? 'block' : 'none';\n",
              "\n",
              "        async function convertToInteractive(key) {\n",
              "          const element = document.querySelector('#df-28c96f65-ce8b-422c-a69f-22ab07e7fb2e');\n",
              "          const dataTable =\n",
              "            await google.colab.kernel.invokeFunction('convertToInteractive',\n",
              "                                                     [key], {});\n",
              "          if (!dataTable) return;\n",
              "\n",
              "          const docLinkHtml = 'Like what you see? Visit the ' +\n",
              "            '<a target=\"_blank\" href=https://colab.research.google.com/notebooks/data_table.ipynb>data table notebook</a>'\n",
              "            + ' to learn more about interactive tables.';\n",
              "          element.innerHTML = '';\n",
              "          dataTable['output_type'] = 'display_data';\n",
              "          await google.colab.output.renderOutput(dataTable, element);\n",
              "          const docLink = document.createElement('div');\n",
              "          docLink.innerHTML = docLinkHtml;\n",
              "          element.appendChild(docLink);\n",
              "        }\n",
              "      </script>\n",
              "    </div>\n",
              "  </div>\n",
              "  "
            ]
          },
          "metadata": {},
          "execution_count": 49
        }
      ]
    },
    {
      "cell_type": "markdown",
      "source": [
        "### Visualizing data with Matplotlib###\n",
        "\n",
        "DataFrames provide a great way to explore and analyze tabular data, but sometimes a picture is worth a thousand rows and columns. The **Matplotlib** library provides the foundation for plotting data visualizations that can greatly enhance your ability to analyze the data.\n",
        "\n",
        "Let's start with a simple bar chart that shows the grade of each student.\n",
        "\n",
        "**Note**: This first graph may take 1 to 2 minutes to render. Subsequent graphs will render more quickly."
      ],
      "metadata": {
        "id": "OktSMO6vUZIX"
      }
    },
    {
      "cell_type": "code",
      "source": [
        "# Ensure plots are displayed inline in the notebook\n",
        "%matplotlib inline\n",
        "\n",
        "from matplotlib import pyplot as plt\n",
        "\n",
        "# Create a bar plot of name vs grade\n",
        "plt.bar(x=df_students.Name, height=df_students.Grade)\n",
        "\n",
        "# Display the plot\n",
        "plt.show()"
      ],
      "metadata": {
        "colab": {
          "base_uri": "https://localhost:8080/",
          "height": 265
        },
        "id": "w4odbVQiUcRu",
        "outputId": "14092fff-642d-4fbd-8889-93f7c2549bba"
      },
      "execution_count": null,
      "outputs": [
        {
          "output_type": "display_data",
          "data": {
            "text/plain": [
              "<Figure size 432x288 with 1 Axes>"
            ],
            "image/png": "[encoded data removed]"
          },
          "metadata": {
            "needs_background": "light"
          }
        }
      ]
    },
    {
      "cell_type": "markdown",
      "source": [
        "\n",
        "Well, that worked, but the chart could use some improvements to make it clearer what we're looking at.\n",
        "\n",
        "Note that you used the **pyplot** class from Matplotlib to plot the chart. This class provides many ways to improve the visual elements of the plot. For example, the following code:\n",
        "\n",
        "- Specifies the color of the bar chart.\n",
        "- Adds a title to the chart (so we know what it represents)\n",
        "- Adds labels to the X and Y axes (so we know which axis shows which data)\n",
        "- Adds a grid (to make it easier to determine the values for the bars)\n",
        "- Rotates the X markers (so we can read them)"
      ],
      "metadata": {
        "id": "CK3RUhReVvCD"
      }
    },
    {
      "cell_type": "code",
      "source": [
        "# Create a bar plot of name vs grade\n",
        "plt.bar(x=df_students.Name, height=df_students.Grade, color='orange')\n",
        "\n",
        "# Customize the chart\n",
        "plt.title('Student Grades')\n",
        "plt.xlabel('Student')\n",
        "plt.ylabel('Grade')\n",
        "plt.grid(color='#95a5a6', linestyle='--', linewidth=2, axis='y', alpha=0.7)\n",
        "plt.xticks(rotation=90)\n",
        "\n",
        "# Display the plot\n",
        "plt.show()"
      ],
      "metadata": {
        "colab": {
          "base_uri": "https://localhost:8080/",
          "height": 335
        },
        "id": "pEbxJ6bMWBDr",
        "outputId": "7fd77640-b9c8-4951-d307-02f25bbadd42"
      },
      "execution_count": null,
      "outputs": [
        {
          "output_type": "display_data",
          "data": {
            "text/plain": [
              "<Figure size 432x288 with 1 Axes>"
            ],
            "image/png": "[encoded data removed]"
          },
          "metadata": {
            "needs_background": "light"
          }
        }
      ]
    },
    {
      "cell_type": "markdown",
      "source": [
        "\n",
        "A plot is technically contained within a Figure. In the previous examples, the figure was created implicitly for you, but you can create it explicitly. For example, the following code creates a figure with a specific size."
      ],
      "metadata": {
        "id": "7vmusTMyXZA6"
      }
    },
    {
      "cell_type": "code",
      "source": [
        "# Create a Figure\n",
        "fig = plt.figure(figsize=(15,5))\n",
        "\n",
        "# Create a bar plot of name vs grade\n",
        "plt.bar(x=df_students.Name, height=df_students.Grade, color='orange')\n",
        "\n",
        "# Customize the chart\n",
        "plt.title('Student Grades')\n",
        "plt.xlabel('Student')\n",
        "plt.ylabel('Grade')\n",
        "plt.grid(color='#95a5a6', linestyle='--', linewidth=2, axis='y', alpha=0.7)\n",
        "plt.xticks(rotation=90)\n",
        "\n",
        "# Show the figure\n",
        "plt.show()"
      ],
      "metadata": {
        "colab": {
          "base_uri": "https://localhost:8080/",
          "height": 390
        },
        "id": "-W0AHtJrXZpx",
        "outputId": "c8fc4491-abc7-456b-cb99-ec9e5335a21c"
      },
      "execution_count": null,
      "outputs": [
        {
          "output_type": "display_data",
          "data": {
            "text/plain": [
              "<Figure size 1080x360 with 1 Axes>"
            ],
            "image/png": "[encoded data removed]"
          },
          "metadata": {
            "needs_background": "light"
          }
        }
      ]
    },
    {
      "cell_type": "markdown",
      "source": [
        "A figure can contain multiple subplots, each on its own axis.\n",
        "\n",
        "For example, the following code creates a figure with two subplots: one is a bar chart showing student grades, and the other is a pie chart comparing the number of passing grades to non-passing grades."
      ],
      "metadata": {
        "id": "0CRjlfdZXwgV"
      }
    },
    {
      "cell_type": "code",
      "source": [
        "# Create a figure for 2 subplots (1 row, 2 columns)\n",
        "fig, ax = plt.subplots(1, 2, figsize = (10,4))\n",
        "\n",
        "# Create a bar plot of name vs grade on the first axis\n",
        "ax[0].bar(x=df_students.Name, height=df_students.Grade, color='orange')\n",
        "ax[0].set_title('Grades')\n",
        "ax[0].set_xticklabels(df_students.Name, rotation=90)\n",
        "\n",
        "# Create a pie chart of pass counts on the second axis\n",
        "pass_counts = df_students['Pass'].value_counts()\n",
        "ax[1].pie(pass_counts, labels=pass_counts)\n",
        "ax[1].set_title('Passing Grades')\n",
        "ax[1].legend(pass_counts.keys().tolist())\n",
        "\n",
        "# Add a title to the Figure\n",
        "fig.suptitle('Student Data')\n",
        "\n",
        "# Show the figure\n",
        "fig.show()"
      ],
      "metadata": {
        "colab": {
          "base_uri": "https://localhost:8080/",
          "height": 369
        },
        "id": "_7xFgqpDX2ns",
        "outputId": "bfa525bf-6027-4f96-f961-b4370026d77c"
      },
      "execution_count": null,
      "outputs": [
        {
          "output_type": "stream",
          "name": "stderr",
          "text": [
            "<ipython-input-55-4eea5c60d58f>:7: UserWarning: FixedFormatter should only be used together with FixedLocator\n",
            "  ax[0].set_xticklabels(df_students.Name, rotation=90)\n"
          ]
        },
        {
          "output_type": "display_data",
          "data": {
            "text/plain": [
              "<Figure size 720x288 with 2 Axes>"
            ],
            "image/png": "[encoded data removed]"
          },
          "metadata": {
            "needs_background": "light"
          }
        }
      ]
    },
    {
      "cell_type": "markdown",
      "source": [
        "\n",
        "Until now, you've used methods of the Matplotlib.pyplot object to plot charts. However, Matplotlib is so foundational to graphics in Python that many packages, including Pandas, provide methods that abstract the underlying Matplotlib functions and simplify plotting. For example, the DataFrame provides its own methods for plotting data as shown in the following example, which plots a bar chart of study hours."
      ],
      "metadata": {
        "id": "p8Uvzz5wYXPI"
      }
    },
    {
      "cell_type": "code",
      "source": [
        "df_students.plot.bar(x='Name', y='StudyHours', color='teal', figsize=(6,4))"
      ],
      "metadata": {
        "colab": {
          "base_uri": "https://localhost:8080/",
          "height": 336
        },
        "id": "nZrvuIxmYiLN",
        "outputId": "d3914e2a-f27c-444e-9710-5c09649987ea"
      },
      "execution_count": null,
      "outputs": [
        {
          "output_type": "execute_result",
          "data": {
            "text/plain": [
              "<AxesSubplot:xlabel='Name'>"
            ]
          },
          "metadata": {},
          "execution_count": 56
        },
        {
          "output_type": "display_data",
          "data": {
            "text/plain": [
              "<Figure size 432x288 with 1 Axes>"
            ],
            "image/png": "[encoded data removed]"
          },
          "metadata": {
            "needs_background": "light"
          }
        }
      ]
    },
    {
      "cell_type": "markdown",
      "source": [
        "### Getting started with statistical analysis\n",
        "\n",
        "Now that you know how to use Python to manipulate and visualize data, you can start analyzing it.\n",
        "\n",
        "A lot of data science is rooted in *statistics*, so we'll explore some basic statistical techniques.\n",
        "\n",
        "> **Note**: This section is <u>not</u> intended to teach you statistics&#8212;that's much too big a topic for this notebook. It will however introduce you to some statistical concepts and techniques that data scientists use as they explore data in preparation for machine learning modeling.\n",
        "\n",
        "#### Descriptive statistics and data distribution\n",
        "\n",
        "When examining a *variable* (for example, a sample of student grades), data scientists are particularly interested in its *distribution* (in other words, how are all the different grade values spread across the sample). The starting point for this exploration is often to visualize the data as a histogram and see how frequently each value for the variable occurs."
      ],
      "metadata": {
        "id": "6CslahStY8Sg"
      }
    },
    {
      "cell_type": "code",
      "source": [
        "# Get the variable to examine\n",
        "var_data = df_students['Grade']\n",
        "\n",
        "# Create a Figure\n",
        "fig = plt.figure(figsize=(10,4))\n",
        "\n",
        "# Plot a histogram\n",
        "plt.hist(var_data)\n",
        "\n",
        "# Add titles and labels\n",
        "plt.title('Data Distribution')\n",
        "plt.xlabel('Value')\n",
        "plt.ylabel('Frequency')\n",
        "\n",
        "# Show the figure\n",
        "fig.show()"
      ],
      "metadata": {
        "colab": {
          "base_uri": "https://localhost:8080/",
          "height": 295
        },
        "id": "1ei0o58WZCnh",
        "outputId": "88974728-d0d2-4702-dc3b-66091785c404"
      },
      "execution_count": null,
      "outputs": [
        {
          "output_type": "display_data",
          "data": {
            "text/plain": [
              "<Figure size 720x288 with 1 Axes>"
            ],
            "image/png": "[encoded data removed]"
          },
          "metadata": {
            "needs_background": "light"
          }
        }
      ]
    },
    {
      "cell_type": "markdown",
      "source": [
        "\n",
        "The histogram for grades is a symmetric shape, where the most frequently occurring grades tend to be in the middle of the range (around 50), with fewer grades at the extreme ends of the scale."
      ],
      "metadata": {
        "id": "zxpJaGEsZchm"
      }
    },
    {
      "cell_type": "markdown",
      "source": [
        "\n",
        "#### Measures of central tendency\n",
        "\n",
        "To understand the distribution better, we can examine so-called *measures of central tendency*, which is a fancy way of describing statistics that represent the \"middle\" of the data. The goal of this analysis is to try to find a \"typical\" value. Common ways to define the middle of the data include:\n",
        "\n",
        "- The *mean*: A simple average based on adding together all of the values in the sample set and then dividing the total by the number of samples.\n",
        "- The *median*: The value in the middle of the range of all of the sample values.\n",
        "- The *mode*: The most commonly occurring value in the sample set<sup>\\*</sup>.\n",
        "\n",
        "Let's calculate these values, along with the minimum and maximum values for comparison, and show them on the histogram.\n",
        "\n",
        "> <sup>\\*</sup>Of course, in some sample sets, there may be a tie for the most common value. In those cases, the dataset is described as *bimodal* or even *multimodal*."
      ],
      "metadata": {
        "id": "QIiYi0UaZkEV"
      }
    },
    {
      "cell_type": "code",
      "source": [
        "# Get the variable to examine\n",
        "var = df_students['Grade']\n",
        "\n",
        "# Get statistics\n",
        "min_val = var.min()\n",
        "max_val = var.max()\n",
        "mean_val = var.mean()\n",
        "med_val = var.median()\n",
        "mod_val = var.mode()[0]\n",
        "\n",
        "print('Minimum:{:.2f}\\nMean:{:.2f}\\nMedian:{:.2f}\\nMode:{:.2f}\\nMaximum:{:.2f}\\n'.format(min_val,\n",
        "                                                                                        mean_val,\n",
        "                                                                                        med_val,\n",
        "                                                                                        mod_val,\n",
        "                                                                                        max_val))\n",
        "\n",
        "# Create a Figure\n",
        "fig = plt.figure(figsize=(20,8))\n",
        "\n",
        "# Plot a histogram\n",
        "plt.hist(var)\n",
        "\n",
        "# Add lines for the statistics\n",
        "plt.axvline(x=min_val, color = 'gray', linestyle='dashed', linewidth = 2)\n",
        "plt.axvline(x=mean_val, color = 'cyan', linestyle='dashed', linewidth = 2)\n",
        "plt.axvline(x=med_val, color = 'red', linestyle='dashed', linewidth = 2)\n",
        "plt.axvline(x=mod_val, color = 'yellow', linestyle='dashed', linewidth = 2)\n",
        "plt.axvline(x=max_val, color = 'gray', linestyle='dashed', linewidth = 2)\n",
        "\n",
        "# Add titles and labels\n",
        "plt.title('Data Distribution')\n",
        "plt.xlabel('Value')\n",
        "plt.ylabel('Frequency')\n",
        "\n",
        "# Show the figure\n",
        "fig.show()"
      ],
      "metadata": {
        "colab": {
          "base_uri": "https://localhost:8080/",
          "height": 617
        },
        "id": "k1KDIPOjaL4R",
        "outputId": "1a82e63e-dfe8-4dc0-eee2-78ba320349cd"
      },
      "execution_count": null,
      "outputs": [
        {
          "output_type": "stream",
          "name": "stdout",
          "text": [
            "Minimum:3.00\n",
            "Mean:49.18\n",
            "Median:49.50\n",
            "Mode:50.00\n",
            "Maximum:97.00\n",
            "\n"
          ]
        },
        {
          "output_type": "display_data",
          "data": {
            "text/plain": [
              "<Figure size 1440x576 with 1 Axes>"
            ],
            "image/png": "[encoded data removed]"
          },
          "metadata": {
            "needs_background": "light"
          }
        }
      ]
    },
    {
      "cell_type": "markdown",
      "source": [
        "For the grade data, the mean, median, and mode all seem to be more or less in the middle of the minimum and maximum, at around 50.\n",
        "\n",
        "Another way to visualize the distribution of a variable is to use a box plot (sometimes called a box-and-whiskers plot). Let's create one for the grade data."
      ],
      "metadata": {
        "id": "tuzsyAcPawVz"
      }
    },
    {
      "cell_type": "code",
      "source": [
        "# Get the variable to examine\n",
        "var = df_students['Grade']\n",
        "\n",
        "# Create a Figure\n",
        "fig = plt.figure(figsize=(10,4))\n",
        "\n",
        "# Plot a histogram\n",
        "plt.boxplot(var)\n",
        "\n",
        "# Add titles and labels\n",
        "plt.title('Data Distribution')\n",
        "\n",
        "# Show the figure\n",
        "fig.show()"
      ],
      "metadata": {
        "colab": {
          "base_uri": "https://localhost:8080/",
          "height": 281
        },
        "id": "SMPMzHWca5cM",
        "outputId": "2cc09b2d-dcb8-42c1-e967-c2ac070c4359"
      },
      "execution_count": null,
      "outputs": [
        {
          "output_type": "display_data",
          "data": {
            "text/plain": [
              "<Figure size 720x288 with 1 Axes>"
            ],
            "image/png": "[encoded data removed]"
          },
          "metadata": {
            "needs_background": "light"
          }
        }
      ]
    },
    {
      "cell_type": "markdown",
      "source": [
        "The box plot shows the distribution of the grade values in a format different from the histogram. The *box* part of the plot shows where the inner two *quartiles* of the data reside. In this case, half of the grades are between approximately 36 and 63. The *whiskers* extending from the box show the outer two quartiles, so the other half of the grades in this case are between 0 and 36 or 63 and 100. The line in the box indicates the *median* value.\n",
        "\n",
        "For learning, it can be useful to combine histograms and box plots, with the box plot's orientation changed to align it with the histogram. (In some ways, it can be helpful to think of the histogram as a \"front elevation\" view of the distribution, and the box plot as a \"plan\" view of the distribution from above.)"
      ],
      "metadata": {
        "id": "vrdfbCPabfLT"
      }
    },
    {
      "cell_type": "code",
      "source": [
        "# Create a function that we can re-use\n",
        "def show_distribution(var_data):\n",
        "    from matplotlib import pyplot as plt\n",
        "\n",
        "    # Get statistics\n",
        "    min_val = var_data.min()\n",
        "    max_val = var_data.max()\n",
        "    mean_val = var_data.mean()\n",
        "    med_val = var_data.median()\n",
        "    mod_val = var_data.mode()[0]\n",
        "\n",
        "    print('Minimum:{:.2f}\\nMean:{:.2f}\\nMedian:{:.2f}\\nMode:{:.2f}\\nMaximum:{:.2f}\\n'.format(min_val,\n",
        "                                                                                            mean_val,\n",
        "                                                                                            med_val,\n",
        "                                                                                            mod_val,\n",
        "                                                                                            max_val))\n",
        "\n",
        "    # Create a figure for 2 subplots (2 rows, 1 column)\n",
        "    fig, ax = plt.subplots(2, 1, figsize = (10,4))\n",
        "\n",
        "    # Plot the histogram   \n",
        "    ax[0].hist(var_data)\n",
        "    ax[0].set_ylabel('Frequency')\n",
        "\n",
        "    # Add lines for the mean, median, and mode\n",
        "    ax[0].axvline(x=min_val, color = 'gray', linestyle='dashed', linewidth = 2)\n",
        "    ax[0].axvline(x=mean_val, color = 'cyan', linestyle='dashed', linewidth = 2)\n",
        "    ax[0].axvline(x=med_val, color = 'red', linestyle='dashed', linewidth = 2)\n",
        "    ax[0].axvline(x=mod_val, color = 'yellow', linestyle='dashed', linewidth = 2)\n",
        "    ax[0].axvline(x=max_val, color = 'gray', linestyle='dashed', linewidth = 2)\n",
        "\n",
        "    # Plot the boxplot   \n",
        "    ax[1].boxplot(var_data, vert=False)\n",
        "    ax[1].set_xlabel('Value')\n",
        "\n",
        "    # Add a title to the Figure\n",
        "    fig.suptitle('Data Distribution')\n",
        "\n",
        "    # Show the figure\n",
        "    fig.show()\n",
        "\n",
        "# Get the variable to examine\n",
        "col = df_students['Grade']\n",
        "# Call the function\n",
        "show_distribution(col)"
      ],
      "metadata": {
        "colab": {
          "base_uri": "https://localhost:8080/",
          "height": 412
        },
        "id": "MFbkuQK1bfxO",
        "outputId": "f5111899-6ece-43db-ddbf-65e292d2e733"
      },
      "execution_count": null,
      "outputs": [
        {
          "output_type": "stream",
          "name": "stdout",
          "text": [
            "Minimum:3.00\n",
            "Mean:49.18\n",
            "Median:49.50\n",
            "Mode:50.00\n",
            "Maximum:97.00\n",
            "\n"
          ]
        },
        {
          "output_type": "display_data",
          "data": {
            "text/plain": [
              "<Figure size 720x288 with 2 Axes>"
            ],
            "image/png": "[encoded data removed]"
          },
          "metadata": {
            "needs_background": "light"
          }
        }
      ]
    },
    {
      "cell_type": "markdown",
      "source": [
        "All of the measurements of central tendency are right in the middle of the data distribution, which is symmetric with values becoming progressively lower in both directions from the middle.\n",
        "\n",
        "To explore this distribution in more detail, you need to understand that statistics is fundamentally about taking *samples* of data and using probability functions to extrapolate information about the full *population* of data.\n",
        "\n",
        "What does this mean? *Samples* refer to the data we have on hand, such as information about these 22 students' study habits and grades. The *population* refers to all possible data we could collect, such as every student's grades and study habits across every educational institution throughout the history of time. Usually we're interested in the population, but it's simply not practical to collect all of that data. Instead, we need to try estimate what the population is like from the small amount of data (samples) that we have.\n",
        "\n",
        "If we have enough samples, we can calculate something called a *probability density function*, which estimates the distribution of grades for the full population.\n",
        "\n",
        "The **pyplot** class from Matplotlib provides a helpful plot function to show this density."
      ],
      "metadata": {
        "id": "wPatwOQ9cDqW"
      }
    },
    {
      "cell_type": "code",
      "source": [
        "def show_density(var_data):\n",
        "    from matplotlib import pyplot as plt\n",
        "\n",
        "    fig = plt.figure(figsize=(10,4))\n",
        "\n",
        "    # Plot density\n",
        "    var_data.plot.density()\n",
        "\n",
        "    # Add titles and labels\n",
        "    plt.title('Data Density')\n",
        "\n",
        "    # Show the mean, median, and mode\n",
        "    plt.axvline(x=var_data.mean(), color = 'cyan', linestyle='dashed', linewidth = 2)\n",
        "    plt.axvline(x=var_data.median(), color = 'red', linestyle='dashed', linewidth = 2)\n",
        "    plt.axvline(x=var_data.mode()[0], color = 'yellow', linestyle='dashed', linewidth = 2)\n",
        "\n",
        "    # Show the figure\n",
        "    plt.show()\n",
        "\n",
        "# Get the density of Grade\n",
        "col = df_students['Grade']\n",
        "show_density(col)"
      ],
      "metadata": {
        "colab": {
          "base_uri": "https://localhost:8080/",
          "height": 281
        },
        "id": "Hnkr3YsxcEpl",
        "outputId": "dd05784d-66f7-4fbf-a70d-2e0aff5d5e70"
      },
      "execution_count": null,
      "outputs": [
        {
          "output_type": "display_data",
          "data": {
            "text/plain": [
              "<Figure size 720x288 with 1 Axes>"
            ],
            "image/png": "[encoded data removed]"
          },
          "metadata": {
            "needs_background": "light"
          }
        }
      ]
    },
    {
      "cell_type": "markdown",
      "source": [
        "As expected from the histogram of the sample, the density shows the characteristic \"bell curve\" of what statisticians call a *normal* distribution with the mean and mode at the center and symmetric tails.\n"
      ],
      "metadata": {
        "id": "lEB7XquScemx"
      }
    },
    {
      "cell_type": "markdown",
      "source": [
        "##Ejercicio: Examen de los datos del mundo real"
      ],
      "metadata": {
        "id": "5U6kiAERdoer"
      }
    },
    {
      "cell_type": "markdown",
      "source": [
        "### Real world data distributions\n",
        "\n",
        "Previously, we looked at grades for our student data and estimated from this sample what the full population of grades might look like. Let's refresh our memory and take a look at this data again.\n",
        "\n",
        "Run the code below to print out the data and make a histogram + box plot that shows the grades for our sample of students."
      ],
      "metadata": {
        "id": "MHtlcr-3drr1"
      }
    },
    {
      "cell_type": "code",
      "source": [
        "import pandas as pd\n",
        "from matplotlib import pyplot as plt\n",
        "\n",
        "# Load data from a text file\n",
        "!wget https://raw.githubusercontent.com/MicrosoftDocs/mslearn-introduction-to-machine-learning/main/Data/ml-basics/grades.csv\n",
        "df_students = pd.read_csv('grades.csv',delimiter=',',header='infer')\n",
        "\n",
        "# Remove any rows with missing data\n",
        "df_students = df_students.dropna(axis=0, how='any')\n",
        "\n",
        "# Calculate who passed, assuming '60' is the grade needed to pass\n",
        "passes  = pd.Series(df_students['Grade'] >= 60)\n",
        "\n",
        "# Save who passed to the Pandas dataframe\n",
        "df_students = pd.concat([df_students, passes.rename(\"Pass\")], axis=1)\n",
        "\n",
        "\n",
        "# Print the result out into this notebook\n",
        "print(df_students)\n",
        "\n",
        "\n",
        "# Create a function that we can re-use\n",
        "def show_distribution(var_data):\n",
        "    '''\n",
        "    This function will make a distribution (graph) and display it\n",
        "    '''\n",
        "\n",
        "    # Get statistics\n",
        "    min_val = var_data.min()\n",
        "    max_val = var_data.max()\n",
        "    mean_val = var_data.mean()\n",
        "    med_val = var_data.median()\n",
        "    mod_val = var_data.mode()[0]\n",
        "\n",
        "    print('Minimum:{:.2f}\\nMean:{:.2f}\\nMedian:{:.2f}\\nMode:{:.2f}\\nMaximum:{:.2f}\\n'.format(min_val,\n",
        "                                                                                            mean_val,\n",
        "                                                                                            med_val,\n",
        "                                                                                            mod_val,\n",
        "                                                                                            max_val))\n",
        "\n",
        "    # Create a figure for 2 subplots (2 rows, 1 column)\n",
        "    fig, ax = plt.subplots(2, 1, figsize = (10,4))\n",
        "\n",
        "    # Plot the histogram   \n",
        "    ax[0].hist(var_data)\n",
        "    ax[0].set_ylabel('Frequency')\n",
        "\n",
        "    # Add lines for the mean, median, and mode\n",
        "    ax[0].axvline(x=min_val, color = 'gray', linestyle='dashed', linewidth = 2)\n",
        "    ax[0].axvline(x=mean_val, color = 'cyan', linestyle='dashed', linewidth = 2)\n",
        "    ax[0].axvline(x=med_val, color = 'red', linestyle='dashed', linewidth = 2)\n",
        "    ax[0].axvline(x=mod_val, color = 'yellow', linestyle='dashed', linewidth = 2)\n",
        "    ax[0].axvline(x=max_val, color = 'gray', linestyle='dashed', linewidth = 2)\n",
        "\n",
        "    # Plot the boxplot   \n",
        "    ax[1].boxplot(var_data, vert=False)\n",
        "    ax[1].set_xlabel('Value')\n",
        "\n",
        "    # Add a title to the Figure\n",
        "    fig.suptitle('Data Distribution')\n",
        "\n",
        "    # Show the figure\n",
        "    fig.show()\n",
        "\n",
        "\n",
        "show_distribution(df_students['Grade'])"
      ],
      "metadata": {
        "colab": {
          "base_uri": "https://localhost:8080/",
          "height": 1000
        },
        "id": "afQkPxEshmo3",
        "outputId": "99929171-a5d9-47a1-fdfe-d99c85d6ba58"
      },
      "execution_count": null,
      "outputs": [
        {
          "output_type": "stream",
          "name": "stdout",
          "text": [
            "--2023-03-09 17:59:10--  https://raw.githubusercontent.com/MicrosoftDocs/mslearn-introduction-to-machine-learning/main/Data/ml-basics/grades.csv\n",
            "Resolving raw.githubusercontent.com (raw.githubusercontent.com)... 185.199.108.133, 185.199.109.133, 185.199.110.133, ...\n",
            "Connecting to raw.githubusercontent.com (raw.githubusercontent.com)|185.199.108.133|:443... connected.\n",
            "HTTP request sent, awaiting response... 200 OK\n",
            "Length: 322 [text/plain]\n",
            "Saving to: ‘grades.csv’\n",
            "\n",
            "\rgrades.csv            0%[                    ]       0  --.-KB/s               \rgrades.csv          100%[===================>]     322  --.-KB/s    in 0s      \n",
            "\n",
            "2023-03-09 17:59:10 (30.8 MB/s) - ‘grades.csv’ saved [322/322]\n",
            "\n",
            "         Name  StudyHours  Grade   Pass\n",
            "0         Dan       10.00   50.0  False\n",
            "1       Joann       11.50   50.0  False\n",
            "2       Pedro        9.00   47.0  False\n",
            "3       Rosie       16.00   97.0   True\n",
            "4       Ethan        9.25   49.0  False\n",
            "5       Vicky        1.00    3.0  False\n",
            "6    Frederic       11.50   53.0  False\n",
            "7      Jimmie        9.00   42.0  False\n",
            "8      Rhonda        8.50   26.0  False\n",
            "9    Giovanni       14.50   74.0   True\n",
            "10  Francesca       15.50   82.0   True\n",
            "11      Rajab       13.75   62.0   True\n",
            "12    Naiyana        9.00   37.0  False\n",
            "13       Kian        8.00   15.0  False\n",
            "14      Jenny       15.50   70.0   True\n",
            "15     Jakeem        8.00   27.0  False\n",
            "16     Helena        9.00   36.0  False\n",
            "17      Ismat        6.00   35.0  False\n",
            "18      Anila       10.00   48.0  False\n",
            "19       Skye       12.00   52.0  False\n",
            "20     Daniel       12.50   63.0   True\n",
            "21      Aisha       12.00   64.0   True\n",
            "Minimum:3.00\n",
            "Mean:49.18\n",
            "Median:49.50\n",
            "Mode:50.00\n",
            "Maximum:97.00\n",
            "\n"
          ]
        },
        {
          "output_type": "display_data",
          "data": {
            "text/plain": [
              "<Figure size 720x288 with 2 Axes>"
            ],
            "image/png": "[encoded data removed]"
          },
          "metadata": {
            "needs_background": "light"
          }
        }
      ]
    },
    {
      "cell_type": "markdown",
      "source": [
        "\n",
        "As you might recall, our data had the mean and mode at the center, with data spread symmetrically from there.\n",
        "\n",
        "Now let's take a look at the distribution of the study hours data."
      ],
      "metadata": {
        "id": "zjxDD3HziJ3S"
      }
    },
    {
      "cell_type": "code",
      "source": [
        "# Get the variable to examine\n",
        "col = df_students['StudyHours']\n",
        "# Call the function\n",
        "show_distribution(col)"
      ],
      "metadata": {
        "colab": {
          "base_uri": "https://localhost:8080/",
          "height": 412
        },
        "id": "QoQWxILiiPfj",
        "outputId": "869ea69c-0938-4390-9c70-1b79e4c9a268"
      },
      "execution_count": null,
      "outputs": [
        {
          "output_type": "stream",
          "name": "stdout",
          "text": [
            "Minimum:1.00\n",
            "Mean:10.52\n",
            "Median:10.00\n",
            "Mode:9.00\n",
            "Maximum:16.00\n",
            "\n"
          ]
        },
        {
          "output_type": "display_data",
          "data": {
            "text/plain": [
              "<Figure size 720x288 with 2 Axes>"
            ],
            "image/png": "[encoded data removed]"
          },
          "metadata": {
            "needs_background": "light"
          }
        }
      ]
    },
    {
      "cell_type": "markdown",
      "source": [
        "The distribution of the study time data is significantly different from that of the grades.\n",
        "\n",
        "Note that the whiskers of the box plot only begin at around 6.0, indicating that the vast majority of the first quarter of the data is above this value. The minimum is marked with an o, indicating that it is statistically an outlier—a value that lies significantly outside the range of the rest of the distribution.\n",
        "\n",
        "Outliers can occur for many reasons. Maybe a student meant to record \"10\" hours of study time, but entered \"1\" and missed the \"0\". Or maybe the student was abnormally lazy when it comes to studying! Either way, it's a statistical anomaly that doesn't represent a typical student. Let's see what the distribution looks like without it."
      ],
      "metadata": {
        "id": "UHRnbxWfifcG"
      }
    },
    {
      "cell_type": "code",
      "source": [
        "# Get the variable to examine\n",
        "# We will only get students who have studied more than one hour\n",
        "col = df_students[df_students.StudyHours>1]['StudyHours']\n",
        "\n",
        "# Call the function\n",
        "show_distribution(col)"
      ],
      "metadata": {
        "colab": {
          "base_uri": "https://localhost:8080/",
          "height": 412
        },
        "id": "tQY8OEUujTIe",
        "outputId": "92ee5221-b52c-43ed-dec0-75a71fdaf27d"
      },
      "execution_count": null,
      "outputs": [
        {
          "output_type": "stream",
          "name": "stdout",
          "text": [
            "Minimum:6.00\n",
            "Mean:10.98\n",
            "Median:10.00\n",
            "Mode:9.00\n",
            "Maximum:16.00\n",
            "\n"
          ]
        },
        {
          "output_type": "display_data",
          "data": {
            "text/plain": [
              "<Figure size 720x288 with 2 Axes>"
            ],
            "image/png": "[encoded data removed]"
          },
          "metadata": {
            "needs_background": "light"
          }
        }
      ]
    },
    {
      "cell_type": "markdown",
      "source": [
        "\n",
        "For learning purposes, we have just treated the value 1 as a true outlier here and excluded it. In the real world, it would be unusual to exclude data at the extremes without more justification when our sample size is so small. This is because the smaller our sample size, the more likely it is that our sampling is a bad representation of the whole population. (Here, the population means grades for all students, not just our 22.) For example, if we sampled study time for another 1,000 students, we might find that it's actually quite common to not study much!\n",
        "\n",
        "When we have more data available, our sample becomes more reliable. This makes it easier to consider outliers as being values that fall below or above percentiles within which most of the data lie. For example, the following code uses the Pandas quantile function to exclude observations below the 0.01th percentile (the value above which 99% of the data reside)."
      ],
      "metadata": {
        "id": "3hYlcr2fj61V"
      }
    },
    {
      "cell_type": "code",
      "source": [
        "# calculate the 0.01th percentile\n",
        "q01 = df_students.StudyHours.quantile(0.01)\n",
        "# Get the variable to examine\n",
        "col = df_students[df_students.StudyHours>q01]['StudyHours']\n",
        "# Call the function\n",
        "show_distribution(col)"
      ],
      "metadata": {
        "colab": {
          "base_uri": "https://localhost:8080/",
          "height": 412
        },
        "id": "OkccKvKhj90Y",
        "outputId": "3d43303d-c683-46b6-bf3f-5fad2c0762c6"
      },
      "execution_count": null,
      "outputs": [
        {
          "output_type": "stream",
          "name": "stdout",
          "text": [
            "Minimum:6.00\n",
            "Mean:10.98\n",
            "Median:10.00\n",
            "Mode:9.00\n",
            "Maximum:16.00\n",
            "\n"
          ]
        },
        {
          "output_type": "display_data",
          "data": {
            "text/plain": [
              "<Figure size 720x288 with 2 Axes>"
            ],
            "image/png": "[encoded data removed]"
          },
          "metadata": {
            "needs_background": "light"
          }
        }
      ]
    },
    {
      "cell_type": "markdown",
      "source": [
        "> **Tip**: You can also eliminate outliers at the upper end of the distribution by defining a threshold at a high percentile value. For example, you could use the **quantile** function to find the 0.99 percentile below which 99% of the data reside.\n",
        "\n",
        "With the outliers removed, the box plot shows all data within the four quartiles. Note that the distribution is not symmetric like it is for the grade data. There are some students with very high study times of around 16 hours, but the bulk of the data is between 7 and 13 hours. The few extremely high values pull the mean towards the higher end of the scale.\n",
        "\n",
        "Let's look at the density for this distribution."
      ],
      "metadata": {
        "id": "Xhk-d574kKSa"
      }
    },
    {
      "cell_type": "code",
      "source": [
        "def show_density(var_data):\n",
        "    fig = plt.figure(figsize=(10,4))\n",
        "\n",
        "    # Plot density\n",
        "    var_data.plot.density()\n",
        "\n",
        "    # Add titles and labels\n",
        "    plt.title('Data Density')\n",
        "\n",
        "    # Show the mean, median, and mode\n",
        "    plt.axvline(x=var_data.mean(), color = 'cyan', linestyle='dashed', linewidth = 2)\n",
        "    plt.axvline(x=var_data.median(), color = 'red', linestyle='dashed', linewidth = 2)\n",
        "    plt.axvline(x=var_data.mode()[0], color = 'yellow', linestyle='dashed', linewidth = 2)\n",
        "\n",
        "    # Show the figure\n",
        "    plt.show()\n",
        "\n",
        "# Get the density of StudyHours\n",
        "show_density(col)"
      ],
      "metadata": {
        "colab": {
          "base_uri": "https://localhost:8080/",
          "height": 281
        },
        "id": "9TcyZDhski05",
        "outputId": "57ecb618-84b4-4d92-e652-4f31f88c65d7"
      },
      "execution_count": null,
      "outputs": [
        {
          "output_type": "display_data",
          "data": {
            "text/plain": [
              "<Figure size 720x288 with 1 Axes>"
            ],
            "image/png": "[encoded data removed]"
          },
          "metadata": {
            "needs_background": "light"
          }
        }
      ]
    },
    {
      "cell_type": "markdown",
      "source": [
        "This kind of distribution is called *right skewed*. The mass of the data is on the left side of the distribution, creating a long tail to the right because of the values at the extreme high end, which pull the mean to the right.\n",
        "\n",
        "#### Measures of variance\n",
        "\n",
        "So now we have a good idea where the middle of the grade and study hours data distributions are. However, there's another aspect of the distributions we should examine: how much variability is there in the data?\n",
        "\n",
        "Typical statistics that measure variability in the data include:\n",
        "\n",
        "- **Range**: The difference between the maximum and minimum. There's no built-in function for this, but it's easy to calculate using the **min** and **max** functions.\n",
        "- **Variance**: The average of the squared difference from the mean. You can use the built-in **var** function to find this.\n",
        "- **Standard Deviation**: The square root of the variance. You can use the built-in **std** function to find this."
      ],
      "metadata": {
        "id": "aF8gIyf1ktq2"
      }
    },
    {
      "cell_type": "code",
      "source": [
        "for col_name in ['Grade','StudyHours']:\n",
        "    col = df_students[col_name]\n",
        "    rng = col.max() - col.min()\n",
        "    var = col.var()\n",
        "    std = col.std()\n",
        "    print('\\n{}:\\n - Range: {:.2f}\\n - Variance: {:.2f}\\n - Std.Dev: {:.2f}'.format(col_name, rng, var, std))"
      ],
      "metadata": {
        "colab": {
          "base_uri": "https://localhost:8080/"
        },
        "id": "yyl5tY83lFTL",
        "outputId": "6c83caac-290c-4283-b6ba-5fa1c8c11004"
      },
      "execution_count": null,
      "outputs": [
        {
          "output_type": "stream",
          "name": "stdout",
          "text": [
            "\n",
            "Grade:\n",
            " - Range: 94.00\n",
            " - Variance: 472.54\n",
            " - Std.Dev: 21.74\n",
            "\n",
            "StudyHours:\n",
            " - Range: 15.00\n",
            " - Variance: 12.16\n",
            " - Std.Dev: 3.49\n"
          ]
        }
      ]
    },
    {
      "cell_type": "markdown",
      "source": [
        "\n",
        "Of these statistics, the standard deviation is generally the most useful. It provides a measure of variance in the data on the same scale as the data itself (so grade points for the Grade distribution and hours for the StudyHours distribution). The higher the standard deviation, the more variance there is when comparing values in the distribution to the distribution mean—in other words, the data is more spread out.\n",
        "\n",
        "When working with a normal distribution, the standard deviation works with the particular characteristics of a normal distribution to provide even greater insight. Run the cell below to see the relationship between standard deviations and the data in the normal distribution."
      ],
      "metadata": {
        "id": "JcT8HcJpnAhX"
      }
    },
    {
      "cell_type": "code",
      "source": [
        "import scipy.stats as stats\n",
        "\n",
        "# Get the Grade column\n",
        "col = df_students['Grade']\n",
        "\n",
        "# get the density\n",
        "density = stats.gaussian_kde(col)\n",
        "\n",
        "# Plot the density\n",
        "col.plot.density()\n",
        "\n",
        "# Get the mean and standard deviation\n",
        "s = col.std()\n",
        "m = col.mean()\n",
        "\n",
        "# Annotate 1 stdev\n",
        "x1 = [m-s, m+s]\n",
        "y1 = density(x1)\n",
        "plt.plot(x1,y1, color='magenta')\n",
        "plt.annotate('1 std (68.26%)', (x1[1],y1[1]))\n",
        "\n",
        "# Annotate 2 stdevs\n",
        "x2 = [m-(s*2), m+(s*2)]\n",
        "y2 = density(x2)\n",
        "plt.plot(x2,y2, color='green')\n",
        "plt.annotate('2 std (95.45%)', (x2[1],y2[1]))\n",
        "\n",
        "# Annotate 3 stdevs\n",
        "x3 = [m-(s*3), m+(s*3)]\n",
        "y3 = density(x3)\n",
        "plt.plot(x3,y3, color='orange')\n",
        "plt.annotate('3 std (99.73%)', (x3[1],y3[1]))\n",
        "\n",
        "# Show the location of the mean\n",
        "plt.axvline(col.mean(), color='cyan', linestyle='dashed', linewidth=1)\n",
        "\n",
        "plt.axis('off')\n",
        "\n",
        "plt.show()"
      ],
      "metadata": {
        "colab": {
          "base_uri": "https://localhost:8080/",
          "height": 248
        },
        "id": "b6SpPyEMnD5U",
        "outputId": "2bcb1847-b82c-4d67-b5d1-684e0e59ba03"
      },
      "execution_count": null,
      "outputs": [
        {
          "output_type": "display_data",
          "data": {
            "text/plain": [
              "<Figure size 432x288 with 1 Axes>"
            ],
            "image/png": "[encoded data removed]"
          },
          "metadata": {
            "needs_background": "light"
          }
        }
      ]
    },
    {
      "cell_type": "markdown",
      "source": [
        "The horizontal lines show the percentage of data within 1, 2, and 3 standard deviations of the mean (plus or minus).\n",
        "\n",
        "In any normal distribution:\n",
        "- Approximately 68.26% of values fall within one standard deviation from the mean.\n",
        "- Approximately 95.45% of values fall within two standard deviations from the mean.\n",
        "- Approximately 99.73% of values fall within three standard deviations from the mean.\n",
        "\n",
        "So, since we know that the mean grade is 49.18, the standard deviation is 21.74, and distribution of grades is approximately normal, we can calculate that 68.26% of students should achieve a grade between 27.44 and 70.92.\n",
        "\n",
        "The descriptive statistics we've used to understand the distribution of the student data variables are the basis of statistical analysis. Because they're such an important part of exploring your data, there's a built-in `describe` method of the DataFrame object that returns the main descriptive statistics for all numeric columns."
      ],
      "metadata": {
        "id": "X3xXssZpnUSr"
      }
    },
    {
      "cell_type": "code",
      "source": [
        "df_students.describe()"
      ],
      "metadata": {
        "colab": {
          "base_uri": "https://localhost:8080/",
          "height": 300
        },
        "id": "NtRaZ1U-n4VI",
        "outputId": "0ca36d0f-490c-4086-bc55-6db76b99b730"
      },
      "execution_count": null,
      "outputs": [
        {
          "output_type": "execute_result",
          "data": {
            "text/plain": [
              "       StudyHours      Grade\n",
              "count   22.000000  22.000000\n",
              "mean    10.522727  49.181818\n",
              "std      3.487144  21.737912\n",
              "min      1.000000   3.000000\n",
              "25%      9.000000  36.250000\n",
              "50%     10.000000  49.500000\n",
              "75%     12.375000  62.750000\n",
              "max     16.000000  97.000000"
            ],
            "text/html": [
              "\n",
              "  <div id=\"df-1c49457f-1c7d-42ba-888b-75cc80e61b37\">\n",
              "    <div class=\"colab-df-container\">\n",
              "      <div>\n",
              "<style scoped>\n",
              "    .dataframe tbody tr th:only-of-type {\n",
              "        vertical-align: middle;\n",
              "    }\n",
              "\n",
              "    .dataframe tbody tr th {\n",
              "        vertical-align: top;\n",
              "    }\n",
              "\n",
              "    .dataframe thead th {\n",
              "        text-align: right;\n",
              "    }\n",
              "</style>\n",
              "<table border=\"1\" class=\"dataframe\">\n",
              "  <thead>\n",
              "    <tr style=\"text-align: right;\">\n",
              "      <th></th>\n",
              "      <th>StudyHours</th>\n",
              "      <th>Grade</th>\n",
              "    </tr>\n",
              "  </thead>\n",
              "  <tbody>\n",
              "    <tr>\n",
              "      <th>count</th>\n",
              "      <td>22.000000</td>\n",
              "      <td>22.000000</td>\n",
              "    </tr>\n",
              "    <tr>\n",
              "      <th>mean</th>\n",
              "      <td>10.522727</td>\n",
              "      <td>49.181818</td>\n",
              "    </tr>\n",
              "    <tr>\n",
              "      <th>std</th>\n",
              "      <td>3.487144</td>\n",
              "      <td>21.737912</td>\n",
              "    </tr>\n",
              "    <tr>\n",
              "      <th>min</th>\n",
              "      <td>1.000000</td>\n",
              "      <td>3.000000</td>\n",
              "    </tr>\n",
              "    <tr>\n",
              "      <th>25%</th>\n",
              "      <td>9.000000</td>\n",
              "      <td>36.250000</td>\n",
              "    </tr>\n",
              "    <tr>\n",
              "      <th>50%</th>\n",
              "      <td>10.000000</td>\n",
              "      <td>49.500000</td>\n",
              "    </tr>\n",
              "    <tr>\n",
              "      <th>75%</th>\n",
              "      <td>12.375000</td>\n",
              "      <td>62.750000</td>\n",
              "    </tr>\n",
              "    <tr>\n",
              "      <th>max</th>\n",
              "      <td>16.000000</td>\n",
              "      <td>97.000000</td>\n",
              "    </tr>\n",
              "  </tbody>\n",
              "</table>\n",
              "</div>\n",
              "      <button class=\"colab-df-convert\" onclick=\"convertToInteractive('df-1c49457f-1c7d-42ba-888b-75cc80e61b37')\"\n",
              "              title=\"Convert this dataframe to an interactive table.\"\n",
              "              style=\"display:none;\">\n",
              "        \n",
              "  <svg xmlns=\"http://www.w3.org/2000/svg\" height=\"24px\"viewBox=\"0 0 24 24\"\n",
              "       width=\"24px\">\n",
              "    <path d=\"M0 0h24v24H0V0z\" fill=\"none\"/>\n",
              "    <path d=\"M18.56 5.44l.94 2.06.94-2.06 2.06-.94-2.06-.94-.94-2.06-.94 2.06-2.06.94zm-11 1L8.5 8.5l.94-2.06 2.06-.94-2.06-.94L8.5 2.5l-.94 2.06-2.06.94zm10 10l.94 2.06.94-2.06 2.06-.94-2.06-.94-.94-2.06-.94 2.06-2.06.94z\"/><path d=\"M17.41 7.96l-1.37-1.37c-.4-.4-.92-.59-1.43-.59-.52 0-1.04.2-1.43.59L10.3 9.45l-7.72 7.72c-.78.78-.78 2.05 0 2.83L4 21.41c.39.39.9.59 1.41.59.51 0 1.02-.2 1.41-.59l7.78-7.78 2.81-2.81c.8-.78.8-2.07 0-2.86zM5.41 20L4 18.59l7.72-7.72 1.47 1.35L5.41 20z\"/>\n",
              "  </svg>\n",
              "      </button>\n",
              "      \n",
              "  <style>\n",
              "    .colab-df-container {\n",
              "      display:flex;\n",
              "      flex-wrap:wrap;\n",
              "      gap: 12px;\n",
              "    }\n",
              "\n",
              "    .colab-df-convert {\n",
              "      background-color: #E8F0FE;\n",
              "      border: none;\n",
              "      border-radius: 50%;\n",
              "      cursor: pointer;\n",
              "      display: none;\n",
              "      fill: #1967D2;\n",
              "      height: 32px;\n",
              "      padding: 0 0 0 0;\n",
              "      width: 32px;\n",
              "    }\n",
              "\n",
              "    .colab-df-convert:hover {\n",
              "      background-color: #E2EBFA;\n",
              "      box-shadow: 0px 1px 2px rgba(60, 64, 67, 0.3), 0px 1px 3px 1px rgba(60, 64, 67, 0.15);\n",
              "      fill: #174EA6;\n",
              "    }\n",
              "\n",
              "    [theme=dark] .colab-df-convert {\n",
              "      background-color: #3B4455;\n",
              "      fill: #D2E3FC;\n",
              "    }\n",
              "\n",
              "    [theme=dark] .colab-df-convert:hover {\n",
              "      background-color: #434B5C;\n",
              "      box-shadow: 0px 1px 3px 1px rgba(0, 0, 0, 0.15);\n",
              "      filter: drop-shadow(0px 1px 2px rgba(0, 0, 0, 0.3));\n",
              "      fill: #FFFFFF;\n",
              "    }\n",
              "  </style>\n",
              "\n",
              "      <script>\n",
              "        const buttonEl =\n",
              "          document.querySelector('#df-1c49457f-1c7d-42ba-888b-75cc80e61b37 button.colab-df-convert');\n",
              "        buttonEl.style.display =\n",
              "          google.colab.kernel.accessAllowed ? 'block' : 'none';\n",
              "\n",
              "        async function convertToInteractive(key) {\n",
              "          const element = document.querySelector('#df-1c49457f-1c7d-42ba-888b-75cc80e61b37');\n",
              "          const dataTable =\n",
              "            await google.colab.kernel.invokeFunction('convertToInteractive',\n",
              "                                                     [key], {});\n",
              "          if (!dataTable) return;\n",
              "\n",
              "          const docLinkHtml = 'Like what you see? Visit the ' +\n",
              "            '<a target=\"_blank\" href=https://colab.research.google.com/notebooks/data_table.ipynb>data table notebook</a>'\n",
              "            + ' to learn more about interactive tables.';\n",
              "          element.innerHTML = '';\n",
              "          dataTable['output_type'] = 'display_data';\n",
              "          await google.colab.output.renderOutput(dataTable, element);\n",
              "          const docLink = document.createElement('div');\n",
              "          docLink.innerHTML = docLinkHtml;\n",
              "          element.appendChild(docLink);\n",
              "        }\n",
              "      </script>\n",
              "    </div>\n",
              "  </div>\n",
              "  "
            ]
          },
          "metadata": {},
          "execution_count": 71
        }
      ]
    },
    {
      "cell_type": "markdown",
      "source": [
        "#### Comparing data\n",
        "\n",
        "Now that you know something about the statistical distribution of the data in your dataset, you're ready to examine your data to identify any apparent relationships between variables.\n",
        "\n",
        "First of all, let's get rid of any rows that contain outliers so that we have a sample that is representative of a typical class of students. We identified that the StudyHours column contains some outliers with extremely low values, so we'll remove those rows."
      ],
      "metadata": {
        "id": "mfCf3M-koFlX"
      }
    },
    {
      "cell_type": "code",
      "source": [
        "df_sample = df_students[df_students['StudyHours']>1]\n",
        "df_sample"
      ],
      "metadata": {
        "colab": {
          "base_uri": "https://localhost:8080/",
          "height": 708
        },
        "id": "z8Dk4xi2oJ_H",
        "outputId": "f52403fc-f636-4a67-c166-60710b24731e"
      },
      "execution_count": null,
      "outputs": [
        {
          "output_type": "execute_result",
          "data": {
            "text/plain": [
              "         Name  StudyHours  Grade   Pass\n",
              "0         Dan       10.00   50.0  False\n",
              "1       Joann       11.50   50.0  False\n",
              "2       Pedro        9.00   47.0  False\n",
              "3       Rosie       16.00   97.0   True\n",
              "4       Ethan        9.25   49.0  False\n",
              "6    Frederic       11.50   53.0  False\n",
              "7      Jimmie        9.00   42.0  False\n",
              "8      Rhonda        8.50   26.0  False\n",
              "9    Giovanni       14.50   74.0   True\n",
              "10  Francesca       15.50   82.0   True\n",
              "11      Rajab       13.75   62.0   True\n",
              "12    Naiyana        9.00   37.0  False\n",
              "13       Kian        8.00   15.0  False\n",
              "14      Jenny       15.50   70.0   True\n",
              "15     Jakeem        8.00   27.0  False\n",
              "16     Helena        9.00   36.0  False\n",
              "17      Ismat        6.00   35.0  False\n",
              "18      Anila       10.00   48.0  False\n",
              "19       Skye       12.00   52.0  False\n",
              "20     Daniel       12.50   63.0   True\n",
              "21      Aisha       12.00   64.0   True"
            ],
            "text/html": [
              "\n",
              "  <div id=\"df-d117168b-940f-4967-add2-6d2daf5a710d\">\n",
              "    <div class=\"colab-df-container\">\n",
              "      <div>\n",
              "<style scoped>\n",
              "    .dataframe tbody tr th:only-of-type {\n",
              "        vertical-align: middle;\n",
              "    }\n",
              "\n",
              "    .dataframe tbody tr th {\n",
              "        vertical-align: top;\n",
              "    }\n",
              "\n",
              "    .dataframe thead th {\n",
              "        text-align: right;\n",
              "    }\n",
              "</style>\n",
              "<table border=\"1\" class=\"dataframe\">\n",
              "  <thead>\n",
              "    <tr style=\"text-align: right;\">\n",
              "      <th></th>\n",
              "      <th>Name</th>\n",
              "      <th>StudyHours</th>\n",
              "      <th>Grade</th>\n",
              "      <th>Pass</th>\n",
              "    </tr>\n",
              "  </thead>\n",
              "  <tbody>\n",
              "    <tr>\n",
              "      <th>0</th>\n",
              "      <td>Dan</td>\n",
              "      <td>10.00</td>\n",
              "      <td>50.0</td>\n",
              "      <td>False</td>\n",
              "    </tr>\n",
              "    <tr>\n",
              "      <th>1</th>\n",
              "      <td>Joann</td>\n",
              "      <td>11.50</td>\n",
              "      <td>50.0</td>\n",
              "      <td>False</td>\n",
              "    </tr>\n",
              "    <tr>\n",
              "      <th>2</th>\n",
              "      <td>Pedro</td>\n",
              "      <td>9.00</td>\n",
              "      <td>47.0</td>\n",
              "      <td>False</td>\n",
              "    </tr>\n",
              "    <tr>\n",
              "      <th>3</th>\n",
              "      <td>Rosie</td>\n",
              "      <td>16.00</td>\n",
              "      <td>97.0</td>\n",
              "      <td>True</td>\n",
              "    </tr>\n",
              "    <tr>\n",
              "      <th>4</th>\n",
              "      <td>Ethan</td>\n",
              "      <td>9.25</td>\n",
              "      <td>49.0</td>\n",
              "      <td>False</td>\n",
              "    </tr>\n",
              "    <tr>\n",
              "      <th>6</th>\n",
              "      <td>Frederic</td>\n",
              "      <td>11.50</td>\n",
              "      <td>53.0</td>\n",
              "      <td>False</td>\n",
              "    </tr>\n",
              "    <tr>\n",
              "      <th>7</th>\n",
              "      <td>Jimmie</td>\n",
              "      <td>9.00</td>\n",
              "      <td>42.0</td>\n",
              "      <td>False</td>\n",
              "    </tr>\n",
              "    <tr>\n",
              "      <th>8</th>\n",
              "      <td>Rhonda</td>\n",
              "      <td>8.50</td>\n",
              "      <td>26.0</td>\n",
              "      <td>False</td>\n",
              "    </tr>\n",
              "    <tr>\n",
              "      <th>9</th>\n",
              "      <td>Giovanni</td>\n",
              "      <td>14.50</td>\n",
              "      <td>74.0</td>\n",
              "      <td>True</td>\n",
              "    </tr>\n",
              "    <tr>\n",
              "      <th>10</th>\n",
              "      <td>Francesca</td>\n",
              "      <td>15.50</td>\n",
              "      <td>82.0</td>\n",
              "      <td>True</td>\n",
              "    </tr>\n",
              "    <tr>\n",
              "      <th>11</th>\n",
              "      <td>Rajab</td>\n",
              "      <td>13.75</td>\n",
              "      <td>62.0</td>\n",
              "      <td>True</td>\n",
              "    </tr>\n",
              "    <tr>\n",
              "      <th>12</th>\n",
              "      <td>Naiyana</td>\n",
              "      <td>9.00</td>\n",
              "      <td>37.0</td>\n",
              "      <td>False</td>\n",
              "    </tr>\n",
              "    <tr>\n",
              "      <th>13</th>\n",
              "      <td>Kian</td>\n",
              "      <td>8.00</td>\n",
              "      <td>15.0</td>\n",
              "      <td>False</td>\n",
              "    </tr>\n",
              "    <tr>\n",
              "      <th>14</th>\n",
              "      <td>Jenny</td>\n",
              "      <td>15.50</td>\n",
              "      <td>70.0</td>\n",
              "      <td>True</td>\n",
              "    </tr>\n",
              "    <tr>\n",
              "      <th>15</th>\n",
              "      <td>Jakeem</td>\n",
              "      <td>8.00</td>\n",
              "      <td>27.0</td>\n",
              "      <td>False</td>\n",
              "    </tr>\n",
              "    <tr>\n",
              "      <th>16</th>\n",
              "      <td>Helena</td>\n",
              "      <td>9.00</td>\n",
              "      <td>36.0</td>\n",
              "      <td>False</td>\n",
              "    </tr>\n",
              "    <tr>\n",
              "      <th>17</th>\n",
              "      <td>Ismat</td>\n",
              "      <td>6.00</td>\n",
              "      <td>35.0</td>\n",
              "      <td>False</td>\n",
              "    </tr>\n",
              "    <tr>\n",
              "      <th>18</th>\n",
              "      <td>Anila</td>\n",
              "      <td>10.00</td>\n",
              "      <td>48.0</td>\n",
              "      <td>False</td>\n",
              "    </tr>\n",
              "    <tr>\n",
              "      <th>19</th>\n",
              "      <td>Skye</td>\n",
              "      <td>12.00</td>\n",
              "      <td>52.0</td>\n",
              "      <td>False</td>\n",
              "    </tr>\n",
              "    <tr>\n",
              "      <th>20</th>\n",
              "      <td>Daniel</td>\n",
              "      <td>12.50</td>\n",
              "      <td>63.0</td>\n",
              "      <td>True</td>\n",
              "    </tr>\n",
              "    <tr>\n",
              "      <th>21</th>\n",
              "      <td>Aisha</td>\n",
              "      <td>12.00</td>\n",
              "      <td>64.0</td>\n",
              "      <td>True</td>\n",
              "    </tr>\n",
              "  </tbody>\n",
              "</table>\n",
              "</div>\n",
              "      <button class=\"colab-df-convert\" onclick=\"convertToInteractive('df-d117168b-940f-4967-add2-6d2daf5a710d')\"\n",
              "              title=\"Convert this dataframe to an interactive table.\"\n",
              "              style=\"display:none;\">\n",
              "        \n",
              "  <svg xmlns=\"http://www.w3.org/2000/svg\" height=\"24px\"viewBox=\"0 0 24 24\"\n",
              "       width=\"24px\">\n",
              "    <path d=\"M0 0h24v24H0V0z\" fill=\"none\"/>\n",
              "    <path d=\"M18.56 5.44l.94 2.06.94-2.06 2.06-.94-2.06-.94-.94-2.06-.94 2.06-2.06.94zm-11 1L8.5 8.5l.94-2.06 2.06-.94-2.06-.94L8.5 2.5l-.94 2.06-2.06.94zm10 10l.94 2.06.94-2.06 2.06-.94-2.06-.94-.94-2.06-.94 2.06-2.06.94z\"/><path d=\"M17.41 7.96l-1.37-1.37c-.4-.4-.92-.59-1.43-.59-.52 0-1.04.2-1.43.59L10.3 9.45l-7.72 7.72c-.78.78-.78 2.05 0 2.83L4 21.41c.39.39.9.59 1.41.59.51 0 1.02-.2 1.41-.59l7.78-7.78 2.81-2.81c.8-.78.8-2.07 0-2.86zM5.41 20L4 18.59l7.72-7.72 1.47 1.35L5.41 20z\"/>\n",
              "  </svg>\n",
              "      </button>\n",
              "      \n",
              "  <style>\n",
              "    .colab-df-container {\n",
              "      display:flex;\n",
              "      flex-wrap:wrap;\n",
              "      gap: 12px;\n",
              "    }\n",
              "\n",
              "    .colab-df-convert {\n",
              "      background-color: #E8F0FE;\n",
              "      border: none;\n",
              "      border-radius: 50%;\n",
              "      cursor: pointer;\n",
              "      display: none;\n",
              "      fill: #1967D2;\n",
              "      height: 32px;\n",
              "      padding: 0 0 0 0;\n",
              "      width: 32px;\n",
              "    }\n",
              "\n",
              "    .colab-df-convert:hover {\n",
              "      background-color: #E2EBFA;\n",
              "      box-shadow: 0px 1px 2px rgba(60, 64, 67, 0.3), 0px 1px 3px 1px rgba(60, 64, 67, 0.15);\n",
              "      fill: #174EA6;\n",
              "    }\n",
              "\n",
              "    [theme=dark] .colab-df-convert {\n",
              "      background-color: #3B4455;\n",
              "      fill: #D2E3FC;\n",
              "    }\n",
              "\n",
              "    [theme=dark] .colab-df-convert:hover {\n",
              "      background-color: #434B5C;\n",
              "      box-shadow: 0px 1px 3px 1px rgba(0, 0, 0, 0.15);\n",
              "      filter: drop-shadow(0px 1px 2px rgba(0, 0, 0, 0.3));\n",
              "      fill: #FFFFFF;\n",
              "    }\n",
              "  </style>\n",
              "\n",
              "      <script>\n",
              "        const buttonEl =\n",
              "          document.querySelector('#df-d117168b-940f-4967-add2-6d2daf5a710d button.colab-df-convert');\n",
              "        buttonEl.style.display =\n",
              "          google.colab.kernel.accessAllowed ? 'block' : 'none';\n",
              "\n",
              "        async function convertToInteractive(key) {\n",
              "          const element = document.querySelector('#df-d117168b-940f-4967-add2-6d2daf5a710d');\n",
              "          const dataTable =\n",
              "            await google.colab.kernel.invokeFunction('convertToInteractive',\n",
              "                                                     [key], {});\n",
              "          if (!dataTable) return;\n",
              "\n",
              "          const docLinkHtml = 'Like what you see? Visit the ' +\n",
              "            '<a target=\"_blank\" href=https://colab.research.google.com/notebooks/data_table.ipynb>data table notebook</a>'\n",
              "            + ' to learn more about interactive tables.';\n",
              "          element.innerHTML = '';\n",
              "          dataTable['output_type'] = 'display_data';\n",
              "          await google.colab.output.renderOutput(dataTable, element);\n",
              "          const docLink = document.createElement('div');\n",
              "          docLink.innerHTML = docLinkHtml;\n",
              "          element.appendChild(docLink);\n",
              "        }\n",
              "      </script>\n",
              "    </div>\n",
              "  </div>\n",
              "  "
            ]
          },
          "metadata": {},
          "execution_count": 72
        }
      ]
    },
    {
      "cell_type": "markdown",
      "source": [
        "#### Comparing numeric and categorical variables\n",
        "\n",
        "The data includes two *numeric* variables (**StudyHours** and **Grade**) and two *categorical* variables (**Name** and **Pass**). Let's start by comparing the numeric **StudyHours** column to the categorical **Pass** column to see if there's an apparent relationship between the number of hours studied and a passing grade.\n",
        "\n",
        "To make this comparison, let's create box plots showing the distribution of StudyHours for each possible Pass value (true and false)."
      ],
      "metadata": {
        "id": "-bIejgDEoQX_"
      }
    },
    {
      "cell_type": "code",
      "source": [
        "df_sample.boxplot(column='StudyHours', by='Pass', figsize=(8,5))"
      ],
      "metadata": {
        "colab": {
          "base_uri": "https://localhost:8080/",
          "height": 378
        },
        "id": "S0S6In4FoVrC",
        "outputId": "fd47d345-f60f-42cf-e29a-0a9feb3162bb"
      },
      "execution_count": null,
      "outputs": [
        {
          "output_type": "execute_result",
          "data": {
            "text/plain": [
              "<AxesSubplot:title={'center':'StudyHours'}, xlabel='Pass'>"
            ]
          },
          "metadata": {},
          "execution_count": 73
        },
        {
          "output_type": "display_data",
          "data": {
            "text/plain": [
              "<Figure size 576x360 with 1 Axes>"
            ],
            "image/png": "[encoded data removed]"
          },
          "metadata": {
            "needs_background": "light"
          }
        }
      ]
    },
    {
      "cell_type": "markdown",
      "source": [
        "Comparing the StudyHours distributions, it's immediately apparent (if not particularly surprising) that students who passed the course tended to study for more hours than students who didn't. So if you wanted to predict whether or not a student is likely to pass the course, the amount of time they spend studying may be a good predictive indicator.\n",
        "\n",
        "#### Comparing numeric variables\n",
        "\n",
        "Now let's compare two numeric variables. We'll start by creating a bar chart that shows both grade and study hours."
      ],
      "metadata": {
        "id": "7TXasDn2oqON"
      }
    },
    {
      "cell_type": "code",
      "source": [
        "# Create a bar plot of name vs grade and study hours\n",
        "df_sample.plot(x='Name', y=['Grade','StudyHours'], kind='bar', figsize=(8,5))"
      ],
      "metadata": {
        "colab": {
          "base_uri": "https://localhost:8080/",
          "height": 391
        },
        "id": "Yu2_E4zVo3rb",
        "outputId": "4badd332-9805-4fa5-866f-e026be1c0847"
      },
      "execution_count": null,
      "outputs": [
        {
          "output_type": "execute_result",
          "data": {
            "text/plain": [
              "<AxesSubplot:xlabel='Name'>"
            ]
          },
          "metadata": {},
          "execution_count": 74
        },
        {
          "output_type": "display_data",
          "data": {
            "text/plain": [
              "<Figure size 576x360 with 1 Axes>"
            ],
            "image/png": "[encoded data removed]"
          },
          "metadata": {
            "needs_background": "light"
          }
        }
      ]
    },
    {
      "cell_type": "markdown",
      "source": [
        "The chart shows bars for both grade and study hours for each student, but it's not easy to compare because the values are on different scales. A grade is measured in grade points (and ranges from 3 to 97), and study time is measured in hours (and ranges from 1 to 16).\n",
        "\n",
        "A common technique when dealing with numeric data in different scales is to *normalize* the data so that the values retain their proportional distribution but are measured on the same scale. To accomplish this, we'll use a technique called *MinMax* scaling that distributes the values proportionally on a scale of 0 to 1. You could write the code to apply this transformation, but the **Scikit-Learn** library provides a scaler to do it for you."
      ],
      "metadata": {
        "id": "tQtKn41mppvs"
      }
    },
    {
      "cell_type": "code",
      "source": [
        "from sklearn.preprocessing import MinMaxScaler\n",
        "\n",
        "# Get a scaler object\n",
        "scaler = MinMaxScaler()\n",
        "\n",
        "# Create a new dataframe for the scaled values\n",
        "df_normalized = df_sample[['Name', 'Grade', 'StudyHours']].copy()\n",
        "\n",
        "# Normalize the numeric columns\n",
        "df_normalized[['Grade','StudyHours']] = scaler.fit_transform(df_normalized[['Grade','StudyHours']])\n",
        "\n",
        "# Plot the normalized values\n",
        "df_normalized.plot(x='Name', y=['Grade','StudyHours'], kind='bar', figsize=(8,5))"
      ],
      "metadata": {
        "colab": {
          "base_uri": "https://localhost:8080/",
          "height": 391
        },
        "id": "6aiJZCVRpXvW",
        "outputId": "9240a1fe-252a-4b8e-b106-afde96a2424c"
      },
      "execution_count": null,
      "outputs": [
        {
          "output_type": "execute_result",
          "data": {
            "text/plain": [
              "<AxesSubplot:xlabel='Name'>"
            ]
          },
          "metadata": {},
          "execution_count": 75
        },
        {
          "output_type": "display_data",
          "data": {
            "text/plain": [
              "<Figure size 576x360 with 1 Axes>"
            ],
            "image/png": "[encoded data removed]"
          },
          "metadata": {
            "needs_background": "light"
          }
        }
      ]
    },
    {
      "cell_type": "markdown",
      "source": [
        "With the data normalized, it's easier to see an apparent relationship between grade and study time. It's not an exact match, but it definitely seems like students with higher grades tend to have studied more.\n",
        "\n",
        "So there seems to be a correlation between study time and grade. In fact, there's a statistical correlation measurement we can use to quantify the relationship between these columns."
      ],
      "metadata": {
        "id": "_kOJAKeZpuJB"
      }
    },
    {
      "cell_type": "code",
      "source": [
        "df_normalized.Grade.corr(df_normalized.StudyHours)"
      ],
      "metadata": {
        "colab": {
          "base_uri": "https://localhost:8080/"
        },
        "id": "wBHQamA8p57l",
        "outputId": "57c8817b-7c50-43d5-b5c3-a64e1ff566ca"
      },
      "execution_count": null,
      "outputs": [
        {
          "output_type": "execute_result",
          "data": {
            "text/plain": [
              "0.9117666413789677"
            ]
          },
          "metadata": {},
          "execution_count": 76
        }
      ]
    },
    {
      "cell_type": "markdown",
      "source": [
        "The correlation statistic is a value between -1 and 1 that indicates the strength of a relationship. Values above 0 indicate a *positive* correlation (high values of one variable tend to coincide with high values of the other), while values below 0 indicate a *negative* correlation (high values of one variable tend to coincide with low values of the other). In this case, the correlation value is close to 1, showing a strongly positive correlation between study time and grade.\n",
        "\n",
        "> **Note**: Data scientists often quote the maxim \"*correlation* is not *causation*\". In other words, as tempting as it might be, you shouldn't interpret the statistical correlation as explaining *why* one of the values is high. In the case of the student data, the statistics demonstrate that students with high grades tend to also have high amounts of study time, but this is not the same as proving that they achieved high grades *because* they studied a lot. The statistic could equally be used as evidence to support the nonsensical conclusion that the students studied a lot *because* their grades were going to be high.\n",
        "\n",
        "Another way to visualize the apparent correlation between two numeric columns is to use a *scatter* plot."
      ],
      "metadata": {
        "id": "tPNvnAghqCkL"
      }
    },
    {
      "cell_type": "code",
      "source": [
        "# Create a scatter plot\n",
        "df_sample.plot.scatter(title='Study Time vs Grade', x='StudyHours', y='Grade')"
      ],
      "metadata": {
        "colab": {
          "base_uri": "https://localhost:8080/",
          "height": 312
        },
        "id": "c0YaoysDqmEM",
        "outputId": "b6ef3e57-a17c-4e56-8c69-30415f83801d"
      },
      "execution_count": null,
      "outputs": [
        {
          "output_type": "execute_result",
          "data": {
            "text/plain": [
              "<AxesSubplot:title={'center':'Study Time vs Grade'}, xlabel='StudyHours', ylabel='Grade'>"
            ]
          },
          "metadata": {},
          "execution_count": 77
        },
        {
          "output_type": "display_data",
          "data": {
            "text/plain": [
              "<Figure size 432x288 with 1 Axes>"
            ],
            "image/png": "[encoded data removed]"
          },
          "metadata": {
            "needs_background": "light"
          }
        }
      ]
    },
    {
      "cell_type": "markdown",
      "source": [
        "Again, it looks like there's a discernible pattern in which the students who studied the most hours are also the students who got the highest grades.\n",
        "\n",
        "We can see this more clearly by adding a *regression* line (or a *line of best fit*) to the plot that shows the general trend in the data. To do this, we'll use a statistical technique called **least squares regression**.\n",
        "\n",
        "Remember when you were learning how to solve linear equations in school, and recall that the *slope-intercept* form of a linear equation looks like this: \n",
        "\n",
        "$ y = mx + b $\n",
        "\n",
        "In this equation, *y* and *x* are the coordinate variables, *m* is the slope of the line, and *b* is the y-intercept (where the line goes through the Y-axis).\n",
        "\n",
        "In the case of our scatter plot for our student data, we already have our values for *x* (*StudyHours*) and *y* (*Grade*), so we just need to calculate the intercept and slope of the straight line that lies closest to those points. Then we can form a linear equation that calculates a new *y* value on that line for each of our *x* (*StudyHours*) values. To avoid confusion, we'll call this new *y* value *f(x)* (because it's the output from a linear equation ***f***unction based on *x*). The difference between the original *y* (*Grade*) value and the *f(x)* value is the *error* between our regression line and the actual *Grade* achieved by the student. Our goal is to calculate the slope and intercept for a line with the lowest overall error.\n",
        "\n",
        "Specifically, we define the overall error by taking the error for each point, squaring it, and adding all the squared errors together. The line of best fit is the line that gives us the lowest value for the sum of the squared errors&#8212;hence the name *least squares regression*.\n",
        "\n",
        "Fortunately, you don't need to code the regression calculation yourself. The **SciPy** package includes a **stats** class that provides a **linregress** method to do the hard work for you. This returns (among other things) the coefficients you need for the slope equation: slope (*m*) and intercept (*b*) based on a given pair of variable samples you want to compare."
      ],
      "metadata": {
        "id": "QoXyP-Uwqxzs"
      }
    },
    {
      "cell_type": "code",
      "source": [
        "from scipy import stats\n",
        "\n",
        "#\n",
        "df_regression = df_sample[['Grade', 'StudyHours']].copy()\n",
        "\n",
        "# Get the regression slope and intercept\n",
        "m, b, r, p, se = stats.linregress(df_regression['StudyHours'], df_regression['Grade'])\n",
        "print('slope: {:.4f}\\ny-intercept: {:.4f}'.format(m,b))\n",
        "print('so...\\n f(x) = {:.4f}x + {:.4f}'.format(m,b))\n",
        "\n",
        "# Use the function (mx + b) to calculate f(x) for each x (StudyHours) value\n",
        "df_regression['fx'] = (m * df_regression['StudyHours']) + b\n",
        "\n",
        "# Calculate the error between f(x) and the actual y (Grade) value\n",
        "df_regression['error'] = df_regression['fx'] - df_regression['Grade']\n",
        "\n",
        "# Create a scatter plot of Grade vs StudyHours\n",
        "df_regression.plot.scatter(x='StudyHours', y='Grade')\n",
        "\n",
        "# Plot the regression line\n",
        "plt.plot(df_regression['StudyHours'],df_regression['fx'], color='cyan')\n",
        "\n",
        "# Display the plot\n",
        "plt.show()"
      ],
      "metadata": {
        "colab": {
          "base_uri": "https://localhost:8080/",
          "height": 350
        },
        "id": "Tk2cehIXrz_v",
        "outputId": "74852c9a-475c-4d44-fe3e-99b618efa875"
      },
      "execution_count": null,
      "outputs": [
        {
          "output_type": "stream",
          "name": "stdout",
          "text": [
            "slope: 6.3134\n",
            "y-intercept: -17.9164\n",
            "so...\n",
            " f(x) = 6.3134x + -17.9164\n"
          ]
        },
        {
          "output_type": "display_data",
          "data": {
            "text/plain": [
              "<Figure size 432x288 with 1 Axes>"
            ],
            "image/png": "[encoded data removed]"
          },
          "metadata": {
            "needs_background": "light"
          }
        }
      ]
    },
    {
      "cell_type": "markdown",
      "source": [
        "Note that this time, the code plotted two distinct things&#8212;the scatter plot of the sample study hours and grades is plotted as before, and then a line of best fit based on the least squares regression coefficients is plotted.\n",
        "\n",
        "The slope and intercept coefficients calculated for the regression line are shown above the plot.\n",
        "\n",
        "The line is based on the ***f*(x)** values calculated for each **StudyHours** value. Run the following cell to see a table that includes the following values:\n",
        "\n",
        "- The **StudyHours** for each student.\n",
        "- The **Grade** achieved by each student.\n",
        "- The ***f(x)*** value calculated using the regression line coefficients.\n",
        "- The *error* between the calculated ***f(x)*** value and the actual **Grade** value.\n",
        "\n",
        "Some of the errors, particularly at the extreme ends, and quite large (up to over 17.5 grade points). But, in general, the line is pretty close to the actual grades."
      ],
      "metadata": {
        "id": "6MYLvCSNsYcH"
      }
    },
    {
      "cell_type": "code",
      "source": [
        "# Show the original x,y values, the f(x) value, and the error\n",
        "df_regression[['StudyHours', 'Grade', 'fx', 'error']]"
      ],
      "metadata": {
        "colab": {
          "base_uri": "https://localhost:8080/",
          "height": 708
        },
        "id": "RoXZbH3qs5y_",
        "outputId": "fc386696-fe34-4f91-e913-b59ec6757daf"
      },
      "execution_count": null,
      "outputs": [
        {
          "output_type": "execute_result",
          "data": {
            "text/plain": [
              "    StudyHours  Grade         fx      error\n",
              "0        10.00   50.0  45.217846  -4.782154\n",
              "1        11.50   50.0  54.687985   4.687985\n",
              "2         9.00   47.0  38.904421  -8.095579\n",
              "3        16.00   97.0  83.098400 -13.901600\n",
              "4         9.25   49.0  40.482777  -8.517223\n",
              "6        11.50   53.0  54.687985   1.687985\n",
              "7         9.00   42.0  38.904421  -3.095579\n",
              "8         8.50   26.0  35.747708   9.747708\n",
              "9        14.50   74.0  73.628262  -0.371738\n",
              "10       15.50   82.0  79.941687  -2.058313\n",
              "11       13.75   62.0  68.893193   6.893193\n",
              "12        9.00   37.0  38.904421   1.904421\n",
              "13        8.00   15.0  32.590995  17.590995\n",
              "14       15.50   70.0  79.941687   9.941687\n",
              "15        8.00   27.0  32.590995   5.590995\n",
              "16        9.00   36.0  38.904421   2.904421\n",
              "17        6.00   35.0  19.964144 -15.035856\n",
              "18       10.00   48.0  45.217846  -2.782154\n",
              "19       12.00   52.0  57.844698   5.844698\n",
              "20       12.50   63.0  61.001410  -1.998590\n",
              "21       12.00   64.0  57.844698  -6.155302"
            ],
            "text/html": [
              "\n",
              "  <div id=\"df-e87f6cd0-cff8-47d7-a683-84fad6afe36e\">\n",
              "    <div class=\"colab-df-container\">\n",
              "      <div>\n",
              "<style scoped>\n",
              "    .dataframe tbody tr th:only-of-type {\n",
              "        vertical-align: middle;\n",
              "    }\n",
              "\n",
              "    .dataframe tbody tr th {\n",
              "        vertical-align: top;\n",
              "    }\n",
              "\n",
              "    .dataframe thead th {\n",
              "        text-align: right;\n",
              "    }\n",
              "</style>\n",
              "<table border=\"1\" class=\"dataframe\">\n",
              "  <thead>\n",
              "    <tr style=\"text-align: right;\">\n",
              "      <th></th>\n",
              "      <th>StudyHours</th>\n",
              "      <th>Grade</th>\n",
              "      <th>fx</th>\n",
              "      <th>error</th>\n",
              "    </tr>\n",
              "  </thead>\n",
              "  <tbody>\n",
              "    <tr>\n",
              "      <th>0</th>\n",
              "      <td>10.00</td>\n",
              "      <td>50.0</td>\n",
              "      <td>45.217846</td>\n",
              "      <td>-4.782154</td>\n",
              "    </tr>\n",
              "    <tr>\n",
              "      <th>1</th>\n",
              "      <td>11.50</td>\n",
              "      <td>50.0</td>\n",
              "      <td>54.687985</td>\n",
              "      <td>4.687985</td>\n",
              "    </tr>\n",
              "    <tr>\n",
              "      <th>2</th>\n",
              "      <td>9.00</td>\n",
              "      <td>47.0</td>\n",
              "      <td>38.904421</td>\n",
              "      <td>-8.095579</td>\n",
              "    </tr>\n",
              "    <tr>\n",
              "      <th>3</th>\n",
              "      <td>16.00</td>\n",
              "      <td>97.0</td>\n",
              "      <td>83.098400</td>\n",
              "      <td>-13.901600</td>\n",
              "    </tr>\n",
              "    <tr>\n",
              "      <th>4</th>\n",
              "      <td>9.25</td>\n",
              "      <td>49.0</td>\n",
              "      <td>40.482777</td>\n",
              "      <td>-8.517223</td>\n",
              "    </tr>\n",
              "    <tr>\n",
              "      <th>6</th>\n",
              "      <td>11.50</td>\n",
              "      <td>53.0</td>\n",
              "      <td>54.687985</td>\n",
              "      <td>1.687985</td>\n",
              "    </tr>\n",
              "    <tr>\n",
              "      <th>7</th>\n",
              "      <td>9.00</td>\n",
              "      <td>42.0</td>\n",
              "      <td>38.904421</td>\n",
              "      <td>-3.095579</td>\n",
              "    </tr>\n",
              "    <tr>\n",
              "      <th>8</th>\n",
              "      <td>8.50</td>\n",
              "      <td>26.0</td>\n",
              "      <td>35.747708</td>\n",
              "      <td>9.747708</td>\n",
              "    </tr>\n",
              "    <tr>\n",
              "      <th>9</th>\n",
              "      <td>14.50</td>\n",
              "      <td>74.0</td>\n",
              "      <td>73.628262</td>\n",
              "      <td>-0.371738</td>\n",
              "    </tr>\n",
              "    <tr>\n",
              "      <th>10</th>\n",
              "      <td>15.50</td>\n",
              "      <td>82.0</td>\n",
              "      <td>79.941687</td>\n",
              "      <td>-2.058313</td>\n",
              "    </tr>\n",
              "    <tr>\n",
              "      <th>11</th>\n",
              "      <td>13.75</td>\n",
              "      <td>62.0</td>\n",
              "      <td>68.893193</td>\n",
              "      <td>6.893193</td>\n",
              "    </tr>\n",
              "    <tr>\n",
              "      <th>12</th>\n",
              "      <td>9.00</td>\n",
              "      <td>37.0</td>\n",
              "      <td>38.904421</td>\n",
              "      <td>1.904421</td>\n",
              "    </tr>\n",
              "    <tr>\n",
              "      <th>13</th>\n",
              "      <td>8.00</td>\n",
              "      <td>15.0</td>\n",
              "      <td>32.590995</td>\n",
              "      <td>17.590995</td>\n",
              "    </tr>\n",
              "    <tr>\n",
              "      <th>14</th>\n",
              "      <td>15.50</td>\n",
              "      <td>70.0</td>\n",
              "      <td>79.941687</td>\n",
              "      <td>9.941687</td>\n",
              "    </tr>\n",
              "    <tr>\n",
              "      <th>15</th>\n",
              "      <td>8.00</td>\n",
              "      <td>27.0</td>\n",
              "      <td>32.590995</td>\n",
              "      <td>5.590995</td>\n",
              "    </tr>\n",
              "    <tr>\n",
              "      <th>16</th>\n",
              "      <td>9.00</td>\n",
              "      <td>36.0</td>\n",
              "      <td>38.904421</td>\n",
              "      <td>2.904421</td>\n",
              "    </tr>\n",
              "    <tr>\n",
              "      <th>17</th>\n",
              "      <td>6.00</td>\n",
              "      <td>35.0</td>\n",
              "      <td>19.964144</td>\n",
              "      <td>-15.035856</td>\n",
              "    </tr>\n",
              "    <tr>\n",
              "      <th>18</th>\n",
              "      <td>10.00</td>\n",
              "      <td>48.0</td>\n",
              "      <td>45.217846</td>\n",
              "      <td>-2.782154</td>\n",
              "    </tr>\n",
              "    <tr>\n",
              "      <th>19</th>\n",
              "      <td>12.00</td>\n",
              "      <td>52.0</td>\n",
              "      <td>57.844698</td>\n",
              "      <td>5.844698</td>\n",
              "    </tr>\n",
              "    <tr>\n",
              "      <th>20</th>\n",
              "      <td>12.50</td>\n",
              "      <td>63.0</td>\n",
              "      <td>61.001410</td>\n",
              "      <td>-1.998590</td>\n",
              "    </tr>\n",
              "    <tr>\n",
              "      <th>21</th>\n",
              "      <td>12.00</td>\n",
              "      <td>64.0</td>\n",
              "      <td>57.844698</td>\n",
              "      <td>-6.155302</td>\n",
              "    </tr>\n",
              "  </tbody>\n",
              "</table>\n",
              "</div>\n",
              "      <button class=\"colab-df-convert\" onclick=\"convertToInteractive('df-e87f6cd0-cff8-47d7-a683-84fad6afe36e')\"\n",
              "              title=\"Convert this dataframe to an interactive table.\"\n",
              "              style=\"display:none;\">\n",
              "        \n",
              "  <svg xmlns=\"http://www.w3.org/2000/svg\" height=\"24px\"viewBox=\"0 0 24 24\"\n",
              "       width=\"24px\">\n",
              "    <path d=\"M0 0h24v24H0V0z\" fill=\"none\"/>\n",
              "    <path d=\"M18.56 5.44l.94 2.06.94-2.06 2.06-.94-2.06-.94-.94-2.06-.94 2.06-2.06.94zm-11 1L8.5 8.5l.94-2.06 2.06-.94-2.06-.94L8.5 2.5l-.94 2.06-2.06.94zm10 10l.94 2.06.94-2.06 2.06-.94-2.06-.94-.94-2.06-.94 2.06-2.06.94z\"/><path d=\"M17.41 7.96l-1.37-1.37c-.4-.4-.92-.59-1.43-.59-.52 0-1.04.2-1.43.59L10.3 9.45l-7.72 7.72c-.78.78-.78 2.05 0 2.83L4 21.41c.39.39.9.59 1.41.59.51 0 1.02-.2 1.41-.59l7.78-7.78 2.81-2.81c.8-.78.8-2.07 0-2.86zM5.41 20L4 18.59l7.72-7.72 1.47 1.35L5.41 20z\"/>\n",
              "  </svg>\n",
              "      </button>\n",
              "      \n",
              "  <style>\n",
              "    .colab-df-container {\n",
              "      display:flex;\n",
              "      flex-wrap:wrap;\n",
              "      gap: 12px;\n",
              "    }\n",
              "\n",
              "    .colab-df-convert {\n",
              "      background-color: #E8F0FE;\n",
              "      border: none;\n",
              "      border-radius: 50%;\n",
              "      cursor: pointer;\n",
              "      display: none;\n",
              "      fill: #1967D2;\n",
              "      height: 32px;\n",
              "      padding: 0 0 0 0;\n",
              "      width: 32px;\n",
              "    }\n",
              "\n",
              "    .colab-df-convert:hover {\n",
              "      background-color: #E2EBFA;\n",
              "      box-shadow: 0px 1px 2px rgba(60, 64, 67, 0.3), 0px 1px 3px 1px rgba(60, 64, 67, 0.15);\n",
              "      fill: #174EA6;\n",
              "    }\n",
              "\n",
              "    [theme=dark] .colab-df-convert {\n",
              "      background-color: #3B4455;\n",
              "      fill: #D2E3FC;\n",
              "    }\n",
              "\n",
              "    [theme=dark] .colab-df-convert:hover {\n",
              "      background-color: #434B5C;\n",
              "      box-shadow: 0px 1px 3px 1px rgba(0, 0, 0, 0.15);\n",
              "      filter: drop-shadow(0px 1px 2px rgba(0, 0, 0, 0.3));\n",
              "      fill: #FFFFFF;\n",
              "    }\n",
              "  </style>\n",
              "\n",
              "      <script>\n",
              "        const buttonEl =\n",
              "          document.querySelector('#df-e87f6cd0-cff8-47d7-a683-84fad6afe36e button.colab-df-convert');\n",
              "        buttonEl.style.display =\n",
              "          google.colab.kernel.accessAllowed ? 'block' : 'none';\n",
              "\n",
              "        async function convertToInteractive(key) {\n",
              "          const element = document.querySelector('#df-e87f6cd0-cff8-47d7-a683-84fad6afe36e');\n",
              "          const dataTable =\n",
              "            await google.colab.kernel.invokeFunction('convertToInteractive',\n",
              "                                                     [key], {});\n",
              "          if (!dataTable) return;\n",
              "\n",
              "          const docLinkHtml = 'Like what you see? Visit the ' +\n",
              "            '<a target=\"_blank\" href=https://colab.research.google.com/notebooks/data_table.ipynb>data table notebook</a>'\n",
              "            + ' to learn more about interactive tables.';\n",
              "          element.innerHTML = '';\n",
              "          dataTable['output_type'] = 'display_data';\n",
              "          await google.colab.output.renderOutput(dataTable, element);\n",
              "          const docLink = document.createElement('div');\n",
              "          docLink.innerHTML = docLinkHtml;\n",
              "          element.appendChild(docLink);\n",
              "        }\n",
              "      </script>\n",
              "    </div>\n",
              "  </div>\n",
              "  "
            ]
          },
          "metadata": {},
          "execution_count": 79
        }
      ]
    },
    {
      "cell_type": "markdown",
      "source": [
        "#### Using the regression coefficients for prediction\n",
        "\n",
        "Now that you have the regression coefficients for the study time and grade relationship, you can use them in a function to estimate the expected grade for a given amount of study."
      ],
      "metadata": {
        "id": "1fGM159itCEX"
      }
    },
    {
      "cell_type": "code",
      "source": [
        "# Define a function based on our regression coefficients\n",
        "def f(x):\n",
        "    m = 6.3134\n",
        "    b = -17.9164\n",
        "    return m*x + b\n",
        "\n",
        "study_time = 14\n",
        "\n",
        "# Get f(x) for study time\n",
        "prediction = f(study_time)\n",
        "\n",
        "# Grade can't be less than 0 or more than 100\n",
        "expected_grade = max(0,min(100,prediction))\n",
        "\n",
        "#Print the estimated grade\n",
        "print ('Studying for {} hours per week may result in a grade of {:.0f}'.format(study_time, expected_grade))"
      ],
      "metadata": {
        "colab": {
          "base_uri": "https://localhost:8080/"
        },
        "id": "L_mqHXNOtKwg",
        "outputId": "8e0391dd-6126-4102-e4fa-6c9a1b034dbc"
      },
      "execution_count": null,
      "outputs": [
        {
          "output_type": "stream",
          "name": "stdout",
          "text": [
            "Studying for 14 hours per week may result in a grade of 70\n"
          ]
        }
      ]
    },
    {
      "cell_type": "markdown",
      "source": [
        "So by applying statistics to sample data, you've determined a relationship between study time and grade and encapsulated that relationship in a general function that can be used to predict a grade for a given amount of study time.\n",
        "\n",
        "This technique is in fact the basic premise of machine learning. You can take a set of sample data that includes one or more features (in this case, the number of hours studied) and a known label value (in this case, the grade achieved) and use the sample data to derive a function that calculates predicted label values for any given set of features."
      ],
      "metadata": {
        "id": "-9cnX5bYtmp3"
      }
    },
    {
      "cell_type": "markdown",
      "source": [
        "## Introducción al aprendizaje automático"
      ],
      "metadata": {
        "id": "t_qgtl180GGz"
      }
    },
    {
      "cell_type": "markdown",
      "source": [
        "## Ejercicio: Creación de un modelo de aprendizaje automático"
      ],
      "metadata": {
        "id": "xwvJCTvN7Lr-"
      }
    },
    {
      "cell_type": "markdown",
      "source": [
        "**Preparing data**\n",
        "\n",
        "The first thing we do with a model is load data. We'll cover this in more detail in a later exercise. For now, we'll just write our data directly in our code. Review and run the following code to get started:"
      ],
      "metadata": {
        "id": "vuXLSwXD7R8I"
      }
    },
    {
      "cell_type": "code",
      "source": [
        "import pandas\n",
        "!wget https://raw.githubusercontent.com/MicrosoftDocs/mslearn-introduction-to-machine-learning/main/graphing.py\n",
        "!wget https://raw.githubusercontent.com/MicrosoftDocs/mslearn-introduction-to-machine-learning/main/Data/doggy-boot-harness.csv\n",
        "!pip install statsmodels\n",
        "\n",
        "\n",
        "# Make a dictionary of data for boot sizes\n",
        "# and harness size in cm\n",
        "data = {\n",
        "    'boot_size' : [ 39, 38, 37, 39, 38, 35, 37, 36, 35, 40, \n",
        "                    40, 36, 38, 39, 42, 42, 36, 36, 35, 41, \n",
        "                    42, 38, 37, 35, 40, 36, 35, 39, 41, 37, \n",
        "                    35, 41, 39, 41, 42, 42, 36, 37, 37, 39,\n",
        "                    42, 35, 36, 41, 41, 41, 39, 39, 35, 39\n",
        " ],\n",
        "    'harness_size': [ 58, 58, 52, 58, 57, 52, 55, 53, 49, 54,\n",
        "                59, 56, 53, 58, 57, 58, 56, 51, 50, 59,\n",
        "                59, 59, 55, 50, 55, 52, 53, 54, 61, 56,\n",
        "                55, 60, 57, 56, 61, 58, 53, 57, 57, 55,\n",
        "                60, 51, 52, 56, 55, 57, 58, 57, 51, 59\n",
        "                ]\n",
        "}\n",
        "\n",
        "# Convert it into a table using pandas\n",
        "dataset = pandas.DataFrame(data)\n",
        "\n",
        "# Print the data\n",
        "# In normal python we would write\n",
        "# print(dataset)\n",
        "# but in Jupyter notebooks, if we simple write the name\n",
        "# of the variable and it is printed nicely \n",
        "dataset"
      ],
      "metadata": {
        "colab": {
          "base_uri": "https://localhost:8080/",
          "height": 1000
        },
        "id": "HY_aJi9_7egq",
        "outputId": "c480c74d-0360-4776-c24b-9c90788203fc"
      },
      "execution_count": null,
      "outputs": [
        {
          "output_type": "stream",
          "name": "stdout",
          "text": [
            "--2023-03-09 19:52:31--  https://raw.githubusercontent.com/MicrosoftDocs/mslearn-introduction-to-machine-learning/main/graphing.py\n",
            "Resolving raw.githubusercontent.com (raw.githubusercontent.com)... 185.199.110.133, 185.199.111.133, 185.199.109.133, ...\n",
            "Connecting to raw.githubusercontent.com (raw.githubusercontent.com)|185.199.110.133|:443... connected.\n",
            "HTTP request sent, awaiting response... 200 OK\n",
            "Length: 21511 (21K) [text/plain]\n",
            "Saving to: ‘graphing.py’\n",
            "\n",
            "\rgraphing.py           0%[                    ]       0  --.-KB/s               \rgraphing.py         100%[===================>]  21.01K  --.-KB/s    in 0s      \n",
            "\n",
            "2023-03-09 19:52:31 (88.5 MB/s) - ‘graphing.py’ saved [21511/21511]\n",
            "\n",
            "--2023-03-09 19:52:32--  https://raw.githubusercontent.com/MicrosoftDocs/mslearn-introduction-to-machine-learning/main/Data/doggy-boot-harness.csv\n",
            "Resolving raw.githubusercontent.com (raw.githubusercontent.com)... 185.199.108.133, 185.199.109.133, 185.199.110.133, ...\n",
            "Connecting to raw.githubusercontent.com (raw.githubusercontent.com)|185.199.108.133|:443... connected.\n",
            "HTTP request sent, awaiting response... 200 OK\n",
            "Length: 838 [text/plain]\n",
            "Saving to: ‘doggy-boot-harness.csv’\n",
            "\n",
            "doggy-boot-harness. 100%[===================>]     838  --.-KB/s    in 0s      \n",
            "\n",
            "2023-03-09 19:52:32 (50.4 MB/s) - ‘doggy-boot-harness.csv’ saved [838/838]\n",
            "\n",
            "Looking in indexes: https://pypi.org/simple, https://us-python.pkg.dev/colab-wheels/public/simple/\n",
            "Requirement already satisfied: statsmodels in /usr/local/lib/python3.9/dist-packages (0.13.5)\n",
            "Requirement already satisfied: numpy>=1.17 in /usr/local/lib/python3.9/dist-packages (from statsmodels) (1.22.4)\n",
            "Requirement already satisfied: pandas>=0.25 in /usr/local/lib/python3.9/dist-packages (from statsmodels) (1.3.5)\n",
            "Requirement already satisfied: scipy>=1.3 in /usr/local/lib/python3.9/dist-packages (from statsmodels) (1.10.1)\n",
            "Requirement already satisfied: packaging>=21.3 in /usr/local/lib/python3.9/dist-packages (from statsmodels) (23.0)\n",
            "Requirement already satisfied: patsy>=0.5.2 in /usr/local/lib/python3.9/dist-packages (from statsmodels) (0.5.3)\n",
            "Requirement already satisfied: pytz>=2017.3 in /usr/local/lib/python3.9/dist-packages (from pandas>=0.25->statsmodels) (2022.7.1)\n",
            "Requirement already satisfied: python-dateutil>=2.7.3 in /usr/local/lib/python3.9/dist-packages (from pandas>=0.25->statsmodels) (2.8.2)\n",
            "Requirement already satisfied: six in /usr/local/lib/python3.9/dist-packages (from patsy>=0.5.2->statsmodels) (1.15.0)\n"
          ]
        },
        {
          "output_type": "execute_result",
          "data": {
            "text/plain": [
              "    boot_size  harness_size\n",
              "0          39            58\n",
              "1          38            58\n",
              "2          37            52\n",
              "3          39            58\n",
              "4          38            57\n",
              "5          35            52\n",
              "6          37            55\n",
              "7          36            53\n",
              "8          35            49\n",
              "9          40            54\n",
              "10         40            59\n",
              "11         36            56\n",
              "12         38            53\n",
              "13         39            58\n",
              "14         42            57\n",
              "15         42            58\n",
              "16         36            56\n",
              "17         36            51\n",
              "18         35            50\n",
              "19         41            59\n",
              "20         42            59\n",
              "21         38            59\n",
              "22         37            55\n",
              "23         35            50\n",
              "24         40            55\n",
              "25         36            52\n",
              "26         35            53\n",
              "27         39            54\n",
              "28         41            61\n",
              "29         37            56\n",
              "30         35            55\n",
              "31         41            60\n",
              "32         39            57\n",
              "33         41            56\n",
              "34         42            61\n",
              "35         42            58\n",
              "36         36            53\n",
              "37         37            57\n",
              "38         37            57\n",
              "39         39            55\n",
              "40         42            60\n",
              "41         35            51\n",
              "42         36            52\n",
              "43         41            56\n",
              "44         41            55\n",
              "45         41            57\n",
              "46         39            58\n",
              "47         39            57\n",
              "48         35            51\n",
              "49         39            59"
            ],
            "text/html": [
              "\n",
              "  <div id=\"df-04f92874-3c90-4863-bb14-eab550ead8ee\">\n",
              "    <div class=\"colab-df-container\">\n",
              "      <div>\n",
              "<style scoped>\n",
              "    .dataframe tbody tr th:only-of-type {\n",
              "        vertical-align: middle;\n",
              "    }\n",
              "\n",
              "    .dataframe tbody tr th {\n",
              "        vertical-align: top;\n",
              "    }\n",
              "\n",
              "    .dataframe thead th {\n",
              "        text-align: right;\n",
              "    }\n",
              "</style>\n",
              "<table border=\"1\" class=\"dataframe\">\n",
              "  <thead>\n",
              "    <tr style=\"text-align: right;\">\n",
              "      <th></th>\n",
              "      <th>boot_size</th>\n",
              "      <th>harness_size</th>\n",
              "    </tr>\n",
              "  </thead>\n",
              "  <tbody>\n",
              "    <tr>\n",
              "      <th>0</th>\n",
              "      <td>39</td>\n",
              "      <td>58</td>\n",
              "    </tr>\n",
              "    <tr>\n",
              "      <th>1</th>\n",
              "      <td>38</td>\n",
              "      <td>58</td>\n",
              "    </tr>\n",
              "    <tr>\n",
              "      <th>2</th>\n",
              "      <td>37</td>\n",
              "      <td>52</td>\n",
              "    </tr>\n",
              "    <tr>\n",
              "      <th>3</th>\n",
              "      <td>39</td>\n",
              "      <td>58</td>\n",
              "    </tr>\n",
              "    <tr>\n",
              "      <th>4</th>\n",
              "      <td>38</td>\n",
              "      <td>57</td>\n",
              "    </tr>\n",
              "    <tr>\n",
              "      <th>5</th>\n",
              "      <td>35</td>\n",
              "      <td>52</td>\n",
              "    </tr>\n",
              "    <tr>\n",
              "      <th>6</th>\n",
              "      <td>37</td>\n",
              "      <td>55</td>\n",
              "    </tr>\n",
              "    <tr>\n",
              "      <th>7</th>\n",
              "      <td>36</td>\n",
              "      <td>53</td>\n",
              "    </tr>\n",
              "    <tr>\n",
              "      <th>8</th>\n",
              "      <td>35</td>\n",
              "      <td>49</td>\n",
              "    </tr>\n",
              "    <tr>\n",
              "      <th>9</th>\n",
              "      <td>40</td>\n",
              "      <td>54</td>\n",
              "    </tr>\n",
              "    <tr>\n",
              "      <th>10</th>\n",
              "      <td>40</td>\n",
              "      <td>59</td>\n",
              "    </tr>\n",
              "    <tr>\n",
              "      <th>11</th>\n",
              "      <td>36</td>\n",
              "      <td>56</td>\n",
              "    </tr>\n",
              "    <tr>\n",
              "      <th>12</th>\n",
              "      <td>38</td>\n",
              "      <td>53</td>\n",
              "    </tr>\n",
              "    <tr>\n",
              "      <th>13</th>\n",
              "      <td>39</td>\n",
              "      <td>58</td>\n",
              "    </tr>\n",
              "    <tr>\n",
              "      <th>14</th>\n",
              "      <td>42</td>\n",
              "      <td>57</td>\n",
              "    </tr>\n",
              "    <tr>\n",
              "      <th>15</th>\n",
              "      <td>42</td>\n",
              "      <td>58</td>\n",
              "    </tr>\n",
              "    <tr>\n",
              "      <th>16</th>\n",
              "      <td>36</td>\n",
              "      <td>56</td>\n",
              "    </tr>\n",
              "    <tr>\n",
              "      <th>17</th>\n",
              "      <td>36</td>\n",
              "      <td>51</td>\n",
              "    </tr>\n",
              "    <tr>\n",
              "      <th>18</th>\n",
              "      <td>35</td>\n",
              "      <td>50</td>\n",
              "    </tr>\n",
              "    <tr>\n",
              "      <th>19</th>\n",
              "      <td>41</td>\n",
              "      <td>59</td>\n",
              "    </tr>\n",
              "    <tr>\n",
              "      <th>20</th>\n",
              "      <td>42</td>\n",
              "      <td>59</td>\n",
              "    </tr>\n",
              "    <tr>\n",
              "      <th>21</th>\n",
              "      <td>38</td>\n",
              "      <td>59</td>\n",
              "    </tr>\n",
              "    <tr>\n",
              "      <th>22</th>\n",
              "      <td>37</td>\n",
              "      <td>55</td>\n",
              "    </tr>\n",
              "    <tr>\n",
              "      <th>23</th>\n",
              "      <td>35</td>\n",
              "      <td>50</td>\n",
              "    </tr>\n",
              "    <tr>\n",
              "      <th>24</th>\n",
              "      <td>40</td>\n",
              "      <td>55</td>\n",
              "    </tr>\n",
              "    <tr>\n",
              "      <th>25</th>\n",
              "      <td>36</td>\n",
              "      <td>52</td>\n",
              "    </tr>\n",
              "    <tr>\n",
              "      <th>26</th>\n",
              "      <td>35</td>\n",
              "      <td>53</td>\n",
              "    </tr>\n",
              "    <tr>\n",
              "      <th>27</th>\n",
              "      <td>39</td>\n",
              "      <td>54</td>\n",
              "    </tr>\n",
              "    <tr>\n",
              "      <th>28</th>\n",
              "      <td>41</td>\n",
              "      <td>61</td>\n",
              "    </tr>\n",
              "    <tr>\n",
              "      <th>29</th>\n",
              "      <td>37</td>\n",
              "      <td>56</td>\n",
              "    </tr>\n",
              "    <tr>\n",
              "      <th>30</th>\n",
              "      <td>35</td>\n",
              "      <td>55</td>\n",
              "    </tr>\n",
              "    <tr>\n",
              "      <th>31</th>\n",
              "      <td>41</td>\n",
              "      <td>60</td>\n",
              "    </tr>\n",
              "    <tr>\n",
              "      <th>32</th>\n",
              "      <td>39</td>\n",
              "      <td>57</td>\n",
              "    </tr>\n",
              "    <tr>\n",
              "      <th>33</th>\n",
              "      <td>41</td>\n",
              "      <td>56</td>\n",
              "    </tr>\n",
              "    <tr>\n",
              "      <th>34</th>\n",
              "      <td>42</td>\n",
              "      <td>61</td>\n",
              "    </tr>\n",
              "    <tr>\n",
              "      <th>35</th>\n",
              "      <td>42</td>\n",
              "      <td>58</td>\n",
              "    </tr>\n",
              "    <tr>\n",
              "      <th>36</th>\n",
              "      <td>36</td>\n",
              "      <td>53</td>\n",
              "    </tr>\n",
              "    <tr>\n",
              "      <th>37</th>\n",
              "      <td>37</td>\n",
              "      <td>57</td>\n",
              "    </tr>\n",
              "    <tr>\n",
              "      <th>38</th>\n",
              "      <td>37</td>\n",
              "      <td>57</td>\n",
              "    </tr>\n",
              "    <tr>\n",
              "      <th>39</th>\n",
              "      <td>39</td>\n",
              "      <td>55</td>\n",
              "    </tr>\n",
              "    <tr>\n",
              "      <th>40</th>\n",
              "      <td>42</td>\n",
              "      <td>60</td>\n",
              "    </tr>\n",
              "    <tr>\n",
              "      <th>41</th>\n",
              "      <td>35</td>\n",
              "      <td>51</td>\n",
              "    </tr>\n",
              "    <tr>\n",
              "      <th>42</th>\n",
              "      <td>36</td>\n",
              "      <td>52</td>\n",
              "    </tr>\n",
              "    <tr>\n",
              "      <th>43</th>\n",
              "      <td>41</td>\n",
              "      <td>56</td>\n",
              "    </tr>\n",
              "    <tr>\n",
              "      <th>44</th>\n",
              "      <td>41</td>\n",
              "      <td>55</td>\n",
              "    </tr>\n",
              "    <tr>\n",
              "      <th>45</th>\n",
              "      <td>41</td>\n",
              "      <td>57</td>\n",
              "    </tr>\n",
              "    <tr>\n",
              "      <th>46</th>\n",
              "      <td>39</td>\n",
              "      <td>58</td>\n",
              "    </tr>\n",
              "    <tr>\n",
              "      <th>47</th>\n",
              "      <td>39</td>\n",
              "      <td>57</td>\n",
              "    </tr>\n",
              "    <tr>\n",
              "      <th>48</th>\n",
              "      <td>35</td>\n",
              "      <td>51</td>\n",
              "    </tr>\n",
              "    <tr>\n",
              "      <th>49</th>\n",
              "      <td>39</td>\n",
              "      <td>59</td>\n",
              "    </tr>\n",
              "  </tbody>\n",
              "</table>\n",
              "</div>\n",
              "      <button class=\"colab-df-convert\" onclick=\"convertToInteractive('df-04f92874-3c90-4863-bb14-eab550ead8ee')\"\n",
              "              title=\"Convert this dataframe to an interactive table.\"\n",
              "              style=\"display:none;\">\n",
              "        \n",
              "  <svg xmlns=\"http://www.w3.org/2000/svg\" height=\"24px\"viewBox=\"0 0 24 24\"\n",
              "       width=\"24px\">\n",
              "    <path d=\"M0 0h24v24H0V0z\" fill=\"none\"/>\n",
              "    <path d=\"M18.56 5.44l.94 2.06.94-2.06 2.06-.94-2.06-.94-.94-2.06-.94 2.06-2.06.94zm-11 1L8.5 8.5l.94-2.06 2.06-.94-2.06-.94L8.5 2.5l-.94 2.06-2.06.94zm10 10l.94 2.06.94-2.06 2.06-.94-2.06-.94-.94-2.06-.94 2.06-2.06.94z\"/><path d=\"M17.41 7.96l-1.37-1.37c-.4-.4-.92-.59-1.43-.59-.52 0-1.04.2-1.43.59L10.3 9.45l-7.72 7.72c-.78.78-.78 2.05 0 2.83L4 21.41c.39.39.9.59 1.41.59.51 0 1.02-.2 1.41-.59l7.78-7.78 2.81-2.81c.8-.78.8-2.07 0-2.86zM5.41 20L4 18.59l7.72-7.72 1.47 1.35L5.41 20z\"/>\n",
              "  </svg>\n",
              "      </button>\n",
              "      \n",
              "  <style>\n",
              "    .colab-df-container {\n",
              "      display:flex;\n",
              "      flex-wrap:wrap;\n",
              "      gap: 12px;\n",
              "    }\n",
              "\n",
              "    .colab-df-convert {\n",
              "      background-color: #E8F0FE;\n",
              "      border: none;\n",
              "      border-radius: 50%;\n",
              "      cursor: pointer;\n",
              "      display: none;\n",
              "      fill: #1967D2;\n",
              "      height: 32px;\n",
              "      padding: 0 0 0 0;\n",
              "      width: 32px;\n",
              "    }\n",
              "\n",
              "    .colab-df-convert:hover {\n",
              "      background-color: #E2EBFA;\n",
              "      box-shadow: 0px 1px 2px rgba(60, 64, 67, 0.3), 0px 1px 3px 1px rgba(60, 64, 67, 0.15);\n",
              "      fill: #174EA6;\n",
              "    }\n",
              "\n",
              "    [theme=dark] .colab-df-convert {\n",
              "      background-color: #3B4455;\n",
              "      fill: #D2E3FC;\n",
              "    }\n",
              "\n",
              "    [theme=dark] .colab-df-convert:hover {\n",
              "      background-color: #434B5C;\n",
              "      box-shadow: 0px 1px 3px 1px rgba(0, 0, 0, 0.15);\n",
              "      filter: drop-shadow(0px 1px 2px rgba(0, 0, 0, 0.3));\n",
              "      fill: #FFFFFF;\n",
              "    }\n",
              "  </style>\n",
              "\n",
              "      <script>\n",
              "        const buttonEl =\n",
              "          document.querySelector('#df-04f92874-3c90-4863-bb14-eab550ead8ee button.colab-df-convert');\n",
              "        buttonEl.style.display =\n",
              "          google.colab.kernel.accessAllowed ? 'block' : 'none';\n",
              "\n",
              "        async function convertToInteractive(key) {\n",
              "          const element = document.querySelector('#df-04f92874-3c90-4863-bb14-eab550ead8ee');\n",
              "          const dataTable =\n",
              "            await google.colab.kernel.invokeFunction('convertToInteractive',\n",
              "                                                     [key], {});\n",
              "          if (!dataTable) return;\n",
              "\n",
              "          const docLinkHtml = 'Like what you see? Visit the ' +\n",
              "            '<a target=\"_blank\" href=https://colab.research.google.com/notebooks/data_table.ipynb>data table notebook</a>'\n",
              "            + ' to learn more about interactive tables.';\n",
              "          element.innerHTML = '';\n",
              "          dataTable['output_type'] = 'display_data';\n",
              "          await google.colab.output.renderOutput(dataTable, element);\n",
              "          const docLink = document.createElement('div');\n",
              "          docLink.innerHTML = docLinkHtml;\n",
              "          element.appendChild(docLink);\n",
              "        }\n",
              "      </script>\n",
              "    </div>\n",
              "  </div>\n",
              "  "
            ]
          },
          "metadata": {},
          "execution_count": 81
        }
      ]
    },
    {
      "cell_type": "markdown",
      "source": [
        "As you can see, we have the sizes of boots and harnesses for 50 avalanche dogs.\n",
        "\n",
        "We want to use harness size to estimate boot size. This means harness_size is our input. We want a model that will process the input and make its own estimations of the boot size (output)."
      ],
      "metadata": {
        "id": "1vGP-z_s9IQ_"
      }
    },
    {
      "cell_type": "markdown",
      "source": [
        "**Select a model**\n",
        "\n",
        "The first thing we must do is select a model. We're just getting started, so we'll start with a very simple model called OLS. This is just a straight line (sometimes called a trendline-liena de tendencia).\n",
        "\n",
        "Let's use an existing library to create our model, but we won't train it yet."
      ],
      "metadata": {
        "id": "LvneBqPN9K2n"
      }
    },
    {
      "cell_type": "code",
      "source": [
        "# Load a library to do the hard work for us\n",
        "import statsmodels.formula.api as smf\n",
        "\n",
        "# First, we define our formula using a special syntax\n",
        "# This says that boot_size is explained by harness_size\n",
        "formula = \"boot_size ~ harness_size\"\n",
        "\n",
        "# Create the model, but don't train it yet\n",
        "model = smf.ols(formula = formula, data = dataset)\n",
        "\n",
        "# Note that we have created our model but it does not \n",
        "# have internal parameters set yet\n",
        "if not hasattr(model, 'params'):\n",
        "    print(\"Model selected but it does not have parameters set. We need to train it!\")"
      ],
      "metadata": {
        "colab": {
          "base_uri": "https://localhost:8080/"
        },
        "id": "p5dTCaOo-0Pu",
        "outputId": "9ca2b9cf-0d97-4ac0-a7dd-a390742a4da5"
      },
      "execution_count": null,
      "outputs": [
        {
          "output_type": "stream",
          "name": "stdout",
          "text": [
            "Model selected but it does not have parameters set. We need to train it!\n"
          ]
        }
      ]
    },
    {
      "cell_type": "markdown",
      "source": [
        "**Train our model**\n",
        "\n",
        "OLS models have two parameters (a slope and an offset), but these haven't been set in our model yet. We need to _train_ (_fit_) our model to find these values so that the model can reliably estimate dogs' boot size based on their harness size. \n",
        "\n",
        "The following code fits our model to data you've now seen:"
      ],
      "metadata": {
        "id": "mSa1ngNE_-rj"
      }
    },
    {
      "cell_type": "code",
      "source": [
        "# Load some libraries to do the hard work for us\n",
        "import graphing \n",
        "\n",
        "# Train (fit) the model so that it creates a line that \n",
        "# fits our data. This method does the hard work for\n",
        "# us. We will look at how this method works in a later unit.\n",
        "fitted_model = model.fit()\n",
        "\n",
        "# Print information about our model now it has been fit\n",
        "print(\"The following model parameters have been found:\\n\" +\n",
        "        f\"Line slope: {fitted_model.params[1]}\\n\"+\n",
        "        f\"Line Intercept: {fitted_model.params[0]}\")"
      ],
      "metadata": {
        "colab": {
          "base_uri": "https://localhost:8080/"
        },
        "id": "LFLrBruzA7Yf",
        "outputId": "af84a3a0-38b5-41cf-e912-e0544b69fa21"
      },
      "execution_count": null,
      "outputs": [
        {
          "output_type": "stream",
          "name": "stdout",
          "text": [
            "The following model parameters have been found:\n",
            "Line slope: 0.585925416738271\n",
            "Line Intercept: 5.71910981268259\n"
          ]
        }
      ]
    },
    {
      "cell_type": "markdown",
      "source": [
        "Notice how training the model set its parameters. We could interpret these directly, but it's simpler to see it as a graph:"
      ],
      "metadata": {
        "id": "EwaCQMRQCfHV"
      }
    },
    {
      "cell_type": "code",
      "source": [
        "import graphing\n",
        "\n",
        "# Show a graph of the result\n",
        "# Don't worry about how this works for now\n",
        "graphing.scatter_2D(dataset,    label_x=\"harness_size\", \n",
        "                                label_y=\"boot_size\",\n",
        "                                trendline=lambda x: fitted_model.params[1] * x + fitted_model.params[0]\n",
        "                                )"
      ],
      "metadata": {
        "colab": {
          "base_uri": "https://localhost:8080/",
          "height": 417
        },
        "id": "ukLbGQk7Cf_S",
        "outputId": "fcf9fcb7-223a-4a07-ca3a-cffd977fd930"
      },
      "execution_count": null,
      "outputs": [
        {
          "output_type": "display_data",
          "data": {
            "text/html": [
              "<html>\n",
              "<head><meta charset=\"utf-8\" /></head>\n",
              "<body>\n",
              "    <div>            <script src=\"https://cdnjs.cloudflare.com/ajax/libs/mathjax/2.7.5/MathJax.js?config=TeX-AMS-MML_SVG\"></script><script type=\"text/javascript\">if (window.MathJax) {MathJax.Hub.Config({SVG: {font: \"STIX-Web\"}});}</script>                <script type=\"text/javascript\">window.PlotlyConfig = {MathJaxConfig: 'local'};</script>\n",
              "        <script src=\"https://cdn.plot.ly/plotly-2.8.3.min.js\"></script>                <div id=\"8e88dbc0-58a4-4421-8a98-0b63b2010873\" class=\"plotly-graph-div\" style=\"height:400px; width:100%;\"></div>            <script type=\"text/javascript\">                                    window.PLOTLYENV=window.PLOTLYENV || {};                                    if (document.getElementById(\"8e88dbc0-58a4-4421-8a98-0b63b2010873\")) {                    Plotly.newPlot(                        \"8e88dbc0-58a4-4421-8a98-0b63b2010873\",                        [{\"hovertemplate\":\"harness size=%{x}<br>boot size=%{y}<extra></extra>\",\"legendgroup\":\"\",\"marker\":{\"color\":\"#636efa\",\"symbol\":\"circle\",\"size\":19},\"mode\":\"markers\",\"name\":\"\",\"orientation\":\"v\",\"showlegend\":false,\"x\":[58,58,52,58,57,52,55,53,49,54,59,56,53,58,57,58,56,51,50,59,59,59,55,50,55,52,53,54,61,56,55,60,57,56,61,58,53,57,57,55,60,51,52,56,55,57,58,57,51,59],\"xaxis\":\"x\",\"y\":[39,38,37,39,38,35,37,36,35,40,40,36,38,39,42,42,36,36,35,41,42,38,37,35,40,36,35,39,41,37,35,41,39,41,42,42,36,37,37,39,42,35,36,41,41,41,39,39,35,39],\"yaxis\":\"y\",\"type\":\"scatter\"}],                        {\"template\":{\"data\":{\"barpolar\":[{\"marker\":{\"line\":{\"color\":\"white\",\"width\":0.5},\"pattern\":{\"fillmode\":\"overlay\",\"size\":10,\"solidity\":0.2}},\"type\":\"barpolar\"}],\"bar\":[{\"error_x\":{\"color\":\"#2a3f5f\"},\"error_y\":{\"color\":\"#2a3f5f\"},\"marker\":{\"line\":{\"color\":\"white\",\"width\":0.5},\"pattern\":{\"fillmode\":\"overlay\",\"size\":10,\"solidity\":0.2}},\"type\":\"bar\"}],\"carpet\":[{\"aaxis\":{\"endlinecolor\":\"#2a3f5f\",\"gridcolor\":\"#C8D4E3\",\"linecolor\":\"#C8D4E3\",\"minorgridcolor\":\"#C8D4E3\",\"startlinecolor\":\"#2a3f5f\"},\"baxis\":{\"endlinecolor\":\"#2a3f5f\",\"gridcolor\":\"#C8D4E3\",\"linecolor\":\"#C8D4E3\",\"minorgridcolor\":\"#C8D4E3\",\"startlinecolor\":\"#2a3f5f\"},\"type\":\"carpet\"}],\"choropleth\":[{\"colorbar\":{\"outlinewidth\":0,\"ticks\":\"\"},\"type\":\"choropleth\"}],\"contourcarpet\":[{\"colorbar\":{\"outlinewidth\":0,\"ticks\":\"\"},\"type\":\"contourcarpet\"}],\"contour\":[{\"colorbar\":{\"outlinewidth\":0,\"ticks\":\"\"},\"colorscale\":[[0.0,\"#0d0887\"],[0.1111111111111111,\"#46039f\"],[0.2222222222222222,\"#7201a8\"],[0.3333333333333333,\"#9c179e\"],[0.4444444444444444,\"#bd3786\"],[0.5555555555555556,\"#d8576b\"],[0.6666666666666666,\"#ed7953\"],[0.7777777777777778,\"#fb9f3a\"],[0.8888888888888888,\"#fdca26\"],[1.0,\"#f0f921\"]],\"type\":\"contour\"}],\"heatmapgl\":[{\"colorbar\":{\"outlinewidth\":0,\"ticks\":\"\"},\"colorscale\":[[0.0,\"#0d0887\"],[0.1111111111111111,\"#46039f\"],[0.2222222222222222,\"#7201a8\"],[0.3333333333333333,\"#9c179e\"],[0.4444444444444444,\"#bd3786\"],[0.5555555555555556,\"#d8576b\"],[0.6666666666666666,\"#ed7953\"],[0.7777777777777778,\"#fb9f3a\"],[0.8888888888888888,\"#fdca26\"],[1.0,\"#f0f921\"]],\"type\":\"heatmapgl\"}],\"heatmap\":[{\"colorbar\":{\"outlinewidth\":0,\"ticks\":\"\"},\"colorscale\":[[0.0,\"#0d0887\"],[0.1111111111111111,\"#46039f\"],[0.2222222222222222,\"#7201a8\"],[0.3333333333333333,\"#9c179e\"],[0.4444444444444444,\"#bd3786\"],[0.5555555555555556,\"#d8576b\"],[0.6666666666666666,\"#ed7953\"],[0.7777777777777778,\"#fb9f3a\"],[0.8888888888888888,\"#fdca26\"],[1.0,\"#f0f921\"]],\"type\":\"heatmap\"}],\"histogram2dcontour\":[{\"colorbar\":{\"outlinewidth\":0,\"ticks\":\"\"},\"colorscale\":[[0.0,\"#0d0887\"],[0.1111111111111111,\"#46039f\"],[0.2222222222222222,\"#7201a8\"],[0.3333333333333333,\"#9c179e\"],[0.4444444444444444,\"#bd3786\"],[0.5555555555555556,\"#d8576b\"],[0.6666666666666666,\"#ed7953\"],[0.7777777777777778,\"#fb9f3a\"],[0.8888888888888888,\"#fdca26\"],[1.0,\"#f0f921\"]],\"type\":\"histogram2dcontour\"}],\"histogram2d\":[{\"colorbar\":{\"outlinewidth\":0,\"ticks\":\"\"},\"colorscale\":[[0.0,\"#0d0887\"],[0.1111111111111111,\"#46039f\"],[0.2222222222222222,\"#7201a8\"],[0.3333333333333333,\"#9c179e\"],[0.4444444444444444,\"#bd3786\"],[0.5555555555555556,\"#d8576b\"],[0.6666666666666666,\"#ed7953\"],[0.7777777777777778,\"#fb9f3a\"],[0.8888888888888888,\"#fdca26\"],[1.0,\"#f0f921\"]],\"type\":\"histogram2d\"}],\"histogram\":[{\"marker\":{\"pattern\":{\"fillmode\":\"overlay\",\"size\":10,\"solidity\":0.2},\"line\":{\"width\":1}},\"type\":\"histogram\"}],\"mesh3d\":[{\"colorbar\":{\"outlinewidth\":0,\"ticks\":\"\"},\"type\":\"mesh3d\"}],\"parcoords\":[{\"line\":{\"colorbar\":{\"outlinewidth\":0,\"ticks\":\"\"}},\"type\":\"parcoords\"}],\"pie\":[{\"automargin\":true,\"type\":\"pie\"}],\"scatter3d\":[{\"line\":{\"colorbar\":{\"outlinewidth\":0,\"ticks\":\"\"}},\"marker\":{\"colorbar\":{\"outlinewidth\":0,\"ticks\":\"\"},\"opacity\":0.8},\"type\":\"scatter3d\"}],\"scattercarpet\":[{\"marker\":{\"colorbar\":{\"outlinewidth\":0,\"ticks\":\"\"}},\"type\":\"scattercarpet\"}],\"scattergeo\":[{\"marker\":{\"colorbar\":{\"outlinewidth\":0,\"ticks\":\"\"}},\"type\":\"scattergeo\"}],\"scattergl\":[{\"marker\":{\"colorbar\":{\"outlinewidth\":0,\"ticks\":\"\"}},\"type\":\"scattergl\"}],\"scattermapbox\":[{\"marker\":{\"colorbar\":{\"outlinewidth\":0,\"ticks\":\"\"}},\"type\":\"scattermapbox\"}],\"scatterpolargl\":[{\"marker\":{\"colorbar\":{\"outlinewidth\":0,\"ticks\":\"\"}},\"type\":\"scatterpolargl\"}],\"scatterpolar\":[{\"marker\":{\"colorbar\":{\"outlinewidth\":0,\"ticks\":\"\"}},\"type\":\"scatterpolar\"}],\"scatter\":[{\"marker\":{\"colorbar\":{\"outlinewidth\":0,\"ticks\":\"\"},\"opacity\":0.8},\"type\":\"scatter\"}],\"scatterternary\":[{\"marker\":{\"colorbar\":{\"outlinewidth\":0,\"ticks\":\"\"}},\"type\":\"scatterternary\"}],\"surface\":[{\"colorbar\":{\"outlinewidth\":0,\"ticks\":\"\"},\"colorscale\":[[0.0,\"#0d0887\"],[0.1111111111111111,\"#46039f\"],[0.2222222222222222,\"#7201a8\"],[0.3333333333333333,\"#9c179e\"],[0.4444444444444444,\"#bd3786\"],[0.5555555555555556,\"#d8576b\"],[0.6666666666666666,\"#ed7953\"],[0.7777777777777778,\"#fb9f3a\"],[0.8888888888888888,\"#fdca26\"],[1.0,\"#f0f921\"]],\"type\":\"surface\"}],\"table\":[{\"cells\":{\"fill\":{\"color\":\"#EBF0F8\"},\"line\":{\"color\":\"white\"}},\"header\":{\"fill\":{\"color\":\"#C8D4E3\"},\"line\":{\"color\":\"white\"}},\"type\":\"table\"}],\"box\":[{\"boxpoints\":\"outliers\",\"notched\":false,\"type\":\"box\"}]},\"layout\":{\"annotationdefaults\":{\"arrowcolor\":\"#2a3f5f\",\"arrowhead\":0,\"arrowwidth\":1},\"autotypenumbers\":\"strict\",\"coloraxis\":{\"colorbar\":{\"outlinewidth\":0,\"ticks\":\"\"}},\"colorscale\":{\"diverging\":[[0,\"#8e0152\"],[0.1,\"#c51b7d\"],[0.2,\"#de77ae\"],[0.3,\"#f1b6da\"],[0.4,\"#fde0ef\"],[0.5,\"#f7f7f7\"],[0.6,\"#e6f5d0\"],[0.7,\"#b8e186\"],[0.8,\"#7fbc41\"],[0.9,\"#4d9221\"],[1,\"#276419\"]],\"sequential\":[[0.0,\"#0d0887\"],[0.1111111111111111,\"#46039f\"],[0.2222222222222222,\"#7201a8\"],[0.3333333333333333,\"#9c179e\"],[0.4444444444444444,\"#bd3786\"],[0.5555555555555556,\"#d8576b\"],[0.6666666666666666,\"#ed7953\"],[0.7777777777777778,\"#fb9f3a\"],[0.8888888888888888,\"#fdca26\"],[1.0,\"#f0f921\"]],\"sequentialminus\":[[0.0,\"#0d0887\"],[0.1111111111111111,\"#46039f\"],[0.2222222222222222,\"#7201a8\"],[0.3333333333333333,\"#9c179e\"],[0.4444444444444444,\"#bd3786\"],[0.5555555555555556,\"#d8576b\"],[0.6666666666666666,\"#ed7953\"],[0.7777777777777778,\"#fb9f3a\"],[0.8888888888888888,\"#fdca26\"],[1.0,\"#f0f921\"]]},\"colorway\":[\"#636efa\",\"#EF553B\",\"#00cc96\",\"#ab63fa\",\"#FFA15A\",\"#19d3f3\",\"#FF6692\",\"#B6E880\",\"#FF97FF\",\"#FECB52\"],\"font\":{\"color\":\"#2a3f5f\"},\"geo\":{\"bgcolor\":\"white\",\"lakecolor\":\"white\",\"landcolor\":\"white\",\"showlakes\":true,\"showland\":true,\"subunitcolor\":\"#C8D4E3\"},\"hoverlabel\":{\"align\":\"left\"},\"hovermode\":\"closest\",\"mapbox\":{\"style\":\"light\"},\"paper_bgcolor\":\"white\",\"plot_bgcolor\":\"white\",\"polar\":{\"angularaxis\":{\"gridcolor\":\"#EBF0F8\",\"linecolor\":\"#EBF0F8\",\"ticks\":\"\"},\"bgcolor\":\"white\",\"radialaxis\":{\"gridcolor\":\"#EBF0F8\",\"linecolor\":\"#EBF0F8\",\"ticks\":\"\"}},\"scene\":{\"xaxis\":{\"backgroundcolor\":\"white\",\"gridcolor\":\"#DFE8F3\",\"gridwidth\":2,\"linecolor\":\"#EBF0F8\",\"showbackground\":true,\"ticks\":\"\",\"zerolinecolor\":\"#EBF0F8\"},\"yaxis\":{\"backgroundcolor\":\"white\",\"gridcolor\":\"#DFE8F3\",\"gridwidth\":2,\"linecolor\":\"#EBF0F8\",\"showbackground\":true,\"ticks\":\"\",\"zerolinecolor\":\"#EBF0F8\"},\"zaxis\":{\"backgroundcolor\":\"white\",\"gridcolor\":\"#DFE8F3\",\"gridwidth\":2,\"linecolor\":\"#EBF0F8\",\"showbackground\":true,\"ticks\":\"\",\"zerolinecolor\":\"#EBF0F8\"},\"camera\":{\"eye\":{\"x\":1.5,\"y\":1.5,\"z\":0.1}}},\"shapedefaults\":{\"line\":{\"color\":\"#2a3f5f\"}},\"ternary\":{\"aaxis\":{\"gridcolor\":\"#DFE8F3\",\"linecolor\":\"#A2B1C6\",\"ticks\":\"\"},\"baxis\":{\"gridcolor\":\"#DFE8F3\",\"linecolor\":\"#A2B1C6\",\"ticks\":\"\"},\"bgcolor\":\"white\",\"caxis\":{\"gridcolor\":\"#DFE8F3\",\"linecolor\":\"#A2B1C6\",\"ticks\":\"\"}},\"title\":{\"x\":0.5},\"xaxis\":{\"automargin\":true,\"gridcolor\":\"#EBF0F8\",\"linecolor\":\"#EBF0F8\",\"ticks\":\"\",\"title\":{\"standoff\":15},\"zerolinecolor\":\"#EBF0F8\",\"zerolinewidth\":2,\"linewidth\":2,\"showline\":true},\"yaxis\":{\"automargin\":true,\"gridcolor\":\"#EBF0F8\",\"linecolor\":\"#EBF0F8\",\"ticks\":\"\",\"title\":{\"standoff\":15},\"zerolinecolor\":\"#EBF0F8\",\"zerolinewidth\":2,\"linewidth\":2,\"showline\":true},\"height\":400,\"margin\":{\"b\":2,\"l\":2,\"r\":2,\"t\":30}}},\"xaxis\":{\"anchor\":\"y\",\"domain\":[0.0,1.0],\"title\":{\"text\":\"harness size\"}},\"yaxis\":{\"anchor\":\"x\",\"domain\":[0.0,1.0],\"title\":{\"text\":\"boot size\"}},\"legend\":{\"tracegroupgap\":0},\"shapes\":[{\"path\":\"M49.0 34.42945523285787 L 49.06030150753769 34.464787418791836 L 49.120603015075375 34.5001196047258 L 49.18090452261306 34.53545179065977 L 49.24120603015076 34.57078397659374 L 49.301507537688444 34.606116162527705 L 49.36180904522613 34.641448348461665 L 49.42211055276382 34.67678053439563 L 49.482412060301506 34.7121127203296 L 49.54271356783919 34.74744490626357 L 49.60301507537689 34.782777092197534 L 49.663316582914575 34.8181092781315 L 49.72361809045226 34.85344146406547 L 49.78391959798995 34.88877364999943 L 49.84422110552764 34.924105835933396 L 49.904522613065325 34.95943802186736 L 49.96482412060301 34.99477020780133 L 50.02512562814071 35.0301023937353 L 50.085427135678394 35.065434579669265 L 50.14572864321608 35.100766765603225 L 50.20603015075377 35.13609895153719 L 50.266331658291456 35.17143113747116 L 50.32663316582914 35.20676332340513 L 50.38693467336683 35.24209550933909 L 50.447236180904525 35.27742769527306 L 50.50753768844221 35.31275988120702 L 50.5678391959799 35.34809206714099 L 50.62814070351759 35.383424253074956 L 50.688442211055275 35.418756439008924 L 50.74874371859296 35.454088624942884 L 50.80904522613065 35.48942081087685 L 50.869346733668344 35.524752996810825 L 50.92964824120603 35.560085182744785 L 50.98994974874372 35.59541736867875 L 51.050251256281406 35.63074955461272 L 51.11055276381909 35.66608174054668 L 51.17085427135678 35.70141392648065 L 51.231155778894475 35.73674611241462 L 51.29145728643216 35.77207829834858 L 51.35175879396985 35.80741048428255 L 51.41206030150754 35.842742670216516 L 51.472361809045225 35.878074856150484 L 51.53266331658291 35.913407042084444 L 51.5929648241206 35.94873922801841 L 51.653266331658294 35.98407141395238 L 51.71356783919598 36.019403599886346 L 51.77386934673367 36.05473578582031 L 51.834170854271356 36.09006797175428 L 51.89447236180904 36.12540015768824 L 51.95477386934673 36.16073234362221 L 52.015075376884425 36.196064529556175 L 52.07537688442211 36.23139671549014 L 52.1356783919598 36.26672890142411 L 52.19597989949749 36.30206108735808 L 52.256281407035175 36.33739327329204 L 52.31658291457286 36.372725459226004 L 52.37688442211055 36.40805764515997 L 52.437185929648244 36.44338983109394 L 52.49748743718593 36.478722017027906 L 52.55778894472362 36.51405420296187 L 52.618090452261306 36.54938638889584 L 52.678391959798994 36.5847185748298 L 52.73869346733668 36.62005076076377 L 52.798994974874375 36.655382946697735 L 52.85929648241206 36.6907151326317 L 52.91959798994975 36.72604731856567 L 52.97989949748744 36.76137950449964 L 53.040201005025125 36.7967116904336 L 53.10050251256281 36.832043876367564 L 53.1608040201005 36.86737606230153 L 53.22110552763819 36.9027082482355 L 53.28140703517588 36.938040434169466 L 53.34170854271357 36.97337262010343 L 53.402010050251256 37.00870480603739 L 53.462311557788944 37.04403699197136 L 53.52261306532663 37.07936917790533 L 53.58291457286432 37.114701363839295 L 53.64321608040201 37.15003354977326 L 53.7035175879397 37.18536573570723 L 53.76381909547739 37.2206979216412 L 53.824120603015075 37.25603010757516 L 53.88442211055276 37.291362293509124 L 53.94472361809045 37.32669447944309 L 54.00502512562814 37.36202666537706 L 54.06532663316583 37.397358851311026 L 54.12562814070352 37.43269103724499 L 54.185929648241206 37.46802322317895 L 54.246231155778894 37.50335540911292 L 54.30653266331658 37.53868759504689 L 54.36683417085427 37.574019780980855 L 54.42713567839196 37.60935196691482 L 54.48743718592965 37.64468415284879 L 54.54773869346734 37.68001633878275 L 54.608040201005025 37.71534852471672 L 54.66834170854271 37.750680710650684 L 54.7286432160804 37.786012896584644 L 54.78894472361809 37.82134508251861 L 54.84924623115578 37.856677268452586 L 54.90954773869347 37.892009454386546 L 54.969849246231156 37.92734164032051 L 55.030150753768844 37.96267382625448 L 55.09045226130653 37.99800601218844 L 55.15075376884422 38.03333819812241 L 55.21105527638191 38.06867038405638 L 55.2713567839196 38.10400256999034 L 55.33165829145729 38.13933475592431 L 55.391959798994975 38.17466694185828 L 55.45226130653266 38.209999127792244 L 55.51256281407035 38.245331313726204 L 55.57286432160804 38.28066349966017 L 55.633165829145725 38.31599568559414 L 55.69346733668342 38.351327871528106 L 55.753768844221106 38.38666005746207 L 55.814070351758794 38.42199224339604 L 55.87437185929648 38.45732442933 L 55.93467336683417 38.49265661526397 L 55.99497487437186 38.527988801197935 L 56.05527638190955 38.5633209871319 L 56.11557788944724 38.59865317306587 L 56.175879396984925 38.63398535899984 L 56.23618090452261 38.6693175449338 L 56.2964824120603 38.704649730867764 L 56.35678391959799 38.73998191680173 L 56.417085427135675 38.7753141027357 L 56.47738693467337 38.810646288669666 L 56.537688442211056 38.84597847460363 L 56.597989949748744 38.8813106605376 L 56.65829145728643 38.91664284647156 L 56.71859296482412 38.95197503240553 L 56.778894472361806 38.987307218339495 L 56.8391959798995 39.02263940427346 L 56.89949748743719 39.05797159020743 L 56.959798994974875 39.0933037761414 L 57.02010050251256 39.12863596207536 L 57.08040201005025 39.163968148009324 L 57.14070351758794 39.19930033394329 L 57.201005025125625 39.23463251987726 L 57.26130653266331 39.26996470581122 L 57.321608040201006 39.30529689174519 L 57.381909547738694 39.340629077679154 L 57.44221105527638 39.37596126361312 L 57.50251256281407 39.41129344954709 L 57.562814070351756 39.446625635481055 L 57.62311557788945 39.48195782141502 L 57.68341708542714 39.51729000734899 L 57.743718592964825 39.55262219328296 L 57.80402010050251 39.58795437921692 L 57.8643216080402 39.623286565150885 L 57.92462311557789 39.65861875108485 L 57.984924623115575 39.69395093701882 L 58.04522613065326 39.72928312295278 L 58.10552763819096 39.764615308886754 L 58.165829145728644 39.799947494820714 L 58.22613065326633 39.83527968075468 L 58.28643216080402 39.87061186668865 L 58.346733668341706 39.905944052622615 L 58.4070351758794 39.94127623855658 L 58.46733668341709 39.97660842449055 L 58.527638190954775 40.01194061042451 L 58.58793969849246 40.04727279635848 L 58.64824120603015 40.082604982292445 L 58.70854271356784 40.11793716822641 L 58.768844221105525 40.15326935416037 L 58.82914572864321 40.18860154009434 L 58.88944723618091 40.223933726028314 L 58.949748743718594 40.259265911962274 L 59.01005025125628 40.29459809789624 L 59.07035175879397 40.32993028383021 L 59.130653266331656 40.36526246976417 L 59.19095477386935 40.40059465569814 L 59.25125628140704 40.43592684163211 L 59.311557788944725 40.47125902756607 L 59.37185929648241 40.50659121350004 L 59.4321608040201 40.541923399434005 L 59.49246231155779 40.57725558536797 L 59.552763819095475 40.61258777130193 L 59.61306532663316 40.6479199572359 L 59.67336683417085 40.68325214316987 L 59.733668341708544 40.718584329103834 L 59.79396984924623 40.7539165150378 L 59.85427135678392 40.78924870097177 L 59.914572864321606 40.82458088690573 L 59.97487437185929 40.859913072839696 L 60.03517587939699 40.89524525877366 L 60.095477386934675 40.93057744470763 L 60.15577889447236 40.9659096306416 L 60.21608040201005 41.001241816575565 L 60.27638190954774 41.036574002509525 L 60.336683417085425 41.07190618844349 L 60.39698492462311 41.10723837437746 L 60.4572864321608 41.14257056031143 L 60.517587939698494 41.177902746245394 L 60.57788944723618 41.21323493217936 L 60.63819095477387 41.24856711811333 L 60.698492462311556 41.28389930404729 L 60.75879396984924 41.319231489981256 L 60.81909547738694 41.35456367591522 L 60.879396984924625 41.38989586184919 L 60.93969849246231 41.42522804778316 L 61.0 41.460560233717125\",\"type\":\"path\",\"line\":{\"color\":\"rgb(228,26,28)\"}}]},                        {\"responsive\": true}                    ).then(function(){\n",
              "                            \n",
              "var gd = document.getElementById('8e88dbc0-58a4-4421-8a98-0b63b2010873');\n",
              "var x = new MutationObserver(function (mutations, observer) {{\n",
              "        var display = window.getComputedStyle(gd).display;\n",
              "        if (!display || display === 'none') {{\n",
              "            console.log([gd, 'removed!']);\n",
              "            Plotly.purge(gd);\n",
              "            observer.disconnect();\n",
              "        }}\n",
              "}});\n",
              "\n",
              "// Listen for the removal of the full notebook cells\n",
              "var notebookContainer = gd.closest('#notebook-container');\n",
              "if (notebookContainer) {{\n",
              "    x.observe(notebookContainer, {childList: true});\n",
              "}}\n",
              "\n",
              "// Listen for the clearing of the current output cell\n",
              "var outputEl = gd.closest('.output');\n",
              "if (outputEl) {{\n",
              "    x.observe(outputEl, {childList: true});\n",
              "}}\n",
              "\n",
              "                        })                };                            </script>        </div>\n",
              "</body>\n",
              "</html>"
            ]
          },
          "metadata": {}
        }
      ]
    },
    {
      "cell_type": "markdown",
      "source": [
        "The graph above shows our original data as circles with a red line through it. The red line shows our _model_.\n",
        "\n",
        "We can look at this line to understand our model. For example, we can see that as harness size increases, so will the estimated boot size. \n",
        "\n",
        "**Use the model**\n",
        "\n",
        "Now that we've finished training, we can use our model to predict a dog's boot size from their harness size. \n",
        "\n",
        "For example, by looking at the red line, we can see that that a harness size of `52.5` (x axis) corresponds to a boot size of about `36.5` (y axis).\n",
        "\n",
        "We don't have to do this by eye though. We can use the model in our program to predict any boot size we like. Run the following code to see how we can use our model now that it's trained:"
      ],
      "metadata": {
        "id": "gyEMe4_5C60O"
      }
    },
    {
      "cell_type": "code",
      "source": [
        "# harness_size states the size of the harness we are interested in\n",
        "harness_size = { 'harness_size' : [52.5] }\n",
        "\n",
        "# Use the model to predict what size of boots the dog will fit\n",
        "approximate_boot_size = fitted_model.predict(harness_size)\n",
        "\n",
        "# Print the result\n",
        "print(\"Estimated approximate_boot_size:\")\n",
        "print(approximate_boot_size[0])"
      ],
      "metadata": {
        "colab": {
          "base_uri": "https://localhost:8080/"
        },
        "id": "GTeERugiDWx_",
        "outputId": "78bd573e-19c0-4775-fc20-df82eb426da0"
      },
      "execution_count": null,
      "outputs": [
        {
          "output_type": "stream",
          "name": "stdout",
          "text": [
            "Estimated approximate_boot_size:\n",
            "36.48019419144182\n"
          ]
        }
      ]
    },
    {
      "cell_type": "markdown",
      "source": [
        "If you'd like, change the value of `52.5` in `harness_size` to a new value and run the block above to see the model in action.\n",
        "\n",
        "**Summary**\n",
        "\n",
        "Well done! You've trained your first model. We've demonstrated some topics here without detailed explanation in order to just get your feet wet. In later units, we'll explain many of these topics in more detail."
      ],
      "metadata": {
        "id": "ALSctpbPDf9T"
      }
    },
    {
      "cell_type": "markdown",
      "source": [
        "## ¿Qué son las entradas y salidas?\n",
        "\n",
        "El objetivo de un entrenamiento es mejorar el modelo para que pueda realizar predicciones o estimacion de alta calidad, los modelos se entrenan con datos y dos fracmentos de codigo:\n",
        "\n",
        "- Datos\n",
        "- Función Objetivo (Código)\n",
        "- Optimizador (Código)\n",
        "\n",
        "**Datos**\n",
        "\n",
        "Información que le proporcionamos al modelo (entrada)\n",
        "\n",
        "\n",
        "\n",
        "**Funcion Objetivo:**\n",
        "\n",
        "El objetivo es lo que quermos que nuestro modelo pueda hacer, para que pueda comprender nuesto objetivo debemos proporcionarle un fragmento de código denominado **función objetivo**, tambien conocido como función costo, esta evalua si el modelo es eficaz o no.\n",
        "\n",
        "**El optimizador**\n",
        "\n",
        "Código que cambia los parametros del modelo para que sea más eficaz la proxima vez\n",
        "\n"
      ],
      "metadata": {
        "id": "AScv9rHV3bto"
      }
    },
    {
      "cell_type": "markdown",
      "source": [
        "##Ejercicio: Visualización de entradas y salidas"
      ],
      "metadata": {
        "id": "Rc1Z0e2x5aut"
      }
    },
    {
      "cell_type": "markdown",
      "source": [
        "### Exercise: Datasets in Python\n",
        "\n",
        "In the previous exercise, we loaded some data and fit a model to it. Several aspects of this were simplified, particularly that the data was hard-coded into our python script, and we didn't spend any time really looking at the data itself.\n",
        "\n",
        "Here, we'll load data from a file, filter it, and graph it. Doing so is a very important first step in order to build proper models, or to understand their limitations.\n",
        "\n",
        "As before, there's no need to edit any code in the examples in this unit. Try to read it, understand it, then press the **Run** button to run it. As always, it's vitally important that these code blocks are run in the correct order, and nothing is missed.\n",
        "\n",
        "**Load data with Pandas**\n",
        "\n",
        "There are large variety of libraries that help you work with data. In Python, one of the most common is _Pandas_. We used pandas briefly in the previous exercise. Pandas can open data saved as text files and store it in an organized table called a `DataFrame`.\n",
        "\n",
        "Let's open some text data that's stored on disk. Our data is saved in a file called `doggy-boot-harness.csv`."
      ],
      "metadata": {
        "id": "oPaPV1kB5fam"
      }
    },
    {
      "cell_type": "code",
      "source": [
        "import pandas\n",
        "!wget https://raw.githubusercontent.com/MicrosoftDocs/mslearn-introduction-to-machine-learning/main/graphing.py\n",
        "!wget https://raw.githubusercontent.com/MicrosoftDocs/mslearn-introduction-to-machine-learning/main/Data/doggy-boot-harness.csv\n",
        "\n",
        "# Read the text file containing data using pandas\n",
        "dataset = pandas.read_csv('doggy-boot-harness.csv')\n",
        "\n",
        "# Print the data\n",
        "# Because there are a lot of data, use head() to only print the first few rows\n",
        "dataset.head()"
      ],
      "metadata": {
        "colab": {
          "base_uri": "https://localhost:8080/",
          "height": 588
        },
        "id": "m198Fmbv6ILR",
        "outputId": "3b0518b2-2967-4fe1-87b7-85c0875d6c1a"
      },
      "execution_count": 1,
      "outputs": [
        {
          "output_type": "stream",
          "name": "stdout",
          "text": [
            "--2023-03-10 14:24:32--  https://raw.githubusercontent.com/MicrosoftDocs/mslearn-introduction-to-machine-learning/main/graphing.py\n",
            "Resolving raw.githubusercontent.com (raw.githubusercontent.com)... 185.199.110.133, 185.199.108.133, 185.199.109.133, ...\n",
            "Connecting to raw.githubusercontent.com (raw.githubusercontent.com)|185.199.110.133|:443... connected.\n",
            "HTTP request sent, awaiting response... 200 OK\n",
            "Length: 21511 (21K) [text/plain]\n",
            "Saving to: ‘graphing.py’\n",
            "\n",
            "\rgraphing.py           0%[                    ]       0  --.-KB/s               \rgraphing.py         100%[===================>]  21.01K  --.-KB/s    in 0s      \n",
            "\n",
            "2023-03-10 14:24:32 (73.2 MB/s) - ‘graphing.py’ saved [21511/21511]\n",
            "\n",
            "--2023-03-10 14:24:32--  https://raw.githubusercontent.com/MicrosoftDocs/mslearn-introduction-to-machine-learning/main/Data/doggy-boot-harness.csv\n",
            "Resolving raw.githubusercontent.com (raw.githubusercontent.com)... 185.199.108.133, 185.199.110.133, 185.199.109.133, ...\n",
            "Connecting to raw.githubusercontent.com (raw.githubusercontent.com)|185.199.108.133|:443... connected.\n",
            "HTTP request sent, awaiting response... 200 OK\n",
            "Length: 838 [text/plain]\n",
            "Saving to: ‘doggy-boot-harness.csv’\n",
            "\n",
            "doggy-boot-harness. 100%[===================>]     838  --.-KB/s    in 0s      \n",
            "\n",
            "2023-03-10 14:24:32 (33.1 MB/s) - ‘doggy-boot-harness.csv’ saved [838/838]\n",
            "\n"
          ]
        },
        {
          "output_type": "execute_result",
          "data": {
            "text/plain": [
              "   boot_size  harness_size     sex  age_years\n",
              "0         39            58    male       12.0\n",
              "1         38            58    male        9.6\n",
              "2         37            52  female        8.6\n",
              "3         39            58    male       10.2\n",
              "4         38            57    male        7.8"
            ],
            "text/html": [
              "\n",
              "  <div id=\"df-da9b7cd7-47f3-40ff-82a6-b6d9d18da302\">\n",
              "    <div class=\"colab-df-container\">\n",
              "      <div>\n",
              "<style scoped>\n",
              "    .dataframe tbody tr th:only-of-type {\n",
              "        vertical-align: middle;\n",
              "    }\n",
              "\n",
              "    .dataframe tbody tr th {\n",
              "        vertical-align: top;\n",
              "    }\n",
              "\n",
              "    .dataframe thead th {\n",
              "        text-align: right;\n",
              "    }\n",
              "</style>\n",
              "<table border=\"1\" class=\"dataframe\">\n",
              "  <thead>\n",
              "    <tr style=\"text-align: right;\">\n",
              "      <th></th>\n",
              "      <th>boot_size</th>\n",
              "      <th>harness_size</th>\n",
              "      <th>sex</th>\n",
              "      <th>age_years</th>\n",
              "    </tr>\n",
              "  </thead>\n",
              "  <tbody>\n",
              "    <tr>\n",
              "      <th>0</th>\n",
              "      <td>39</td>\n",
              "      <td>58</td>\n",
              "      <td>male</td>\n",
              "      <td>12.0</td>\n",
              "    </tr>\n",
              "    <tr>\n",
              "      <th>1</th>\n",
              "      <td>38</td>\n",
              "      <td>58</td>\n",
              "      <td>male</td>\n",
              "      <td>9.6</td>\n",
              "    </tr>\n",
              "    <tr>\n",
              "      <th>2</th>\n",
              "      <td>37</td>\n",
              "      <td>52</td>\n",
              "      <td>female</td>\n",
              "      <td>8.6</td>\n",
              "    </tr>\n",
              "    <tr>\n",
              "      <th>3</th>\n",
              "      <td>39</td>\n",
              "      <td>58</td>\n",
              "      <td>male</td>\n",
              "      <td>10.2</td>\n",
              "    </tr>\n",
              "    <tr>\n",
              "      <th>4</th>\n",
              "      <td>38</td>\n",
              "      <td>57</td>\n",
              "      <td>male</td>\n",
              "      <td>7.8</td>\n",
              "    </tr>\n",
              "  </tbody>\n",
              "</table>\n",
              "</div>\n",
              "      <button class=\"colab-df-convert\" onclick=\"convertToInteractive('df-da9b7cd7-47f3-40ff-82a6-b6d9d18da302')\"\n",
              "              title=\"Convert this dataframe to an interactive table.\"\n",
              "              style=\"display:none;\">\n",
              "        \n",
              "  <svg xmlns=\"http://www.w3.org/2000/svg\" height=\"24px\"viewBox=\"0 0 24 24\"\n",
              "       width=\"24px\">\n",
              "    <path d=\"M0 0h24v24H0V0z\" fill=\"none\"/>\n",
              "    <path d=\"M18.56 5.44l.94 2.06.94-2.06 2.06-.94-2.06-.94-.94-2.06-.94 2.06-2.06.94zm-11 1L8.5 8.5l.94-2.06 2.06-.94-2.06-.94L8.5 2.5l-.94 2.06-2.06.94zm10 10l.94 2.06.94-2.06 2.06-.94-2.06-.94-.94-2.06-.94 2.06-2.06.94z\"/><path d=\"M17.41 7.96l-1.37-1.37c-.4-.4-.92-.59-1.43-.59-.52 0-1.04.2-1.43.59L10.3 9.45l-7.72 7.72c-.78.78-.78 2.05 0 2.83L4 21.41c.39.39.9.59 1.41.59.51 0 1.02-.2 1.41-.59l7.78-7.78 2.81-2.81c.8-.78.8-2.07 0-2.86zM5.41 20L4 18.59l7.72-7.72 1.47 1.35L5.41 20z\"/>\n",
              "  </svg>\n",
              "      </button>\n",
              "      \n",
              "  <style>\n",
              "    .colab-df-container {\n",
              "      display:flex;\n",
              "      flex-wrap:wrap;\n",
              "      gap: 12px;\n",
              "    }\n",
              "\n",
              "    .colab-df-convert {\n",
              "      background-color: #E8F0FE;\n",
              "      border: none;\n",
              "      border-radius: 50%;\n",
              "      cursor: pointer;\n",
              "      display: none;\n",
              "      fill: #1967D2;\n",
              "      height: 32px;\n",
              "      padding: 0 0 0 0;\n",
              "      width: 32px;\n",
              "    }\n",
              "\n",
              "    .colab-df-convert:hover {\n",
              "      background-color: #E2EBFA;\n",
              "      box-shadow: 0px 1px 2px rgba(60, 64, 67, 0.3), 0px 1px 3px 1px rgba(60, 64, 67, 0.15);\n",
              "      fill: #174EA6;\n",
              "    }\n",
              "\n",
              "    [theme=dark] .colab-df-convert {\n",
              "      background-color: #3B4455;\n",
              "      fill: #D2E3FC;\n",
              "    }\n",
              "\n",
              "    [theme=dark] .colab-df-convert:hover {\n",
              "      background-color: #434B5C;\n",
              "      box-shadow: 0px 1px 3px 1px rgba(0, 0, 0, 0.15);\n",
              "      filter: drop-shadow(0px 1px 2px rgba(0, 0, 0, 0.3));\n",
              "      fill: #FFFFFF;\n",
              "    }\n",
              "  </style>\n",
              "\n",
              "      <script>\n",
              "        const buttonEl =\n",
              "          document.querySelector('#df-da9b7cd7-47f3-40ff-82a6-b6d9d18da302 button.colab-df-convert');\n",
              "        buttonEl.style.display =\n",
              "          google.colab.kernel.accessAllowed ? 'block' : 'none';\n",
              "\n",
              "        async function convertToInteractive(key) {\n",
              "          const element = document.querySelector('#df-da9b7cd7-47f3-40ff-82a6-b6d9d18da302');\n",
              "          const dataTable =\n",
              "            await google.colab.kernel.invokeFunction('convertToInteractive',\n",
              "                                                     [key], {});\n",
              "          if (!dataTable) return;\n",
              "\n",
              "          const docLinkHtml = 'Like what you see? Visit the ' +\n",
              "            '<a target=\"_blank\" href=https://colab.research.google.com/notebooks/data_table.ipynb>data table notebook</a>'\n",
              "            + ' to learn more about interactive tables.';\n",
              "          element.innerHTML = '';\n",
              "          dataTable['output_type'] = 'display_data';\n",
              "          await google.colab.output.renderOutput(dataTable, element);\n",
              "          const docLink = document.createElement('div');\n",
              "          docLink.innerHTML = docLinkHtml;\n",
              "          element.appendChild(docLink);\n",
              "        }\n",
              "      </script>\n",
              "    </div>\n",
              "  </div>\n",
              "  "
            ]
          },
          "metadata": {},
          "execution_count": 1
        }
      ]
    },
    {
      "cell_type": "markdown",
      "source": [
        "As you can see, this dataset contains information about dogs, including their doggy boot size, harness size, sex, and age in years.\n",
        "\n",
        "Data is stored as columns and rows, similar to a table you might see in Excel.\n",
        "\n",
        "**Filter data by Columns**\n",
        "\n",
        "Data is easy to filter by columns. We can either type this directly, like `dataset.my_column_name`, or like so: `dataset[\"my_column_name\"]`.\n",
        "\n",
        "We can use this to either extract data, or to delete data.\n",
        "\n",
        "Lets take a look at the harness sizes, and delete the `sex` and `age_years` columns."
      ],
      "metadata": {
        "id": "1U4Kth8N6V1k"
      }
    }
  ]
}